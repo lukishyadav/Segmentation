{
 "cells": [
  {
   "cell_type": "markdown",
   "metadata": {},
   "source": [
    "It is assumed that a majority of rentals only take place on a single day.  When looking at rentals in the future, it is worthwhile to look at which days the minutes of the rentals fall on, or is it sufficient to just look at which day the rental started?"
   ]
  },
  {
   "cell_type": "code",
   "execution_count": 1,
   "metadata": {},
   "outputs": [
    {
     "data": {
      "text/html": [
       "<div>\n",
       "<style scoped>\n",
       "    .dataframe tbody tr th:only-of-type {\n",
       "        vertical-align: middle;\n",
       "    }\n",
       "\n",
       "    .dataframe tbody tr th {\n",
       "        vertical-align: top;\n",
       "    }\n",
       "\n",
       "    .dataframe thead th {\n",
       "        text-align: right;\n",
       "    }\n",
       "</style>\n",
       "<table border=\"1\" class=\"dataframe\">\n",
       "  <thead>\n",
       "    <tr style=\"text-align: right;\">\n",
       "      <th></th>\n",
       "      <th>customer_id</th>\n",
       "      <th>booked_at</th>\n",
       "      <th>end_datetime</th>\n",
       "    </tr>\n",
       "  </thead>\n",
       "  <tbody>\n",
       "    <tr>\n",
       "      <th>0</th>\n",
       "      <td>64158</td>\n",
       "      <td>2019-04-07 11:21:55.344302-07:00</td>\n",
       "      <td>2019-04-07 13:17:30.764021-07:00</td>\n",
       "    </tr>\n",
       "    <tr>\n",
       "      <th>1</th>\n",
       "      <td>33699</td>\n",
       "      <td>2019-04-07 12:52:03.986789-07:00</td>\n",
       "      <td>2019-04-07 13:18:03.711688-07:00</td>\n",
       "    </tr>\n",
       "    <tr>\n",
       "      <th>2</th>\n",
       "      <td>30245</td>\n",
       "      <td>2019-03-20 12:24:49.234084-07:00</td>\n",
       "      <td>2019-03-21 12:15:39.886185-07:00</td>\n",
       "    </tr>\n",
       "    <tr>\n",
       "      <th>3</th>\n",
       "      <td>15805</td>\n",
       "      <td>2019-04-07 12:38:10.330633-07:00</td>\n",
       "      <td>2019-04-07 12:47:57.782033-07:00</td>\n",
       "    </tr>\n",
       "    <tr>\n",
       "      <th>4</th>\n",
       "      <td>24653</td>\n",
       "      <td>2019-04-07 13:23:13.271124-07:00</td>\n",
       "      <td>2019-04-07 13:44:37.190946-07:00</td>\n",
       "    </tr>\n",
       "  </tbody>\n",
       "</table>\n",
       "</div>"
      ],
      "text/plain": [
       "   customer_id                        booked_at  \\\n",
       "0        64158 2019-04-07 11:21:55.344302-07:00   \n",
       "1        33699 2019-04-07 12:52:03.986789-07:00   \n",
       "2        30245 2019-03-20 12:24:49.234084-07:00   \n",
       "3        15805 2019-04-07 12:38:10.330633-07:00   \n",
       "4        24653 2019-04-07 13:23:13.271124-07:00   \n",
       "\n",
       "                      end_datetime  \n",
       "0 2019-04-07 13:17:30.764021-07:00  \n",
       "1 2019-04-07 13:18:03.711688-07:00  \n",
       "2 2019-03-21 12:15:39.886185-07:00  \n",
       "3 2019-04-07 12:47:57.782033-07:00  \n",
       "4 2019-04-07 13:44:37.190946-07:00  "
      ]
     },
     "execution_count": 1,
     "metadata": {},
     "output_type": "execute_result"
    }
   ],
   "source": [
    "# read in a CSV data of rentals with customer ID, booked datetime, and end datetime\n",
    "import numpy as np\n",
    "import matplotlib.pyplot as plt\n",
    "import pandas as pd\n",
    "\n",
    "\n",
    "# rentals = pd.read_csv('UntitledChart_2019-6-13_1228.csv')  # eiffel\n",
    "rentals = pd.read_csv('UntitledChart_2019-6-14_1553.csv')  # darwin\n",
    "# rentals = pd.read_csv('UntitledChart_2019-6-14_1603.csv')  # olympia\n",
    "\n",
    "\n",
    "# create a new column with the timestamp correctly parsed as UTC and then converted to Madrid\n",
    "# rentals['booked_at'] = pd.to_datetime(rentals['object_data-rental_booked_at']).dt.tz_localize('UTC').dt.tz_convert('Europe/Madrid')\n",
    "# rentals['end_datetime'] = pd.to_datetime(rentals['object_data-rental_ended_at']).dt.tz_localize('UTC').dt.tz_convert('Europe/Madrid')\n",
    "rentals['booked_at'] = pd.to_datetime(rentals['object_data-rental_booked_at']).dt.tz_localize('UTC').dt.tz_convert('America/Los_Angeles')\n",
    "rentals['end_datetime'] = pd.to_datetime(rentals['object_data-rental_ended_at']).dt.tz_localize('UTC').dt.tz_convert('America/Los_Angeles')\n",
    "rentals.drop(['object_data-rental_booked_at', 'object_data-rental_ended_at'], axis=1, inplace=True)  # remove the original column\n",
    "rentals.rename(columns={'object_data-customer_id': 'customer_id'}, inplace=True)\n",
    "\n",
    "rentals.head()"
   ]
  },
  {
   "cell_type": "code",
   "execution_count": 2,
   "metadata": {},
   "outputs": [
    {
     "data": {
      "text/plain": [
       "count                     64780\n",
       "mean     0 days 02:36:20.656651\n",
       "std      0 days 06:27:32.723300\n",
       "min             0 days 00:00:00\n",
       "25%      0 days 00:09:46.321572\n",
       "50%      0 days 00:18:58.883895\n",
       "75%      0 days 00:59:58.513992\n",
       "max      6 days 17:46:22.559431\n",
       "dtype: object"
      ]
     },
     "execution_count": 2,
     "metadata": {},
     "output_type": "execute_result"
    }
   ],
   "source": [
    "# casual stats about the rental data\n",
    "(rentals['end_datetime'] - rentals['booked_at']).describe()"
   ]
  },
  {
   "cell_type": "code",
   "execution_count": 3,
   "metadata": {},
   "outputs": [],
   "source": [
    "# rentals which do not start and end on the same day\n",
    "rentals['multiday'] = rentals.booked_at.dt.date != rentals.end_datetime.dt.date"
   ]
  },
  {
   "cell_type": "code",
   "execution_count": 4,
   "metadata": {},
   "outputs": [
    {
     "data": {
      "text/html": [
       "<div>\n",
       "<style scoped>\n",
       "    .dataframe tbody tr th:only-of-type {\n",
       "        vertical-align: middle;\n",
       "    }\n",
       "\n",
       "    .dataframe tbody tr th {\n",
       "        vertical-align: top;\n",
       "    }\n",
       "\n",
       "    .dataframe thead th {\n",
       "        text-align: right;\n",
       "    }\n",
       "</style>\n",
       "<table border=\"1\" class=\"dataframe\">\n",
       "  <thead>\n",
       "    <tr style=\"text-align: right;\">\n",
       "      <th></th>\n",
       "      <th>customer_id</th>\n",
       "      <th>booked_at</th>\n",
       "      <th>end_datetime</th>\n",
       "      <th>multiday</th>\n",
       "    </tr>\n",
       "  </thead>\n",
       "  <tbody>\n",
       "    <tr>\n",
       "      <th>2</th>\n",
       "      <td>30245</td>\n",
       "      <td>2019-03-20 12:24:49.234084-07:00</td>\n",
       "      <td>2019-03-21 12:15:39.886185-07:00</td>\n",
       "      <td>True</td>\n",
       "    </tr>\n",
       "    <tr>\n",
       "      <th>23</th>\n",
       "      <td>24923</td>\n",
       "      <td>2019-04-21 08:25:01.226723-07:00</td>\n",
       "      <td>2019-04-22 08:02:34.554205-07:00</td>\n",
       "      <td>True</td>\n",
       "    </tr>\n",
       "    <tr>\n",
       "      <th>25</th>\n",
       "      <td>68467</td>\n",
       "      <td>2019-05-04 17:47:46.365000-07:00</td>\n",
       "      <td>2019-05-05 17:49:26.913105-07:00</td>\n",
       "      <td>True</td>\n",
       "    </tr>\n",
       "    <tr>\n",
       "      <th>29</th>\n",
       "      <td>60305</td>\n",
       "      <td>2019-04-01 22:45:11.345331-07:00</td>\n",
       "      <td>2019-04-02 22:51:43.779388-07:00</td>\n",
       "      <td>True</td>\n",
       "    </tr>\n",
       "    <tr>\n",
       "      <th>32</th>\n",
       "      <td>52400</td>\n",
       "      <td>2019-04-30 19:50:45.080816-07:00</td>\n",
       "      <td>2019-05-01 20:12:51.245163-07:00</td>\n",
       "      <td>True</td>\n",
       "    </tr>\n",
       "  </tbody>\n",
       "</table>\n",
       "</div>"
      ],
      "text/plain": [
       "    customer_id                        booked_at  \\\n",
       "2         30245 2019-03-20 12:24:49.234084-07:00   \n",
       "23        24923 2019-04-21 08:25:01.226723-07:00   \n",
       "25        68467 2019-05-04 17:47:46.365000-07:00   \n",
       "29        60305 2019-04-01 22:45:11.345331-07:00   \n",
       "32        52400 2019-04-30 19:50:45.080816-07:00   \n",
       "\n",
       "                       end_datetime  multiday  \n",
       "2  2019-03-21 12:15:39.886185-07:00      True  \n",
       "23 2019-04-22 08:02:34.554205-07:00      True  \n",
       "25 2019-05-05 17:49:26.913105-07:00      True  \n",
       "29 2019-04-02 22:51:43.779388-07:00      True  \n",
       "32 2019-05-01 20:12:51.245163-07:00      True  "
      ]
     },
     "execution_count": 4,
     "metadata": {},
     "output_type": "execute_result"
    }
   ],
   "source": [
    "# multiday rentals\n",
    "multiday_rentals = rentals[rentals['multiday'] == True]\n",
    "multiday_rentals.head()"
   ]
  },
  {
   "cell_type": "code",
   "execution_count": 5,
   "metadata": {},
   "outputs": [
    {
     "data": {
      "text/plain": [
       "0.08856128434702068"
      ]
     },
     "execution_count": 5,
     "metadata": {},
     "output_type": "execute_result"
    }
   ],
   "source": [
    "# fraction of all rentals which are multiday\n",
    "len(multiday_rentals) / len(rentals)"
   ]
  },
  {
   "cell_type": "markdown",
   "metadata": {},
   "source": [
    "1.5% of rentals are multiday rentals, but do these 1.5% contribute significantly to the total rental minutes (and therefore potentially revenue)?"
   ]
  },
  {
   "cell_type": "code",
   "execution_count": 6,
   "metadata": {},
   "outputs": [
    {
     "data": {
      "text/plain": [
       "Timedelta('7033 days 07:42:17.877144')"
      ]
     },
     "execution_count": 6,
     "metadata": {},
     "output_type": "execute_result"
    }
   ],
   "source": [
    "total_minutes = (rentals['end_datetime'] - rentals['booked_at']).sum()\n",
    "total_minutes"
   ]
  },
  {
   "cell_type": "code",
   "execution_count": 7,
   "metadata": {},
   "outputs": [
    {
     "data": {
      "text/plain": [
       "Timedelta('4875 days 02:36:31.267710')"
      ]
     },
     "execution_count": 7,
     "metadata": {},
     "output_type": "execute_result"
    }
   ],
   "source": [
    "multiday_minutes = (multiday_rentals['end_datetime'] - multiday_rentals['booked_at']).sum()\n",
    "multiday_minutes"
   ]
  },
  {
   "cell_type": "code",
   "execution_count": 8,
   "metadata": {},
   "outputs": [
    {
     "data": {
      "text/plain": [
       "0.6931446278838568"
      ]
     },
     "execution_count": 8,
     "metadata": {},
     "output_type": "execute_result"
    }
   ],
   "source": [
    "# fraction of total rental minutes that are from multiday rentals\n",
    "multiday_minutes / total_minutes"
   ]
  },
  {
   "cell_type": "markdown",
   "metadata": {},
   "source": [
    "7% of the rental minutes are from multiday rentals.  Of these multiday rental minutes, what fraction of them are not on the first day (and therefore would make looking at just the first day inaccurate)?"
   ]
  },
  {
   "cell_type": "code",
   "execution_count": 9,
   "metadata": {},
   "outputs": [
    {
     "data": {
      "text/plain": [
       "Timedelta('2777 days 06:50:22.546188')"
      ]
     },
     "execution_count": 9,
     "metadata": {},
     "output_type": "execute_result"
    }
   ],
   "source": [
    "#  multiday rental minutes that aren't from the first day\n",
    "multiday_non_first_day_minutes = (multiday_rentals['end_datetime'] - multiday_rentals['booked_at'].dt.ceil('D')).sum()\n",
    "multiday_non_first_day_minutes"
   ]
  },
  {
   "cell_type": "code",
   "execution_count": 10,
   "metadata": {},
   "outputs": [
    {
     "data": {
      "text/plain": [
       "0.39487533233330757"
      ]
     },
     "execution_count": 10,
     "metadata": {},
     "output_type": "execute_result"
    }
   ],
   "source": [
    "multiday_non_first_day_minutes / total_minutes"
   ]
  },
  {
   "cell_type": "markdown",
   "metadata": {},
   "source": [
    "4% of rental minutes would be miscategorized by looking only at the booking day as the rental day"
   ]
  },
  {
   "cell_type": "code",
   "execution_count": 11,
   "metadata": {},
   "outputs": [
    {
     "data": {
      "image/png": "[encoded data removed]",
      "text/plain": [
       "<Figure size 432x288 with 1 Axes>"
      ]
     },
     "metadata": {
      "needs_background": "light"
     },
     "output_type": "display_data"
    }
   ],
   "source": [
    "#  85 \n",
    "a = (multiday_rentals['end_datetime'] - multiday_rentals['booked_at'])/ np.timedelta64(1, 'h')\n",
    "n, bins, patches = plt.hist(a, bins=30)"
   ]
  },
  {
   "cell_type": "code",
   "execution_count": 12,
   "metadata": {},
   "outputs": [],
   "source": [
    "# multiday_rentals['duration'] = (multiday_rentals['end_datetime'] - multiday_rentals['booked_at'])"
   ]
  },
  {
   "cell_type": "code",
   "execution_count": 13,
   "metadata": {},
   "outputs": [],
   "source": [
    "# multiday_rentals.sort_values(by=['duration'], ascending=False)"
   ]
  }
 ],
 "metadata": {
  "kernelspec": {
   "display_name": "Python 3",
   "language": "python",
   "name": "python3"
  },
  "language_info": {
   "codemirror_mode": {
    "name": "ipython",
    "version": 3
   },
   "file_extension": ".py",
   "mimetype": "text/x-python",
   "name": "python",
   "nbconvert_exporter": "python",
   "pygments_lexer": "ipython3",
   "version": "3.7.1"
  }
 },
 "nbformat": 4,
 "nbformat_minor": 2
}
