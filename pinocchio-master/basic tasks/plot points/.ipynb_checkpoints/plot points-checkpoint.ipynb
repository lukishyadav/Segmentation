{
 "cells": [
  {
   "cell_type": "markdown",
   "metadata": {},
   "source": [
    "# Plot points on a map\n",
    "```sql\n",
    "select \n",
    "  carsharing_rental.id,\n",
    "  carsharing_rental.customer_id,\n",
    "  carsharing_rental.created_at,\n",
    "  s.lat as start_lat,\n",
    "  s.lng as start_lng,\n",
    "  e.lat as end_lat,\n",
    "  e.lng as end_lng\n",
    "from\n",
    "  carsharing_rental\n",
    "join common_location s on (s.id = carsharing_rental.start_location_id)\n",
    "join common_location e on (e.id = carsharing_rental.end_location_id )\n",
    "where\n",
    "  [carsharing_rental.created_at=daterange:hpst] and\n",
    "  carsharing_rental.end_datetime is not null\n",
    "```"
   ]
  },
  {
   "cell_type": "code",
   "execution_count": 5,
   "metadata": {},
   "outputs": [],
   "source": [
    "from bokeh.tile_providers import CARTODBPOSITRON\n",
    "import pandas as pd\n",
    "\n",
    "output_n"
   ]
  },
  {
   "cell_type": "code",
   "execution_count": 4,
   "metadata": {},
   "outputs": [
    {
     "data": {
      "text/html": [
       "<div>\n",
       "<style scoped>\n",
       "    .dataframe tbody tr th:only-of-type {\n",
       "        vertical-align: middle;\n",
       "    }\n",
       "\n",
       "    .dataframe tbody tr th {\n",
       "        vertical-align: top;\n",
       "    }\n",
       "\n",
       "    .dataframe thead th {\n",
       "        text-align: right;\n",
       "    }\n",
       "</style>\n",
       "<table border=\"1\" class=\"dataframe\">\n",
       "  <thead>\n",
       "    <tr style=\"text-align: right;\">\n",
       "      <th></th>\n",
       "      <th>id</th>\n",
       "      <th>customer_id</th>\n",
       "      <th>created_at</th>\n",
       "      <th>start_lat</th>\n",
       "      <th>start_lng</th>\n",
       "      <th>end_lat</th>\n",
       "      <th>end_lng</th>\n",
       "    </tr>\n",
       "  </thead>\n",
       "  <tbody>\n",
       "    <tr>\n",
       "      <th>0</th>\n",
       "      <td>599213</td>\n",
       "      <td>59802</td>\n",
       "      <td>2019-04-19 07:10:02.102230</td>\n",
       "      <td>38.569490</td>\n",
       "      <td>-121.47623</td>\n",
       "      <td>38.569473</td>\n",
       "      <td>-121.476180</td>\n",
       "    </tr>\n",
       "    <tr>\n",
       "      <th>1</th>\n",
       "      <td>599208</td>\n",
       "      <td>56614</td>\n",
       "      <td>2019-04-19 07:02:51.691177</td>\n",
       "      <td>37.867880</td>\n",
       "      <td>-122.25048</td>\n",
       "      <td>37.867910</td>\n",
       "      <td>-122.250510</td>\n",
       "    </tr>\n",
       "    <tr>\n",
       "      <th>2</th>\n",
       "      <td>599211</td>\n",
       "      <td>16102</td>\n",
       "      <td>2019-04-19 07:06:49.435180</td>\n",
       "      <td>37.866623</td>\n",
       "      <td>-122.25645</td>\n",
       "      <td>37.870773</td>\n",
       "      <td>-122.270900</td>\n",
       "    </tr>\n",
       "    <tr>\n",
       "      <th>3</th>\n",
       "      <td>599210</td>\n",
       "      <td>14162</td>\n",
       "      <td>2019-04-19 07:04:00.862194</td>\n",
       "      <td>37.875640</td>\n",
       "      <td>-122.25876</td>\n",
       "      <td>37.864952</td>\n",
       "      <td>-122.259346</td>\n",
       "    </tr>\n",
       "    <tr>\n",
       "      <th>4</th>\n",
       "      <td>599216</td>\n",
       "      <td>58730</td>\n",
       "      <td>2019-04-19 07:14:35.241074</td>\n",
       "      <td>38.580128</td>\n",
       "      <td>-121.50273</td>\n",
       "      <td>38.585570</td>\n",
       "      <td>-121.486460</td>\n",
       "    </tr>\n",
       "  </tbody>\n",
       "</table>\n",
       "</div>"
      ],
      "text/plain": [
       "       id  customer_id                 created_at  start_lat  start_lng  \\\n",
       "0  599213        59802 2019-04-19 07:10:02.102230  38.569490 -121.47623   \n",
       "1  599208        56614 2019-04-19 07:02:51.691177  37.867880 -122.25048   \n",
       "2  599211        16102 2019-04-19 07:06:49.435180  37.866623 -122.25645   \n",
       "3  599210        14162 2019-04-19 07:04:00.862194  37.875640 -122.25876   \n",
       "4  599216        58730 2019-04-19 07:14:35.241074  38.580128 -121.50273   \n",
       "\n",
       "     end_lat     end_lng  \n",
       "0  38.569473 -121.476180  \n",
       "1  37.867910 -122.250510  \n",
       "2  37.870773 -122.270900  \n",
       "3  37.864952 -122.259346  \n",
       "4  38.585570 -121.486460  "
      ]
     },
     "execution_count": 4,
     "metadata": {},
     "output_type": "execute_result"
    }
   ],
   "source": [
    "data_filename = 'Rentalstartandendlatlngs_2019-4-19_1414.csv'\n",
    "\n",
    "df = pd.read_csv(data_filename, \n",
    "                 parse_dates=[2],\n",
    "                 infer_datetime_format=True)\n",
    "df.head()"
   ]
  },
  {
   "cell_type": "code",
   "execution_count": null,
   "metadata": {},
   "outputs": [],
   "source": []
  }
 ],
 "metadata": {
  "kernelspec": {
   "display_name": "Python 3",
   "language": "python",
   "name": "python3"
  },
  "language_info": {
   "codemirror_mode": {
    "name": "ipython",
    "version": 3
   },
   "file_extension": ".py",
   "mimetype": "text/x-python",
   "name": "python",
   "nbconvert_exporter": "python",
   "pygments_lexer": "ipython3",
   "version": "3.7.1"
  }
 },
 "nbformat": 4,
 "nbformat_minor": 2
}
