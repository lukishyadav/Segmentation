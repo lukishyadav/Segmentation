{
 "cells": [
  {
   "cell_type": "markdown",
   "metadata": {},
   "source": [
    "# Read in CSV data\n",
    "\n",
    "### Data from Sumo Logic\n",
    "\n",
    "### Data from SQL\n",
    "\n",
    "```sql\n",
    "-- get rental data\n",
    "select \n",
    "  id, customer_id, created_at, cancelled_at, booked_at, end_datetime\n",
    "from\n",
    "  carsharing_rental\n",
    "limit 5000\n",
    "```"
   ]
  },
  {
   "cell_type": "code",
   "execution_count": 1,
   "metadata": {},
   "outputs": [],
   "source": [
    "import pandas as pd"
   ]
  },
  {
   "cell_type": "code",
   "execution_count": null,
   "metadata": {},
   "outputs": [],
   "source": [
    "data_filename = 'rentaldata_2019-4-19_1221.csv'  # file with time, lat, long data\n",
    "df = pd.read_csv(data_filename)\n",
    "df.head()"
   ]
  },
  {
   "cell_type": "code",
   "execution_count": null,
   "metadata": {},
   "outputs": [],
   "source": []
  }
 ],
 "metadata": {
  "kernelspec": {
   "display_name": "Python 3",
   "language": "python",
   "name": "python3"
  },
  "language_info": {
   "codemirror_mode": {
    "name": "ipython",
    "version": 3
   },
   "file_extension": ".py",
   "mimetype": "text/x-python",
   "name": "python",
   "nbconvert_exporter": "python",
   "pygments_lexer": "ipython3",
   "version": "3.7.1"
  }
 },
 "nbformat": 4,
 "nbformat_minor": 2
}
