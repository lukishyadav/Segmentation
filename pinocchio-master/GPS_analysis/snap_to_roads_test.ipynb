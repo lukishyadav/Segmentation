{
 "cells": [
  {
   "cell_type": "markdown",
   "metadata": {},
   "source": [
    "# Explanation\n",
    "This notebook utilizes the stevelib implementation of the Google Snap to Roads API (https://developers.google.com/maps/documentation/roads/snap).  It takes in a time-series lat/long dataframe and sends it to Google to get a dataframe back of snapped-to-roads lat and long values.  This function is wrapped in the `check()` function, which takes in:\n",
    "- dataframe with a `lat` and `long` columns, and a `datetime` column of datetimes\n",
    "- a datetime which represents the last point in the series to snap to\n",
    "- (optional) increment (default, increment=1) which allows you to send every point, or only every other point (increment=2), if you want to simulate sparser data"
   ]
  },
  {
   "cell_type": "code",
   "execution_count": 1,
   "metadata": {},
   "outputs": [
    {
     "data": {
      "text/html": [
       "\n",
       "    <div class=\"bk-root\">\n",
       "        <a href=\"https://bokeh.pydata.org\" target=\"_blank\" class=\"bk-logo bk-logo-small bk-logo-notebook\"></a>\n",
       "        <span id=\"1001\">Loading BokehJS ...</span>\n",
       "    </div>"
      ]
     },
     "metadata": {},
     "output_type": "display_data"
    },
    {
     "data": {
      "application/javascript": [
       "\n",
       "(function(root) {\n",
       "  function now() {\n",
       "    return new Date();\n",
       "  }\n",
       "\n",
       "  var force = true;\n",
       "\n",
       "  if (typeof root._bokeh_onload_callbacks === \"undefined\" || force === true) {\n",
       "    root._bokeh_onload_callbacks = [];\n",
       "    root._bokeh_is_loading = undefined;\n",
       "  }\n",
       "\n",
       "  var JS_MIME_TYPE = 'application/javascript';\n",
       "  var HTML_MIME_TYPE = 'text/html';\n",
       "  var EXEC_MIME_TYPE = 'application/vnd.bokehjs_exec.v0+json';\n",
       "  var CLASS_NAME = 'output_bokeh rendered_html';\n",
       "\n",
       "  /**\n",
       "   * Render data to the DOM node\n",
       "   */\n",
       "  function render(props, node) {\n",
       "    var script = document.createElement(\"script\");\n",
       "    node.appendChild(script);\n",
       "  }\n",
       "\n",
       "  /**\n",
       "   * Handle when an output is cleared or removed\n",
       "   */\n",
       "  function handleClearOutput(event, handle) {\n",
       "    var cell = handle.cell;\n",
       "\n",
       "    var id = cell.output_area._bokeh_element_id;\n",
       "    var server_id = cell.output_area._bokeh_server_id;\n",
       "    // Clean up Bokeh references\n",
       "    if (id != null && id in Bokeh.index) {\n",
       "      Bokeh.index[id].model.document.clear();\n",
       "      delete Bokeh.index[id];\n",
       "    }\n",
       "\n",
       "    if (server_id !== undefined) {\n",
       "      // Clean up Bokeh references\n",
       "      var cmd = \"from bokeh.io.state import curstate; print(curstate().uuid_to_server['\" + server_id + \"'].get_sessions()[0].document.roots[0]._id)\";\n",
       "      cell.notebook.kernel.execute(cmd, {\n",
       "        iopub: {\n",
       "          output: function(msg) {\n",
       "            var id = msg.content.text.trim();\n",
       "            if (id in Bokeh.index) {\n",
       "              Bokeh.index[id].model.document.clear();\n",
       "              delete Bokeh.index[id];\n",
       "            }\n",
       "          }\n",
       "        }\n",
       "      });\n",
       "      // Destroy server and session\n",
       "      var cmd = \"import bokeh.io.notebook as ion; ion.destroy_server('\" + server_id + \"')\";\n",
       "      cell.notebook.kernel.execute(cmd);\n",
       "    }\n",
       "  }\n",
       "\n",
       "  /**\n",
       "   * Handle when a new output is added\n",
       "   */\n",
       "  function handleAddOutput(event, handle) {\n",
       "    var output_area = handle.output_area;\n",
       "    var output = handle.output;\n",
       "\n",
       "    // limit handleAddOutput to display_data with EXEC_MIME_TYPE content only\n",
       "    if ((output.output_type != \"display_data\") || (!output.data.hasOwnProperty(EXEC_MIME_TYPE))) {\n",
       "      return\n",
       "    }\n",
       "\n",
       "    var toinsert = output_area.element.find(\".\" + CLASS_NAME.split(' ')[0]);\n",
       "\n",
       "    if (output.metadata[EXEC_MIME_TYPE][\"id\"] !== undefined) {\n",
       "      toinsert[toinsert.length - 1].firstChild.textContent = output.data[JS_MIME_TYPE];\n",
       "      // store reference to embed id on output_area\n",
       "      output_area._bokeh_element_id = output.metadata[EXEC_MIME_TYPE][\"id\"];\n",
       "    }\n",
       "    if (output.metadata[EXEC_MIME_TYPE][\"server_id\"] !== undefined) {\n",
       "      var bk_div = document.createElement(\"div\");\n",
       "      bk_div.innerHTML = output.data[HTML_MIME_TYPE];\n",
       "      var script_attrs = bk_div.children[0].attributes;\n",
       "      for (var i = 0; i < script_attrs.length; i++) {\n",
       "        toinsert[toinsert.length - 1].firstChild.setAttribute(script_attrs[i].name, script_attrs[i].value);\n",
       "      }\n",
       "      // store reference to server id on output_area\n",
       "      output_area._bokeh_server_id = output.metadata[EXEC_MIME_TYPE][\"server_id\"];\n",
       "    }\n",
       "  }\n",
       "\n",
       "  function register_renderer(events, OutputArea) {\n",
       "\n",
       "    function append_mime(data, metadata, element) {\n",
       "      // create a DOM node to render to\n",
       "      var toinsert = this.create_output_subarea(\n",
       "        metadata,\n",
       "        CLASS_NAME,\n",
       "        EXEC_MIME_TYPE\n",
       "      );\n",
       "      this.keyboard_manager.register_events(toinsert);\n",
       "      // Render to node\n",
       "      var props = {data: data, metadata: metadata[EXEC_MIME_TYPE]};\n",
       "      render(props, toinsert[toinsert.length - 1]);\n",
       "      element.append(toinsert);\n",
       "      return toinsert\n",
       "    }\n",
       "\n",
       "    /* Handle when an output is cleared or removed */\n",
       "    events.on('clear_output.CodeCell', handleClearOutput);\n",
       "    events.on('delete.Cell', handleClearOutput);\n",
       "\n",
       "    /* Handle when a new output is added */\n",
       "    events.on('output_added.OutputArea', handleAddOutput);\n",
       "\n",
       "    /**\n",
       "     * Register the mime type and append_mime function with output_area\n",
       "     */\n",
       "    OutputArea.prototype.register_mime_type(EXEC_MIME_TYPE, append_mime, {\n",
       "      /* Is output safe? */\n",
       "      safe: true,\n",
       "      /* Index of renderer in `output_area.display_order` */\n",
       "      index: 0\n",
       "    });\n",
       "  }\n",
       "\n",
       "  // register the mime type if in Jupyter Notebook environment and previously unregistered\n",
       "  if (root.Jupyter !== undefined) {\n",
       "    var events = require('base/js/events');\n",
       "    var OutputArea = require('notebook/js/outputarea').OutputArea;\n",
       "\n",
       "    if (OutputArea.prototype.mime_types().indexOf(EXEC_MIME_TYPE) == -1) {\n",
       "      register_renderer(events, OutputArea);\n",
       "    }\n",
       "  }\n",
       "\n",
       "  \n",
       "  if (typeof (root._bokeh_timeout) === \"undefined\" || force === true) {\n",
       "    root._bokeh_timeout = Date.now() + 5000;\n",
       "    root._bokeh_failed_load = false;\n",
       "  }\n",
       "\n",
       "  var NB_LOAD_WARNING = {'data': {'text/html':\n",
       "     \"<div style='background-color: #fdd'>\\n\"+\n",
       "     \"<p>\\n\"+\n",
       "     \"BokehJS does not appear to have successfully loaded. If loading BokehJS from CDN, this \\n\"+\n",
       "     \"may be due to a slow or bad network connection. Possible fixes:\\n\"+\n",
       "     \"</p>\\n\"+\n",
       "     \"<ul>\\n\"+\n",
       "     \"<li>re-rerun `output_notebook()` to attempt to load from CDN again, or</li>\\n\"+\n",
       "     \"<li>use INLINE resources instead, as so:</li>\\n\"+\n",
       "     \"</ul>\\n\"+\n",
       "     \"<code>\\n\"+\n",
       "     \"from bokeh.resources import INLINE\\n\"+\n",
       "     \"output_notebook(resources=INLINE)\\n\"+\n",
       "     \"</code>\\n\"+\n",
       "     \"</div>\"}};\n",
       "\n",
       "  function display_loaded() {\n",
       "    var el = document.getElementById(\"1001\");\n",
       "    if (el != null) {\n",
       "      el.textContent = \"BokehJS is loading...\";\n",
       "    }\n",
       "    if (root.Bokeh !== undefined) {\n",
       "      if (el != null) {\n",
       "        el.textContent = \"BokehJS \" + root.Bokeh.version + \" successfully loaded.\";\n",
       "      }\n",
       "    } else if (Date.now() < root._bokeh_timeout) {\n",
       "      setTimeout(display_loaded, 100)\n",
       "    }\n",
       "  }\n",
       "\n",
       "\n",
       "  function run_callbacks() {\n",
       "    try {\n",
       "      root._bokeh_onload_callbacks.forEach(function(callback) {\n",
       "        if (callback != null)\n",
       "          callback();\n",
       "      });\n",
       "    } finally {\n",
       "      delete root._bokeh_onload_callbacks\n",
       "    }\n",
       "    console.debug(\"Bokeh: all callbacks have finished\");\n",
       "  }\n",
       "\n",
       "  function load_libs(css_urls, js_urls, callback) {\n",
       "    if (css_urls == null) css_urls = [];\n",
       "    if (js_urls == null) js_urls = [];\n",
       "\n",
       "    root._bokeh_onload_callbacks.push(callback);\n",
       "    if (root._bokeh_is_loading > 0) {\n",
       "      console.debug(\"Bokeh: BokehJS is being loaded, scheduling callback at\", now());\n",
       "      return null;\n",
       "    }\n",
       "    if (js_urls == null || js_urls.length === 0) {\n",
       "      run_callbacks();\n",
       "      return null;\n",
       "    }\n",
       "    console.debug(\"Bokeh: BokehJS not loaded, scheduling load and callback at\", now());\n",
       "    root._bokeh_is_loading = css_urls.length + js_urls.length;\n",
       "\n",
       "    function on_load() {\n",
       "      root._bokeh_is_loading--;\n",
       "      if (root._bokeh_is_loading === 0) {\n",
       "        console.debug(\"Bokeh: all BokehJS libraries/stylesheets loaded\");\n",
       "        run_callbacks()\n",
       "      }\n",
       "    }\n",
       "\n",
       "    function on_error() {\n",
       "      console.error(\"failed to load \" + url);\n",
       "    }\n",
       "\n",
       "    for (var i = 0; i < css_urls.length; i++) {\n",
       "      var url = css_urls[i];\n",
       "      const element = document.createElement(\"link\");\n",
       "      element.onload = on_load;\n",
       "      element.onerror = on_error;\n",
       "      element.rel = \"stylesheet\";\n",
       "      element.type = \"text/css\";\n",
       "      element.href = url;\n",
       "      console.debug(\"Bokeh: injecting link tag for BokehJS stylesheet: \", url);\n",
       "      document.body.appendChild(element);\n",
       "    }\n",
       "\n",
       "    for (var i = 0; i < js_urls.length; i++) {\n",
       "      var url = js_urls[i];\n",
       "      var element = document.createElement('script');\n",
       "      element.onload = on_load;\n",
       "      element.onerror = on_error;\n",
       "      element.async = false;\n",
       "      element.src = url;\n",
       "      console.debug(\"Bokeh: injecting script tag for BokehJS library: \", url);\n",
       "      document.head.appendChild(element);\n",
       "    }\n",
       "  };var element = document.getElementById(\"1001\");\n",
       "  if (element == null) {\n",
       "    console.error(\"Bokeh: ERROR: autoload.js configured with elementid '1001' but no matching script tag was found. \")\n",
       "    return false;\n",
       "  }\n",
       "\n",
       "  function inject_raw_css(css) {\n",
       "    const element = document.createElement(\"style\");\n",
       "    element.appendChild(document.createTextNode(css));\n",
       "    document.body.appendChild(element);\n",
       "  }\n",
       "\n",
       "  var js_urls = [\"https://cdn.pydata.org/bokeh/release/bokeh-1.3.4.min.js\", \"https://cdn.pydata.org/bokeh/release/bokeh-widgets-1.3.4.min.js\", \"https://cdn.pydata.org/bokeh/release/bokeh-tables-1.3.4.min.js\", \"https://cdn.pydata.org/bokeh/release/bokeh-gl-1.3.4.min.js\"];\n",
       "  var css_urls = [];\n",
       "\n",
       "  var inline_js = [\n",
       "    function(Bokeh) {\n",
       "      Bokeh.set_log_level(\"info\");\n",
       "    },\n",
       "    \n",
       "    function(Bokeh) {\n",
       "      \n",
       "    },\n",
       "    function(Bokeh) {} // ensure no trailing comma for IE\n",
       "  ];\n",
       "\n",
       "  function run_inline_js() {\n",
       "    \n",
       "    if ((root.Bokeh !== undefined) || (force === true)) {\n",
       "      for (var i = 0; i < inline_js.length; i++) {\n",
       "        inline_js[i].call(root, root.Bokeh);\n",
       "      }if (force === true) {\n",
       "        display_loaded();\n",
       "      }} else if (Date.now() < root._bokeh_timeout) {\n",
       "      setTimeout(run_inline_js, 100);\n",
       "    } else if (!root._bokeh_failed_load) {\n",
       "      console.log(\"Bokeh: BokehJS failed to load within specified timeout.\");\n",
       "      root._bokeh_failed_load = true;\n",
       "    } else if (force !== true) {\n",
       "      var cell = $(document.getElementById(\"1001\")).parents('.cell').data().cell;\n",
       "      cell.output_area.append_execute_result(NB_LOAD_WARNING)\n",
       "    }\n",
       "\n",
       "  }\n",
       "\n",
       "  if (root._bokeh_is_loading === 0) {\n",
       "    console.debug(\"Bokeh: BokehJS loaded, going straight to plotting\");\n",
       "    run_inline_js();\n",
       "  } else {\n",
       "    load_libs(css_urls, js_urls, function() {\n",
       "      console.debug(\"Bokeh: BokehJS plotting callback run at\", now());\n",
       "      run_inline_js();\n",
       "    });\n",
       "  }\n",
       "}(window));"
      ],
      "application/vnd.bokehjs_load.v0+json": "\n(function(root) {\n  function now() {\n    return new Date();\n  }\n\n  var force = true;\n\n  if (typeof root._bokeh_onload_callbacks === \"undefined\" || force === true) {\n    root._bokeh_onload_callbacks = [];\n    root._bokeh_is_loading = undefined;\n  }\n\n  \n\n  \n  if (typeof (root._bokeh_timeout) === \"undefined\" || force === true) {\n    root._bokeh_timeout = Date.now() + 5000;\n    root._bokeh_failed_load = false;\n  }\n\n  var NB_LOAD_WARNING = {'data': {'text/html':\n     \"<div style='background-color: #fdd'>\\n\"+\n     \"<p>\\n\"+\n     \"BokehJS does not appear to have successfully loaded. If loading BokehJS from CDN, this \\n\"+\n     \"may be due to a slow or bad network connection. Possible fixes:\\n\"+\n     \"</p>\\n\"+\n     \"<ul>\\n\"+\n     \"<li>re-rerun `output_notebook()` to attempt to load from CDN again, or</li>\\n\"+\n     \"<li>use INLINE resources instead, as so:</li>\\n\"+\n     \"</ul>\\n\"+\n     \"<code>\\n\"+\n     \"from bokeh.resources import INLINE\\n\"+\n     \"output_notebook(resources=INLINE)\\n\"+\n     \"</code>\\n\"+\n     \"</div>\"}};\n\n  function display_loaded() {\n    var el = document.getElementById(\"1001\");\n    if (el != null) {\n      el.textContent = \"BokehJS is loading...\";\n    }\n    if (root.Bokeh !== undefined) {\n      if (el != null) {\n        el.textContent = \"BokehJS \" + root.Bokeh.version + \" successfully loaded.\";\n      }\n    } else if (Date.now() < root._bokeh_timeout) {\n      setTimeout(display_loaded, 100)\n    }\n  }\n\n\n  function run_callbacks() {\n    try {\n      root._bokeh_onload_callbacks.forEach(function(callback) {\n        if (callback != null)\n          callback();\n      });\n    } finally {\n      delete root._bokeh_onload_callbacks\n    }\n    console.debug(\"Bokeh: all callbacks have finished\");\n  }\n\n  function load_libs(css_urls, js_urls, callback) {\n    if (css_urls == null) css_urls = [];\n    if (js_urls == null) js_urls = [];\n\n    root._bokeh_onload_callbacks.push(callback);\n    if (root._bokeh_is_loading > 0) {\n      console.debug(\"Bokeh: BokehJS is being loaded, scheduling callback at\", now());\n      return null;\n    }\n    if (js_urls == null || js_urls.length === 0) {\n      run_callbacks();\n      return null;\n    }\n    console.debug(\"Bokeh: BokehJS not loaded, scheduling load and callback at\", now());\n    root._bokeh_is_loading = css_urls.length + js_urls.length;\n\n    function on_load() {\n      root._bokeh_is_loading--;\n      if (root._bokeh_is_loading === 0) {\n        console.debug(\"Bokeh: all BokehJS libraries/stylesheets loaded\");\n        run_callbacks()\n      }\n    }\n\n    function on_error() {\n      console.error(\"failed to load \" + url);\n    }\n\n    for (var i = 0; i < css_urls.length; i++) {\n      var url = css_urls[i];\n      const element = document.createElement(\"link\");\n      element.onload = on_load;\n      element.onerror = on_error;\n      element.rel = \"stylesheet\";\n      element.type = \"text/css\";\n      element.href = url;\n      console.debug(\"Bokeh: injecting link tag for BokehJS stylesheet: \", url);\n      document.body.appendChild(element);\n    }\n\n    for (var i = 0; i < js_urls.length; i++) {\n      var url = js_urls[i];\n      var element = document.createElement('script');\n      element.onload = on_load;\n      element.onerror = on_error;\n      element.async = false;\n      element.src = url;\n      console.debug(\"Bokeh: injecting script tag for BokehJS library: \", url);\n      document.head.appendChild(element);\n    }\n  };var element = document.getElementById(\"1001\");\n  if (element == null) {\n    console.error(\"Bokeh: ERROR: autoload.js configured with elementid '1001' but no matching script tag was found. \")\n    return false;\n  }\n\n  function inject_raw_css(css) {\n    const element = document.createElement(\"style\");\n    element.appendChild(document.createTextNode(css));\n    document.body.appendChild(element);\n  }\n\n  var js_urls = [\"https://cdn.pydata.org/bokeh/release/bokeh-1.3.4.min.js\", \"https://cdn.pydata.org/bokeh/release/bokeh-widgets-1.3.4.min.js\", \"https://cdn.pydata.org/bokeh/release/bokeh-tables-1.3.4.min.js\", \"https://cdn.pydata.org/bokeh/release/bokeh-gl-1.3.4.min.js\"];\n  var css_urls = [];\n\n  var inline_js = [\n    function(Bokeh) {\n      Bokeh.set_log_level(\"info\");\n    },\n    \n    function(Bokeh) {\n      \n    },\n    function(Bokeh) {} // ensure no trailing comma for IE\n  ];\n\n  function run_inline_js() {\n    \n    if ((root.Bokeh !== undefined) || (force === true)) {\n      for (var i = 0; i < inline_js.length; i++) {\n        inline_js[i].call(root, root.Bokeh);\n      }if (force === true) {\n        display_loaded();\n      }} else if (Date.now() < root._bokeh_timeout) {\n      setTimeout(run_inline_js, 100);\n    } else if (!root._bokeh_failed_load) {\n      console.log(\"Bokeh: BokehJS failed to load within specified timeout.\");\n      root._bokeh_failed_load = true;\n    } else if (force !== true) {\n      var cell = $(document.getElementById(\"1001\")).parents('.cell').data().cell;\n      cell.output_area.append_execute_result(NB_LOAD_WARNING)\n    }\n\n  }\n\n  if (root._bokeh_is_loading === 0) {\n    console.debug(\"Bokeh: BokehJS loaded, going straight to plotting\");\n    run_inline_js();\n  } else {\n    load_libs(css_urls, js_urls, function() {\n      console.debug(\"Bokeh: BokehJS plotting callback run at\", now());\n      run_inline_js();\n    });\n  }\n}(window));"
     },
     "metadata": {},
     "output_type": "display_data"
    }
   ],
   "source": [
    "import pandas as pd\n",
    "\n",
    "import requests\n",
    "\n",
    "from bokeh.models import WheelZoomTool\n",
    "from bokeh.plotting import figure, show, output_file\n",
    "from bokeh.tile_providers import get_provider, Vendors\n",
    "from bokeh.io import output_notebook\n",
    "\n",
    "from stevelib import convert_gpx_to_df, snap_to_roads, plot2, transform_wgs84_to_web_mercator\n",
    "\n",
    "\n",
    "output_notebook()"
   ]
  },
  {
   "cell_type": "code",
   "execution_count": 2,
   "metadata": {},
   "outputs": [
    {
     "data": {
      "text/html": [
       "<div>\n",
       "<style scoped>\n",
       "    .dataframe tbody tr th:only-of-type {\n",
       "        vertical-align: middle;\n",
       "    }\n",
       "\n",
       "    .dataframe tbody tr th {\n",
       "        vertical-align: top;\n",
       "    }\n",
       "\n",
       "    .dataframe thead th {\n",
       "        text-align: right;\n",
       "    }\n",
       "</style>\n",
       "<table border=\"1\" class=\"dataframe\">\n",
       "  <thead>\n",
       "    <tr style=\"text-align: right;\">\n",
       "      <th></th>\n",
       "      <th>lat</th>\n",
       "      <th>long</th>\n",
       "    </tr>\n",
       "    <tr>\n",
       "      <th>datetime</th>\n",
       "      <th></th>\n",
       "      <th></th>\n",
       "    </tr>\n",
       "  </thead>\n",
       "  <tbody>\n",
       "    <tr>\n",
       "      <th>2019-08-27 20:37:56+00:00</th>\n",
       "      <td>37.787150</td>\n",
       "      <td>-122.403388</td>\n",
       "    </tr>\n",
       "    <tr>\n",
       "      <th>2019-08-27 20:37:59+00:00</th>\n",
       "      <td>37.787155</td>\n",
       "      <td>-122.403337</td>\n",
       "    </tr>\n",
       "    <tr>\n",
       "      <th>2019-08-27 20:38:00+00:00</th>\n",
       "      <td>37.787253</td>\n",
       "      <td>-122.403417</td>\n",
       "    </tr>\n",
       "    <tr>\n",
       "      <th>2019-08-27 20:38:01+00:00</th>\n",
       "      <td>37.787413</td>\n",
       "      <td>-122.403403</td>\n",
       "    </tr>\n",
       "    <tr>\n",
       "      <th>2019-08-27 20:38:02+00:00</th>\n",
       "      <td>37.787475</td>\n",
       "      <td>-122.403462</td>\n",
       "    </tr>\n",
       "  </tbody>\n",
       "</table>\n",
       "</div>"
      ],
      "text/plain": [
       "                                 lat        long\n",
       "datetime                                        \n",
       "2019-08-27 20:37:56+00:00  37.787150 -122.403388\n",
       "2019-08-27 20:37:59+00:00  37.787155 -122.403337\n",
       "2019-08-27 20:38:00+00:00  37.787253 -122.403417\n",
       "2019-08-27 20:38:01+00:00  37.787413 -122.403403\n",
       "2019-08-27 20:38:02+00:00  37.787475 -122.403462"
      ]
     },
     "execution_count": 2,
     "metadata": {},
     "output_type": "execute_result"
    }
   ],
   "source": [
    "# in this case we're getting our lat/long timeseries from a gpx file\n",
    "df = convert_gpx_to_df('test_data/2019-08-27 151203.gpx')\n",
    "df.head()"
   ]
  },
  {
   "cell_type": "code",
   "execution_count": 3,
   "metadata": {},
   "outputs": [],
   "source": [
    "# TODO: add actual time spacingoutness?"
   ]
  },
  {
   "cell_type": "code",
   "execution_count": 4,
   "metadata": {},
   "outputs": [],
   "source": [
    "# plot the end position after using the snap to roads algorithm\n",
    "def check(df, timestamp, increment=1, ref_lat=None, ref_long=None):\n",
    "    # plot this\n",
    "    p = figure(\n",
    "       x_axis_type=\"mercator\", \n",
    "       y_axis_type=\"mercator\",\n",
    "       match_aspect=True,  # make sure the map isn't skewed?\n",
    "       tools=\"pan,wheel_zoom,reset\")\n",
    "    p.add_tile(get_provider(Vendors.CARTODBPOSITRON))\n",
    "    p.toolbar.active_scroll = p.select_one(WheelZoomTool) \n",
    "    \n",
    "    a = df[:timestamp]  # take only the date from BEFORE the timestamp\n",
    "    b = a.iloc[-80::increment]  # take just the last 80 of these, incremented by increment (not best way only gets 80)\n",
    "    \n",
    "    # original data\n",
    "    plot2(p, b['lat'].values, b['long'].values, color='#d62728', size=5)\n",
    "\n",
    "    output = snap_to_roads(b)  # call the snap to roads API and get a df with lat/longs snapped to the road\n",
    "    \n",
    "    # plot new route and the last point \n",
    "    x2, y2 = transform_wgs84_to_web_mercator(output['long'].values, output['lat'].values) \n",
    "    p.line(x2, y2, line_width=2, legend='Snap to road')\n",
    "    p.x(x2[-1], y2[-1], size=25)\n",
    "    \n",
    "    \n",
    "    # if exists plot the reference position too\n",
    "    if ref_lat and ref_long:\n",
    "        x3, y3 = transform_wgs84_to_web_mercator(ref_long, ref_lat) \n",
    "        p.x(x3, y3, color='#000000', size=50, legend='Reference position')\n",
    "    \n",
    "    show(p)"
   ]
  },
  {
   "cell_type": "code",
   "execution_count": 5,
   "metadata": {},
   "outputs": [],
   "source": [
    "p = figure(\n",
    "   x_axis_type=\"mercator\", \n",
    "   y_axis_type=\"mercator\",\n",
    "   match_aspect=True,  # make sure the map isn't skewed?\n",
    "   tools=\"pan,wheel_zoom,reset\")\n",
    "p.add_tile(get_provider(Vendors.CARTODBPOSITRON))\n",
    "p.toolbar.active_scroll = p.select_one(WheelZoomTool) \n",
    "\n",
    "# original data\n",
    "plot2(p, df['lat'].values, df['long'].values, color='#d62728', size=5)\n",
    "# show(p)"
   ]
  },
  {
   "cell_type": "code",
   "execution_count": 6,
   "metadata": {},
   "outputs": [
    {
     "data": {
      "text/html": [
       "\n",
       "\n",
       "\n",
       "\n",
       "\n",
       "\n",
       "  <div class=\"bk-root\" id=\"e120f55e-0495-4c50-9c8f-26df6e1cc111\" data-root-id=\"1052\"></div>\n"
      ]
     },
     "metadata": {},
     "output_type": "display_data"
    },
    {
     "data": {
      "application/javascript": [
       "(function(root) {\n",
       "  function embed_document(root) {\n",
       "    \n",
       "  var docs_json = {\"b1c76849-7ce1-484f-9b73-404d1c2ccc8b\":{\"roots\":{\"references\":[{\"attributes\":{\"below\":[{\"id\":\"1061\",\"type\":\"MercatorAxis\"}],\"center\":[{\"id\":\"1069\",\"type\":\"Grid\"},{\"id\":\"1078\",\"type\":\"Grid\"},{\"id\":\"1115\",\"type\":\"Legend\"}],\"left\":[{\"id\":\"1070\",\"type\":\"MercatorAxis\"}],\"match_aspect\":true,\"renderers\":[{\"id\":\"1087\",\"type\":\"TileRenderer\"},{\"id\":\"1100\",\"type\":\"GlyphRenderer\"},{\"id\":\"1105\",\"type\":\"GlyphRenderer\"},{\"id\":\"1120\",\"type\":\"GlyphRenderer\"},{\"id\":\"1125\",\"type\":\"GlyphRenderer\"}],\"title\":{\"id\":\"1090\",\"type\":\"Title\"},\"toolbar\":{\"id\":\"1082\",\"type\":\"Toolbar\"},\"x_range\":{\"id\":\"1053\",\"type\":\"DataRange1d\"},\"x_scale\":{\"id\":\"1057\",\"type\":\"LinearScale\"},\"y_range\":{\"id\":\"1055\",\"type\":\"DataRange1d\"},\"y_scale\":{\"id\":\"1059\",\"type\":\"LinearScale\"}},\"id\":\"1052\",\"subtype\":\"Figure\",\"type\":\"Plot\"},{\"attributes\":{},\"id\":\"1152\",\"type\":\"Selection\"},{\"attributes\":{\"dimension\":1,\"ticker\":{\"id\":\"1071\",\"type\":\"MercatorTicker\"}},\"id\":\"1078\",\"type\":\"Grid\"},{\"attributes\":{\"tile_source\":{\"id\":\"1086\",\"type\":\"WMTSTileSource\"}},\"id\":\"1087\",\"type\":\"TileRenderer\"},{\"attributes\":{\"fill_color\":{\"value\":\"#1f77b4\"},\"line_color\":{\"value\":\"#1f77b4\"},\"size\":{\"units\":\"screen\",\"value\":25},\"x\":{\"value\":-13626506.496472355},\"y\":{\"value\":4549417.730558268}},\"id\":\"1118\",\"type\":\"X\"},{\"attributes\":{\"source\":{\"id\":\"1096\",\"type\":\"ColumnDataSource\"}},\"id\":\"1101\",\"type\":\"CDSView\"},{\"attributes\":{\"dimension\":\"lon\"},\"id\":\"1062\",\"type\":\"MercatorTicker\"},{\"attributes\":{\"ticker\":{\"id\":\"1062\",\"type\":\"MercatorTicker\"}},\"id\":\"1069\",\"type\":\"Grid\"},{\"attributes\":{\"data_source\":{\"id\":\"1096\",\"type\":\"ColumnDataSource\"},\"glyph\":{\"id\":\"1098\",\"type\":\"Circle\"},\"hover_glyph\":null,\"muted_glyph\":null,\"nonselection_glyph\":{\"id\":\"1099\",\"type\":\"Circle\"},\"selection_glyph\":null,\"view\":{\"id\":\"1101\",\"type\":\"CDSView\"}},\"id\":\"1100\",\"type\":\"GlyphRenderer\"},{\"attributes\":{\"active_drag\":\"auto\",\"active_inspect\":\"auto\",\"active_multi\":null,\"active_scroll\":{\"id\":\"1080\",\"type\":\"WheelZoomTool\"},\"active_tap\":\"auto\",\"tools\":[{\"id\":\"1079\",\"type\":\"PanTool\"},{\"id\":\"1080\",\"type\":\"WheelZoomTool\"},{\"id\":\"1081\",\"type\":\"ResetTool\"}]},\"id\":\"1082\",\"type\":\"Toolbar\"},{\"attributes\":{\"fill_alpha\":{\"value\":0.1},\"fill_color\":{\"value\":\"#1f77b4\"},\"line_alpha\":{\"value\":0.1},\"line_color\":{\"value\":\"#1f77b4\"},\"size\":{\"units\":\"screen\",\"value\":25},\"x\":{\"value\":-13626506.496472355},\"y\":{\"value\":4549417.730558268}},\"id\":\"1119\",\"type\":\"X\"},{\"attributes\":{},\"id\":\"1079\",\"type\":\"PanTool\"},{\"attributes\":{\"dimension\":\"lon\"},\"id\":\"1064\",\"type\":\"MercatorTickFormatter\"},{\"attributes\":{},\"id\":\"1114\",\"type\":\"UnionRenderers\"},{\"attributes\":{},\"id\":\"1080\",\"type\":\"WheelZoomTool\"},{\"attributes\":{\"callback\":null},\"id\":\"1055\",\"type\":\"DataRange1d\"},{\"attributes\":{},\"id\":\"1081\",\"type\":\"ResetTool\"},{\"attributes\":{\"callback\":null,\"data\":{\"x\":{\"__ndarray__\":\"JvfcnFf9acHIlXplWP1pwa63HlRZ/WnBwX3vRVr9acEY1+a1Wv1pwRjX5rVa/WnBbdRiHlv9acE+hinRW/1pwSb23KBc/WnBIanxRV39acHns0FfXf1pwQGvDm5e/WnB7lEES1/9acFfsiABYf1pweNMGVJi/WnBy9bpC2P9acG6jbG1Y/1pwdgrF2hk/WnB8EvJZWX9acHJ5nkuZv1pwUB6b9xm/WnBiNk2+Wb9acF0rLLIaP1pwU79UG1q/WnBPFlIQ2z9acFOiXPpbf1pwSk/DQFv/WnBAsQHFHD9acHKR3svcP1pwcpHey9w/WnB2p7YY3H9acEv+ArScf1pwS/4CtJx/WnBpOn7TnL9acEUv4GKc/1pwavByfV0/WnB1zGBbXb9acGlQE54d/1pwaVATnh3/WnBFHrwqHf9acEE9400eP1pweyu3/14/WnBu78MQnn9acHmCQIwev1pweYJAjB6/WnBalBCenr9acHJau4ee/1pwVLk4Rp8/WnBUuThGnz9acEV6OJ7fP1pwReSAK58/WnBF5IArnz9acH8va89fv1pwc4ENaN+/WnBzgQ1o379acG7Je7Vfv1pwZ0Lwrx//WnBV4zI3oD9acHd8qVqgf1pwVWIUxeC/WnB8GsTT4P9acFeanFFhv1pwV5qcUWG/WnBXmpxRYb9acFeanFFhv1pwV5qcUWG/WnBXmpxRYb9acFeanFFhv1pwV5qcUWG/WnBXmpxRYb9acFeanFFhv1pwRcPWNqG/WnBFw9Y2ob9acEcOagih/1pwRw5qCKH/WnB7LeBeIf9acHst4F4h/1pwTQcXCiI/WnB/CN6sIn9acHiYpbDi/1pwRdoytuN/WnB4R4HpI/9acH+GeNPkf1pwQ==\",\"dtype\":\"float64\",\"shape\":[83]},\"y\":{\"__ndarray__\":\"r7N3Ad1aUUEuZRzB3FpRQSg3jnTcWlFBTED7JtxaUUHSDhAD3FpRQdIOEAPcWlFBRYi539taUUF9lkKj21pRQe4wA13bWlFBxOwtJdtaUUGJQ54c21pRQXxOB8HaWlFBFrRLdtpaUUF8/x3i2VpRQfo9JXDZWlFBhVhMMdlaUUEZwt/32FpRQboGibvYWlFBnVu6ZdhaUUFPOdkh2FpRQS+PAufXWlFBKX0T3tdaUUGz8jFO11pRQaqpnsvWWlFBJ0q5OdZaUUFfNaq21VpRQe5S3V/VWlFBZ6J/CtVaUUH49vkB1VpRQfj2+QHVWlFBgApiltRaUUHl8+5v1FpRQeXz7m/UWlFBqxn0S9RaUUH+LBfx01pRQW42eYjTWlFBLkZGHNNaUUFAx3DP0lpRQUDHcM/SWlFBmR6NvtJaUUH08xCO0lpRQe0TJ0jSWlFB5QJ6MNJaUUFot9bd0VpRQWi31t3RWlFBYR5LxdFaUUEueduO0VpRQYCkkTvRWlFBgKSRO9FaUUH7Qvsk0VpRQZXcTxnRWlFBldxPGdFaUUGC+HGo0FpRQfbSxovQWlFB9tLGi9BaUUFD+mh90FpRQUgECDzQWlFBBpvi6c9aUUE3HkXCz1pRQQRUXJHPWlFBPmwPOc9aUUEfuEFizlpRQR+4QWLOWlFBH7hBYs5aUUEfuEFizlpRQR+4QWLOWlFBH7hBYs5aUUEfuEFizlpRQR+4QWLOWlFBH7hBYs5aUUEfuEFizlpRQVfDRzTOWlFBV8NHNM5aUUFEIKEVzlpRQUQgoRXOWlFB1jjE781aUUHWOMTvzVpRQQQDKLHNWlFB8x+MJc1aUUEbNHNozFpRQW+hianLWlFB6GYYB8taUUF3d8FuylpRQQ==\",\"dtype\":\"float64\",\"shape\":[83]}},\"selected\":{\"id\":\"1135\",\"type\":\"Selection\"},\"selection_policy\":{\"id\":\"1136\",\"type\":\"UnionRenderers\"}},\"id\":\"1102\",\"type\":\"ColumnDataSource\"},{\"attributes\":{},\"id\":\"1135\",\"type\":\"Selection\"},{\"attributes\":{\"text\":\"\"},\"id\":\"1090\",\"type\":\"Title\"},{\"attributes\":{\"line_color\":\"#1f77b4\",\"line_width\":2,\"x\":{\"field\":\"x\"},\"y\":{\"field\":\"y\"}},\"id\":\"1103\",\"type\":\"Line\"},{\"attributes\":{\"callback\":null,\"data\":{},\"selected\":{\"id\":\"1152\",\"type\":\"Selection\"},\"selection_policy\":{\"id\":\"1153\",\"type\":\"UnionRenderers\"}},\"id\":\"1122\",\"type\":\"ColumnDataSource\"},{\"attributes\":{\"callback\":null,\"data\":{},\"selected\":{\"id\":\"1137\",\"type\":\"Selection\"},\"selection_policy\":{\"id\":\"1138\",\"type\":\"UnionRenderers\"}},\"id\":\"1117\",\"type\":\"ColumnDataSource\"},{\"attributes\":{\"data_source\":{\"id\":\"1117\",\"type\":\"ColumnDataSource\"},\"glyph\":{\"id\":\"1118\",\"type\":\"X\"},\"hover_glyph\":null,\"muted_glyph\":null,\"nonselection_glyph\":{\"id\":\"1119\",\"type\":\"X\"},\"selection_glyph\":null,\"view\":{\"id\":\"1121\",\"type\":\"CDSView\"}},\"id\":\"1120\",\"type\":\"GlyphRenderer\"},{\"attributes\":{\"formatter\":{\"id\":\"1064\",\"type\":\"MercatorTickFormatter\"},\"ticker\":{\"id\":\"1062\",\"type\":\"MercatorTicker\"}},\"id\":\"1061\",\"type\":\"MercatorAxis\"},{\"attributes\":{},\"id\":\"1136\",\"type\":\"UnionRenderers\"},{\"attributes\":{\"items\":[{\"id\":\"1116\",\"type\":\"LegendItem\"},{\"id\":\"1139\",\"type\":\"LegendItem\"}]},\"id\":\"1115\",\"type\":\"Legend\"},{\"attributes\":{},\"id\":\"1137\",\"type\":\"Selection\"},{\"attributes\":{\"data_source\":{\"id\":\"1102\",\"type\":\"ColumnDataSource\"},\"glyph\":{\"id\":\"1103\",\"type\":\"Line\"},\"hover_glyph\":null,\"muted_glyph\":null,\"nonselection_glyph\":{\"id\":\"1104\",\"type\":\"Line\"},\"selection_glyph\":null,\"view\":{\"id\":\"1106\",\"type\":\"CDSView\"}},\"id\":\"1105\",\"type\":\"GlyphRenderer\"},{\"attributes\":{\"fill_alpha\":{\"value\":0.1},\"fill_color\":{\"value\":\"#1f77b4\"},\"line_alpha\":{\"value\":0.1},\"line_color\":{\"value\":\"#1f77b4\"},\"size\":{\"units\":\"screen\",\"value\":50},\"x\":{\"value\":-13626796.645231415},\"y\":{\"value\":4549466.792135299}},\"id\":\"1124\",\"type\":\"X\"},{\"attributes\":{\"data_source\":{\"id\":\"1122\",\"type\":\"ColumnDataSource\"},\"glyph\":{\"id\":\"1123\",\"type\":\"X\"},\"hover_glyph\":null,\"muted_glyph\":null,\"nonselection_glyph\":{\"id\":\"1124\",\"type\":\"X\"},\"selection_glyph\":null,\"view\":{\"id\":\"1126\",\"type\":\"CDSView\"}},\"id\":\"1125\",\"type\":\"GlyphRenderer\"},{\"attributes\":{\"line_alpha\":0.1,\"line_color\":\"#1f77b4\",\"line_width\":2,\"x\":{\"field\":\"x\"},\"y\":{\"field\":\"y\"}},\"id\":\"1104\",\"type\":\"Line\"},{\"attributes\":{\"attribution\":\"&copy; <a href=\\\"https://www.openstreetmap.org/copyright\\\">OpenStreetMap</a> contributors,&copy; <a href=\\\"https://cartodb.com/attributions\\\">CartoDB</a>\",\"url\":\"https://tiles.basemaps.cartocdn.com/light_all/{z}/{x}/{y}.png\"},\"id\":\"1086\",\"type\":\"WMTSTileSource\"},{\"attributes\":{\"callback\":null,\"data\":{\"x\":{\"__ndarray__\":\"zLTNkFf9acEeuXJfWP1pwZ1mUVNZ/WnBP9PjS1r9acG/vOktW/1pwWttwOhb/WnBfF46wVz9acFQ2WlkXf1pwTgtcZ5d/WnBfJHdtF79acHvn6WTX/1pwbZO0V5h/WnBdjfuw2L9acFL21KFY/1pwfZi9CFk/WnB1Wgt4GT9acFATIPTZf1pwbqn94pm/WnBSCxxSGf9acGNkfEPaf1pwdj4rqRq/WnBJxFTe2z9acFEyhEObv1pwfIMHS1v/WnBkzeoMHD9acEA7zl9cf1pwdOWQXhy/WnBI6/sx3P9acEzaf0Vdf1pwUm2ZGt2/WnBhpH9unf9acEG6ulieP1pwRUm00Z5/WnBi60LpXn9acF4rS3Lev1pwQ4bEn97/WnBeL17p3z9acEG93dnfv1pwZCSohJ9/WnBEZtM4H79acFBHYDCf/1pwfPsFk1//WnBD8NY4n/9acFSmmNjf/1pwbC6QPJ+/WnB82RlKX/9acEfqVA0fv1pwSuxdIF9/WnBUFhqYH79acFn0r54fv1pwdtxtfx9/WnB7YWLZX79acFf2gTsfv1pwUA7EP1//WnB2pBEfYD9acEJ2/ojgf1pwd66f1qC/WnBVKNAPIb9acEqb7/xhv1pwZrMpweH/WnBiggGh4b9acFB7t9fhv1pwSPHRz+G/WnB9GO4SIb9acFFdp91hf1pwZWSCeOE/WnBMXW73IT9acGtYnLqhP1pwTz7/xqF/WnBu0hOWIX9acEk22Irhf1pwfPWSMGF/WnBkW+fYIb9acFsHqkFh/1pwc3qmQeI/WnBtoodhYn9acFoypKii/1pwV/hC8iN/WnBn3cOmo/9acFV4L9Okf1pwQ==\",\"dtype\":\"float64\",\"shape\":[80]},\"y\":{\"__ndarray__\":\"bpwYa9xaUUEJB+p13FpRQeMjjmrcWlFBc/I5cdxaUUH4I1yX3FpRQW6CP7rcWlFBrLPI29xaUUFJloiN3FpRQQ/25AfeWlFBmLRzBt5aUUFYZkPR3VpRQXM5JDbeWlFBx2Fest5aUUGhsSTN3lpRQQtONfjdWlFBgYe4R95aUUFbJ2J33VpRQRChq2fcWlFB7SPy2ttaUUEwZDTk2lpRQYi1BpXZWlFBklHRC9laUUG9inuO11pRQZF2lpfXWlFBCTJYe9ZaUUFtcle51VpRQZlFOonWWlFB2aQuRtdaUUGxpsBH1VpRQYMW8/7SWlFBX+J3jtNaUUG4RAqk1FpRQTjZaZDVWlFBjDC5pNZaUUG402+Y1VpRQZ6pKRrWWlFB7i7oEdRaUUGPSUf40lpRQZqYg4fPWlFB/qHYD9FaUUHj/yCN0FpRQU+RPXvSWlFBA3NFDdZaUUF3X1s00VpRQdsTb8XSWlFBqG3319RaUUGi5Gz80lpRQaUrnNjRWlFBRx827M9aUUEx4LihzlpRQUi2rwTHWlFBjtgo38VaUUGq35+6xFpRQeI7LXbDWlFBw+3lqcJaUUFLXr8kwlpRQQStF7vBWlFBqhgJGcZaUUEhoksox1pRQcy5pHjIWlFBLLimsMlaUUG9MP+ty1pRQRw14fTMWlFB7xJdYM5aUUHzn0U1zlpRQbkh+GDNWlFBm7WiGcxaUUHeciPQylpRQdax/5nIWlFBBxK0b8taUUFjowWuzFpRQX/Rm2DNWlFBcQ4xJs1aUUFBplrHzFpRQTwEH0HMWlFB0zpkPstaUUEW84z1ylpRQX6cuMvKWlFBUuASl8paUUErwPlhylpRQQ==\",\"dtype\":\"float64\",\"shape\":[80]}},\"selected\":{\"id\":\"1113\",\"type\":\"Selection\"},\"selection_policy\":{\"id\":\"1114\",\"type\":\"UnionRenderers\"}},\"id\":\"1096\",\"type\":\"ColumnDataSource\"},{\"attributes\":{\"label\":{\"value\":\"Snap to road\"},\"renderers\":[{\"id\":\"1105\",\"type\":\"GlyphRenderer\"}]},\"id\":\"1116\",\"type\":\"LegendItem\"},{\"attributes\":{\"source\":{\"id\":\"1122\",\"type\":\"ColumnDataSource\"}},\"id\":\"1126\",\"type\":\"CDSView\"},{\"attributes\":{},\"id\":\"1057\",\"type\":\"LinearScale\"},{\"attributes\":{\"source\":{\"id\":\"1102\",\"type\":\"ColumnDataSource\"}},\"id\":\"1106\",\"type\":\"CDSView\"},{\"attributes\":{\"callback\":null},\"id\":\"1053\",\"type\":\"DataRange1d\"},{\"attributes\":{},\"id\":\"1138\",\"type\":\"UnionRenderers\"},{\"attributes\":{\"fill_color\":{\"value\":\"#000000\"},\"line_color\":{\"value\":\"#000000\"},\"size\":{\"units\":\"screen\",\"value\":50},\"x\":{\"value\":-13626796.645231415},\"y\":{\"value\":4549466.792135299}},\"id\":\"1123\",\"type\":\"X\"},{\"attributes\":{\"label\":{\"value\":\"Reference position\"},\"renderers\":[{\"id\":\"1125\",\"type\":\"GlyphRenderer\"}]},\"id\":\"1139\",\"type\":\"LegendItem\"},{\"attributes\":{\"source\":{\"id\":\"1117\",\"type\":\"ColumnDataSource\"}},\"id\":\"1121\",\"type\":\"CDSView\"},{\"attributes\":{\"formatter\":{\"id\":\"1073\",\"type\":\"MercatorTickFormatter\"},\"ticker\":{\"id\":\"1071\",\"type\":\"MercatorTicker\"}},\"id\":\"1070\",\"type\":\"MercatorAxis\"},{\"attributes\":{},\"id\":\"1059\",\"type\":\"LinearScale\"},{\"attributes\":{},\"id\":\"1113\",\"type\":\"Selection\"},{\"attributes\":{\"dimension\":\"lat\"},\"id\":\"1071\",\"type\":\"MercatorTicker\"},{\"attributes\":{},\"id\":\"1153\",\"type\":\"UnionRenderers\"},{\"attributes\":{\"fill_color\":{\"value\":\"#d62728\"},\"line_color\":{\"value\":\"#d62728\"},\"size\":{\"units\":\"screen\",\"value\":5},\"x\":{\"field\":\"x\"},\"y\":{\"field\":\"y\"}},\"id\":\"1098\",\"type\":\"Circle\"},{\"attributes\":{\"dimension\":\"lat\"},\"id\":\"1073\",\"type\":\"MercatorTickFormatter\"},{\"attributes\":{\"fill_alpha\":{\"value\":0.1},\"fill_color\":{\"value\":\"#1f77b4\"},\"line_alpha\":{\"value\":0.1},\"line_color\":{\"value\":\"#1f77b4\"},\"size\":{\"units\":\"screen\",\"value\":5},\"x\":{\"field\":\"x\"},\"y\":{\"field\":\"y\"}},\"id\":\"1099\",\"type\":\"Circle\"}],\"root_ids\":[\"1052\"]},\"title\":\"Bokeh Application\",\"version\":\"1.3.4\"}};\n",
       "  var render_items = [{\"docid\":\"b1c76849-7ce1-484f-9b73-404d1c2ccc8b\",\"roots\":{\"1052\":\"e120f55e-0495-4c50-9c8f-26df6e1cc111\"}}];\n",
       "  root.Bokeh.embed.embed_items_notebook(docs_json, render_items);\n",
       "\n",
       "  }\n",
       "  if (root.Bokeh !== undefined) {\n",
       "    embed_document(root);\n",
       "  } else {\n",
       "    var attempts = 0;\n",
       "    var timer = setInterval(function(root) {\n",
       "      if (root.Bokeh !== undefined) {\n",
       "        embed_document(root);\n",
       "        clearInterval(timer);\n",
       "      }\n",
       "      attempts++;\n",
       "      if (attempts > 100) {\n",
       "        console.log(\"Bokeh: ERROR: Unable to run BokehJS code because BokehJS library is missing\");\n",
       "        clearInterval(timer);\n",
       "      }\n",
       "    }, 10, root)\n",
       "  }\n",
       "})(window);"
      ],
      "application/vnd.bokehjs_exec.v0+json": ""
     },
     "metadata": {
      "application/vnd.bokehjs_exec.v0+json": {
       "id": "1052"
      }
     },
     "output_type": "display_data"
    }
   ],
   "source": [
    "# check(df.copy(), '2019-08-02 21:37:19+00:00')\n",
    "check(df.copy(), '2019-08-27 13:42:00+00:00-07:00', ref_lat=37.787619, ref_long=-122.411597)\n",
    "# DATA LOSS"
   ]
  },
  {
   "cell_type": "code",
   "execution_count": 7,
   "metadata": {},
   "outputs": [
    {
     "data": {
      "text/html": [
       "\n",
       "\n",
       "\n",
       "\n",
       "\n",
       "\n",
       "  <div class=\"bk-root\" id=\"dc72a491-e03d-486b-8d22-0c0d6738998e\" data-root-id=\"1238\"></div>\n"
      ]
     },
     "metadata": {},
     "output_type": "display_data"
    },
    {
     "data": {
      "application/javascript": [
       "(function(root) {\n",
       "  function embed_document(root) {\n",
       "    \n",
       "  var docs_json = {\"af42a215-275f-4dcb-a519-8790a04e1463\":{\"roots\":{\"references\":[{\"attributes\":{\"below\":[{\"id\":\"1247\",\"type\":\"MercatorAxis\"}],\"center\":[{\"id\":\"1255\",\"type\":\"Grid\"},{\"id\":\"1264\",\"type\":\"Grid\"},{\"id\":\"1301\",\"type\":\"Legend\"}],\"left\":[{\"id\":\"1256\",\"type\":\"MercatorAxis\"}],\"match_aspect\":true,\"renderers\":[{\"id\":\"1273\",\"type\":\"TileRenderer\"},{\"id\":\"1286\",\"type\":\"GlyphRenderer\"},{\"id\":\"1291\",\"type\":\"GlyphRenderer\"},{\"id\":\"1306\",\"type\":\"GlyphRenderer\"},{\"id\":\"1311\",\"type\":\"GlyphRenderer\"}],\"title\":{\"id\":\"1276\",\"type\":\"Title\"},\"toolbar\":{\"id\":\"1268\",\"type\":\"Toolbar\"},\"x_range\":{\"id\":\"1239\",\"type\":\"DataRange1d\"},\"x_scale\":{\"id\":\"1243\",\"type\":\"LinearScale\"},\"y_range\":{\"id\":\"1241\",\"type\":\"DataRange1d\"},\"y_scale\":{\"id\":\"1245\",\"type\":\"LinearScale\"}},\"id\":\"1238\",\"subtype\":\"Figure\",\"type\":\"Plot\"},{\"attributes\":{\"callback\":null},\"id\":\"1241\",\"type\":\"DataRange1d\"},{\"attributes\":{\"source\":{\"id\":\"1308\",\"type\":\"ColumnDataSource\"}},\"id\":\"1312\",\"type\":\"CDSView\"},{\"attributes\":{},\"id\":\"1324\",\"type\":\"UnionRenderers\"},{\"attributes\":{},\"id\":\"1267\",\"type\":\"ResetTool\"},{\"attributes\":{\"attribution\":\"&copy; <a href=\\\"https://www.openstreetmap.org/copyright\\\">OpenStreetMap</a> contributors,&copy; <a href=\\\"https://cartodb.com/attributions\\\">CartoDB</a>\",\"url\":\"https://tiles.basemaps.cartocdn.com/light_all/{z}/{x}/{y}.png\"},\"id\":\"1272\",\"type\":\"WMTSTileSource\"},{\"attributes\":{\"text\":\"\"},\"id\":\"1276\",\"type\":\"Title\"},{\"attributes\":{},\"id\":\"1321\",\"type\":\"Selection\"},{\"attributes\":{\"tile_source\":{\"id\":\"1272\",\"type\":\"WMTSTileSource\"}},\"id\":\"1273\",\"type\":\"TileRenderer\"},{\"attributes\":{\"label\":{\"value\":\"Reference position\"},\"renderers\":[{\"id\":\"1311\",\"type\":\"GlyphRenderer\"}]},\"id\":\"1325\",\"type\":\"LegendItem\"},{\"attributes\":{\"callback\":null,\"data\":{\"x\":{\"__ndarray__\":\"zv+zOYn9acHAtY9wif1pwcC1j3CJ/WnBYmfNUYj9acFiZ81RiP1pwehHEJKH/WnBWB4BvIX9acEXvlaBhP1pwSKsipCD/WnB5f61KoP9acHl/rUqg/1pwTnVgAyC/WnB0MPPmYD9acFifJUegP1pwWJ8lR6A/WnBydsUWn/9acHw+kq5fv1pwfD6Srl+/WnB0+1lLX79acHCfZQnff1pwcJp3at8/WnBwmndq3z9acGgkfJ9fP1pwegKD2h7/WnB6AoPaHv9acE9fx85e/1pwUymFL96/WnBnaSi6Xn9acG6M/cref1pwboz9yt5/WnBs+rxwnj9acGrvLMTeP1pwUe5MBV3/WnBRRBWYXb9acHKre+Rdf1pwfy0wepz/WnBEXtV4nL9acFLjWCccv1pwUuNYJxy/WnBhIIO/3H9acFfZDsXcf1pwW3Awidw/WnBbCVJEG/9acH+iYn7bf1pwXsFWhVt/WnBf90FbGv9acE6FLg5av1pwWBUeh9p/WnB8gYPVWj9acHE/u93Z/1pwc96lcdm/WnBlm2UCWb9acFtTzfrZP1pwcu7gctj/WnBz/N5xmL9acG2FDb4Yf1pwX0JSb9g/WnB2bs17l/9acEfqQjrXv1pweuNunte/WnBc/n7O179acE1cgccXf1pwTVyBxxd/WnB/QL7UV39acHqBJFzXf1pwdPlSKdd/WnBCl8x5V39acFke9H3Xf1pwWR70fdd/WnB/zxMIl79acEoEKddXv1pwVw0Jpxe/WnBMA2WpF79acEwDZakXv1pwS79ALZe/WnB4rRMy179acGocXnrXv1pwahxeete/WnBETI7BV/9acEGxx8/X/1pwbAbUmFf/WnBAVwNkF/9acHBciK7X/1pwfgJe+Jf/WnB7eCK5V/9acHt4IrlX/1pwXZD8nxg/WnB7/oeTmH9acGDEq1vYv1pwVgw60Rj/WnBuPAhP2T9acFTwtc+Zf1pwc4O3FNm/WnB+fV772b9acH/T/C6Z/1pwWTXStpo/WnBocKY0mn9acEO7iyNav1pwalOsaRq/WnBq6WC9Wr9acGrpYL1av1pwamIw9xr/WnBmHr1ZGz9acE=\",\"dtype\":\"float64\",\"shape\":[103]},\"y\":{\"__ndarray__\":\"F0AU9etaUUE4Ryi17lpRQThHKLXuWlFBBleBDe9aUUEGV4EN71pRQZ78+0XvWlFBcP5x0O9aUUGk8yEt8FpRQRWeD3TwWlFBQUoOkvBaUUFBSg6S8FpRQWg8Q/fwWlFBCOdXevFaUUHU+Oql8VpRQdT46qXxWlFBg5lf5vFaUUE2Ox0b8lpRQTY7HRvyWlFBkSe4SPJaUUFMHhKe8lpRQV2yZsbyWlFBXbJmxvJaUUEKdnzV8lpRQUGHxzDzWlFBQYfHMPNaUUHBCbk981pRQTfRYF/zWlFB3kc9mvNaUUHWNYvO81pRQdY1i87zWlFBOQz29vNaUUERR2c69FpRQU0gWpz0WlFBYoqR4fRaUUExu2Ix9VpRQUZ5PtT1WlFBxlABOvZaUUGuae1U9lpRQa5p7VT2WlFBHwOuhfZaUUHZIYXN9lpRQRHIuhf3WlFBtOFVbvdaUUFDjxjE91pRQQhHbQv4WlFB7446j/haUUGqbiXu+FpRQW9Nm0X5WlFBSOdUhPlaUUGDCdrI+VpRQTrIf//5WlFB3lZgOvpaUUHYwhyT+lpRQYDKQ+z6WlFBGFwmPftaUUEVhxB9+1pRQeKIB977WlFBk3XQHvxaUUElhx9v/FpRQdC9nJH8WlFBkTldpfxaUUFl/Jb+/FpRQWX8lv78WlFBtqJqH/9aUUEmR5VyAFtRQTKV23wCW1FBTIUI7gRbUUGR/h6qBVtRQZH+HqoFW1FBExB7VwdbUUHc42evCVtRQXglFicMW1FBx6RcfAxbUUHHpFx8DFtRQZPc/L8NW1FBOCOrSw9bUUGNqXuhEVtRQY2pe6ERW1FBDl6N2BJbUUGDkbuTFVtRQT27ujAXW1FBYFMcZRlbUUHL0WttG1tRQQx9m0gdW1FBU/6VbR1bUUFT/pVtHVtRQWisGT0dW1FBKScd+hxbUUETymKdHFtRQdqZGFkcW1FBx1L3CBxbUUEHVhO3G1tRQdRyXF4bW1FB17KFLBtbUUGamV3rGltRQQ34Vo8aW1FBwK3RPxpbUUEY6RAEGltRQQrYiPwZW1FBmO+m4hlbUUGY76biGVtRQUZ1cJkZW1FBICtSbhlbUUE=\",\"dtype\":\"float64\",\"shape\":[103]}},\"selected\":{\"id\":\"1321\",\"type\":\"Selection\"},\"selection_policy\":{\"id\":\"1322\",\"type\":\"UnionRenderers\"}},\"id\":\"1288\",\"type\":\"ColumnDataSource\"},{\"attributes\":{\"dimension\":1,\"ticker\":{\"id\":\"1257\",\"type\":\"MercatorTicker\"}},\"id\":\"1264\",\"type\":\"Grid\"},{\"attributes\":{},\"id\":\"1300\",\"type\":\"UnionRenderers\"},{\"attributes\":{},\"id\":\"1266\",\"type\":\"WheelZoomTool\"},{\"attributes\":{},\"id\":\"1299\",\"type\":\"Selection\"},{\"attributes\":{\"source\":{\"id\":\"1282\",\"type\":\"ColumnDataSource\"}},\"id\":\"1287\",\"type\":\"CDSView\"},{\"attributes\":{},\"id\":\"1243\",\"type\":\"LinearScale\"},{\"attributes\":{\"fill_alpha\":{\"value\":0.1},\"fill_color\":{\"value\":\"#1f77b4\"},\"line_alpha\":{\"value\":0.1},\"line_color\":{\"value\":\"#1f77b4\"},\"size\":{\"units\":\"screen\",\"value\":25},\"x\":{\"value\":-13626211.154965684},\"y\":{\"value\":4549733.723765165}},\"id\":\"1305\",\"type\":\"X\"},{\"attributes\":{\"data_source\":{\"id\":\"1308\",\"type\":\"ColumnDataSource\"},\"glyph\":{\"id\":\"1309\",\"type\":\"X\"},\"hover_glyph\":null,\"muted_glyph\":null,\"nonselection_glyph\":{\"id\":\"1310\",\"type\":\"X\"},\"selection_glyph\":null,\"view\":{\"id\":\"1312\",\"type\":\"CDSView\"}},\"id\":\"1311\",\"type\":\"GlyphRenderer\"},{\"attributes\":{\"formatter\":{\"id\":\"1259\",\"type\":\"MercatorTickFormatter\"},\"ticker\":{\"id\":\"1257\",\"type\":\"MercatorTicker\"}},\"id\":\"1256\",\"type\":\"MercatorAxis\"},{\"attributes\":{\"fill_alpha\":{\"value\":0.1},\"fill_color\":{\"value\":\"#1f77b4\"},\"line_alpha\":{\"value\":0.1},\"line_color\":{\"value\":\"#1f77b4\"},\"size\":{\"units\":\"screen\",\"value\":50},\"x\":{\"value\":-13626190.733243028},\"y\":{\"value\":4549731.32963211}},\"id\":\"1310\",\"type\":\"X\"},{\"attributes\":{\"active_drag\":\"auto\",\"active_inspect\":\"auto\",\"active_multi\":null,\"active_scroll\":{\"id\":\"1266\",\"type\":\"WheelZoomTool\"},\"active_tap\":\"auto\",\"tools\":[{\"id\":\"1265\",\"type\":\"PanTool\"},{\"id\":\"1266\",\"type\":\"WheelZoomTool\"},{\"id\":\"1267\",\"type\":\"ResetTool\"}]},\"id\":\"1268\",\"type\":\"Toolbar\"},{\"attributes\":{},\"id\":\"1265\",\"type\":\"PanTool\"},{\"attributes\":{\"items\":[{\"id\":\"1302\",\"type\":\"LegendItem\"},{\"id\":\"1325\",\"type\":\"LegendItem\"}]},\"id\":\"1301\",\"type\":\"Legend\"},{\"attributes\":{\"source\":{\"id\":\"1303\",\"type\":\"ColumnDataSource\"}},\"id\":\"1307\",\"type\":\"CDSView\"},{\"attributes\":{\"data_source\":{\"id\":\"1288\",\"type\":\"ColumnDataSource\"},\"glyph\":{\"id\":\"1289\",\"type\":\"Line\"},\"hover_glyph\":null,\"muted_glyph\":null,\"nonselection_glyph\":{\"id\":\"1290\",\"type\":\"Line\"},\"selection_glyph\":null,\"view\":{\"id\":\"1292\",\"type\":\"CDSView\"}},\"id\":\"1291\",\"type\":\"GlyphRenderer\"},{\"attributes\":{\"source\":{\"id\":\"1288\",\"type\":\"ColumnDataSource\"}},\"id\":\"1292\",\"type\":\"CDSView\"},{\"attributes\":{\"dimension\":\"lat\"},\"id\":\"1257\",\"type\":\"MercatorTicker\"},{\"attributes\":{\"dimension\":\"lat\"},\"id\":\"1259\",\"type\":\"MercatorTickFormatter\"},{\"attributes\":{},\"id\":\"1352\",\"type\":\"Selection\"},{\"attributes\":{\"dimension\":\"lon\"},\"id\":\"1250\",\"type\":\"MercatorTickFormatter\"},{\"attributes\":{\"callback\":null,\"data\":{},\"selected\":{\"id\":\"1323\",\"type\":\"Selection\"},\"selection_policy\":{\"id\":\"1324\",\"type\":\"UnionRenderers\"}},\"id\":\"1303\",\"type\":\"ColumnDataSource\"},{\"attributes\":{\"data_source\":{\"id\":\"1303\",\"type\":\"ColumnDataSource\"},\"glyph\":{\"id\":\"1304\",\"type\":\"X\"},\"hover_glyph\":null,\"muted_glyph\":null,\"nonselection_glyph\":{\"id\":\"1305\",\"type\":\"X\"},\"selection_glyph\":null,\"view\":{\"id\":\"1307\",\"type\":\"CDSView\"}},\"id\":\"1306\",\"type\":\"GlyphRenderer\"},{\"attributes\":{\"dimension\":\"lon\"},\"id\":\"1248\",\"type\":\"MercatorTicker\"},{\"attributes\":{},\"id\":\"1323\",\"type\":\"Selection\"},{\"attributes\":{\"formatter\":{\"id\":\"1250\",\"type\":\"MercatorTickFormatter\"},\"ticker\":{\"id\":\"1248\",\"type\":\"MercatorTicker\"}},\"id\":\"1247\",\"type\":\"MercatorAxis\"},{\"attributes\":{},\"id\":\"1322\",\"type\":\"UnionRenderers\"},{\"attributes\":{\"ticker\":{\"id\":\"1248\",\"type\":\"MercatorTicker\"}},\"id\":\"1255\",\"type\":\"Grid\"},{\"attributes\":{\"line_alpha\":0.1,\"line_color\":\"#1f77b4\",\"line_width\":2,\"x\":{\"field\":\"x\"},\"y\":{\"field\":\"y\"}},\"id\":\"1290\",\"type\":\"Line\"},{\"attributes\":{\"fill_color\":{\"value\":\"#000000\"},\"line_color\":{\"value\":\"#000000\"},\"size\":{\"units\":\"screen\",\"value\":50},\"x\":{\"value\":-13626190.733243028},\"y\":{\"value\":4549731.32963211}},\"id\":\"1309\",\"type\":\"X\"},{\"attributes\":{\"label\":{\"value\":\"Snap to road\"},\"renderers\":[{\"id\":\"1291\",\"type\":\"GlyphRenderer\"}]},\"id\":\"1302\",\"type\":\"LegendItem\"},{\"attributes\":{\"fill_alpha\":{\"value\":0.1},\"fill_color\":{\"value\":\"#1f77b4\"},\"line_alpha\":{\"value\":0.1},\"line_color\":{\"value\":\"#1f77b4\"},\"size\":{\"units\":\"screen\",\"value\":5},\"x\":{\"field\":\"x\"},\"y\":{\"field\":\"y\"}},\"id\":\"1285\",\"type\":\"Circle\"},{\"attributes\":{\"callback\":null,\"data\":{},\"selected\":{\"id\":\"1352\",\"type\":\"Selection\"},\"selection_policy\":{\"id\":\"1353\",\"type\":\"UnionRenderers\"}},\"id\":\"1308\",\"type\":\"ColumnDataSource\"},{\"attributes\":{\"callback\":null,\"data\":{\"x\":{\"__ndarray__\":\"kTkuo4n9acFSNVm8iP1pwQBAA4SH/WnBo7rlzIX9acGrUg+jhP1pwczj1p6D/WnBtJVUH4L9acFPuOWrgP1pwdfV4XN//WnBn7D0Qn79acGPxD9Hff1pwSdpm3d8/WnBPu2HO3v9acG24pKuev1pwWsm1dt5/WnBn1jwuXj9acHP960XeP1pwRfgL5F4/WnBQLrrwHj9acFvkAsweP1pwbdt/TB3/WnB/RhLhHb9acFUqnu+df1pwdnzOy10/WnBUyaQMXP9acHMj0ZHcv1pwRrYdFtx/WnBG4hOZXD9acE0qPlGb/1pwa3FJSdu/WnBYQ4tMW39acGvYOx3a/1pwRVvAFNq/WnB4CfZNGn9acHkX2RiaP1pwfLltpJn/WnB1DGv6mb9acGleTQhZv1pwT4UDRFl/WnBzJxF7GP9acH8IjjsYv1pwSUGaiRi/WnBohaLtGD9acH6NDLvX/1pwWWadeNe/WnB49dnUl79acE58UI3Xv1pwf4MO1hd/WnBxziPR139acEzJnZtXf1pwQIOVoJd/WnB0UClol39acH4yRHAXf1pwfcUgctd/WnBPd5X4F39acFSbLnyXf1pwc2QxB9f/WnBjjIxl179acF665tWXv1pwdHcXEde/WnBJZHUpl79acFTmp6CX/1pweUabo1g/WnBp1mmWmH9acH4gKBAYv1pwZc2euJh/WnBhjx8D2P9acEYNrUgZP1pwcdpeCJl/WnBL4QwJ2b9acFixX63Zv1pwfOuVIFn/WnBTHkItmj9acHZGxKuaf1pwSXJh2Nq/WnB0nlll2r9acE4YV7Ea/1pwYFYKFts/WnBt70CEWv9acHyfa8Zav1pwQ==\",\"dtype\":\"float64\",\"shape\":[80]},\"y\":{\"__ndarray__\":\"p1A55uJaUUH3LL5s6lpRQQQtLofuWlFBnoPYtfBaUUEwxA338VpRQQ2EODbxWlFBAGc7zPFaUUE/du1G8lpRQbnCACHzWlFByNk7UfNaUUFMnqci9FpRQZp+SYjyWlFBzk2mYPNaUUEvQfJv8lpRQVfYB9LyWlFBaspamfNaUUFKbb5j9FpRQTMA+cL1WlFBISUhYfRaUUFyqYT19FpRQQELS731WlFBkGjnTPZaUUFcG2UA91pRQStUM4f4WlFBw+6AcflaUUEt8Nwp+lpRQU+nJT76WlFBiC4oMvpaUUFDh0Mw+lpRQVCIBPf5WlFBnOCVcvlaUUGTetco+VpRQZs6gDT6WlFBrYJ2WfpaUUGWr3Ew+lpRQZIZgCL7WlFBY6+XxPtaUUGwuVdr+1pRQQV5gnv8WlFBdC84k/xaUUGI/Fwk/VpRQZ6vq7f9WlFBdcdcU/taUUFBnosr/FpRQYE8WA38WlFB99IrfPpaUUHYxmVo/FpRQT7c8Bz/WlFB1agDhABbUUFk9MKTAltRQcDCMBUFW1FBda//iQdbUUHQ2sTtCVtRQdZGqHkMW1FByyX87Q1bUUG6EEt6D1tRQeRfw88SW1FBMDhayxVbUUGPuxCJF1tRQWhR+dEZW1FBXjHvyBtbUUGhaFtoHVtRQcYD/goeW1FB1fWalh1bUUEsSbhRGltRQTdhCSgZW1FBKoqwvRlbUUHTM/OMGltRQbzksVQaW1FBSbprMBlbUUG3JzVxGFtRQTRX1RsYW1FBpl51yhhbUUGtw5t3GFtRQfRf6/sXW1FB7hF3VhlbUUHVpTdlGFtRQeNyfPIYW1FBytUrDRlbUUFzIbwcGFtRQQ==\",\"dtype\":\"float64\",\"shape\":[80]}},\"selected\":{\"id\":\"1299\",\"type\":\"Selection\"},\"selection_policy\":{\"id\":\"1300\",\"type\":\"UnionRenderers\"}},\"id\":\"1282\",\"type\":\"ColumnDataSource\"},{\"attributes\":{\"fill_color\":{\"value\":\"#1f77b4\"},\"line_color\":{\"value\":\"#1f77b4\"},\"size\":{\"units\":\"screen\",\"value\":25},\"x\":{\"value\":-13626211.154965684},\"y\":{\"value\":4549733.723765165}},\"id\":\"1304\",\"type\":\"X\"},{\"attributes\":{},\"id\":\"1353\",\"type\":\"UnionRenderers\"},{\"attributes\":{},\"id\":\"1245\",\"type\":\"LinearScale\"},{\"attributes\":{\"callback\":null},\"id\":\"1239\",\"type\":\"DataRange1d\"},{\"attributes\":{\"line_color\":\"#1f77b4\",\"line_width\":2,\"x\":{\"field\":\"x\"},\"y\":{\"field\":\"y\"}},\"id\":\"1289\",\"type\":\"Line\"},{\"attributes\":{\"data_source\":{\"id\":\"1282\",\"type\":\"ColumnDataSource\"},\"glyph\":{\"id\":\"1284\",\"type\":\"Circle\"},\"hover_glyph\":null,\"muted_glyph\":null,\"nonselection_glyph\":{\"id\":\"1285\",\"type\":\"Circle\"},\"selection_glyph\":null,\"view\":{\"id\":\"1287\",\"type\":\"CDSView\"}},\"id\":\"1286\",\"type\":\"GlyphRenderer\"},{\"attributes\":{\"fill_color\":{\"value\":\"#d62728\"},\"line_color\":{\"value\":\"#d62728\"},\"size\":{\"units\":\"screen\",\"value\":5},\"x\":{\"field\":\"x\"},\"y\":{\"field\":\"y\"}},\"id\":\"1284\",\"type\":\"Circle\"}],\"root_ids\":[\"1238\"]},\"title\":\"Bokeh Application\",\"version\":\"1.3.4\"}};\n",
       "  var render_items = [{\"docid\":\"af42a215-275f-4dcb-a519-8790a04e1463\",\"roots\":{\"1238\":\"dc72a491-e03d-486b-8d22-0c0d6738998e\"}}];\n",
       "  root.Bokeh.embed.embed_items_notebook(docs_json, render_items);\n",
       "\n",
       "  }\n",
       "  if (root.Bokeh !== undefined) {\n",
       "    embed_document(root);\n",
       "  } else {\n",
       "    var attempts = 0;\n",
       "    var timer = setInterval(function(root) {\n",
       "      if (root.Bokeh !== undefined) {\n",
       "        embed_document(root);\n",
       "        clearInterval(timer);\n",
       "      }\n",
       "      attempts++;\n",
       "      if (attempts > 100) {\n",
       "        console.log(\"Bokeh: ERROR: Unable to run BokehJS code because BokehJS library is missing\");\n",
       "        clearInterval(timer);\n",
       "      }\n",
       "    }, 10, root)\n",
       "  }\n",
       "})(window);"
      ],
      "application/vnd.bokehjs_exec.v0+json": ""
     },
     "metadata": {
      "application/vnd.bokehjs_exec.v0+json": {
       "id": "1238"
      }
     },
     "output_type": "display_data"
    }
   ],
   "source": [
    "# check(df.copy(), '2019-08-02 22:01:33+00:00')\n",
    "check(df.copy(), '2019-08-27 13:56:24+00:00-07:00', ref_lat=37.789497, ref_long=-122.406154)"
   ]
  },
  {
   "cell_type": "code",
   "execution_count": 8,
   "metadata": {},
   "outputs": [
    {
     "data": {
      "text/html": [
       "\n",
       "\n",
       "\n",
       "\n",
       "\n",
       "\n",
       "  <div class=\"bk-root\" id=\"bc196f13-92a3-41ed-a03c-6542c05afc6e\" data-root-id=\"1438\"></div>\n"
      ]
     },
     "metadata": {},
     "output_type": "display_data"
    },
    {
     "data": {
      "application/javascript": [
       "(function(root) {\n",
       "  function embed_document(root) {\n",
       "    \n",
       "  var docs_json = {\"57b7e17f-b51c-4916-b79f-10c11e86e9ad\":{\"roots\":{\"references\":[{\"attributes\":{\"below\":[{\"id\":\"1447\",\"type\":\"MercatorAxis\"}],\"center\":[{\"id\":\"1455\",\"type\":\"Grid\"},{\"id\":\"1464\",\"type\":\"Grid\"},{\"id\":\"1501\",\"type\":\"Legend\"}],\"left\":[{\"id\":\"1456\",\"type\":\"MercatorAxis\"}],\"match_aspect\":true,\"renderers\":[{\"id\":\"1473\",\"type\":\"TileRenderer\"},{\"id\":\"1486\",\"type\":\"GlyphRenderer\"},{\"id\":\"1491\",\"type\":\"GlyphRenderer\"},{\"id\":\"1506\",\"type\":\"GlyphRenderer\"},{\"id\":\"1511\",\"type\":\"GlyphRenderer\"}],\"title\":{\"id\":\"1476\",\"type\":\"Title\"},\"toolbar\":{\"id\":\"1468\",\"type\":\"Toolbar\"},\"x_range\":{\"id\":\"1439\",\"type\":\"DataRange1d\"},\"x_scale\":{\"id\":\"1443\",\"type\":\"LinearScale\"},\"y_range\":{\"id\":\"1441\",\"type\":\"DataRange1d\"},\"y_scale\":{\"id\":\"1445\",\"type\":\"LinearScale\"}},\"id\":\"1438\",\"subtype\":\"Figure\",\"type\":\"Plot\"},{\"attributes\":{\"items\":[{\"id\":\"1502\",\"type\":\"LegendItem\"},{\"id\":\"1525\",\"type\":\"LegendItem\"}]},\"id\":\"1501\",\"type\":\"Legend\"},{\"attributes\":{\"source\":{\"id\":\"1503\",\"type\":\"ColumnDataSource\"}},\"id\":\"1507\",\"type\":\"CDSView\"},{\"attributes\":{},\"id\":\"1500\",\"type\":\"UnionRenderers\"},{\"attributes\":{\"fill_color\":{\"value\":\"#1f77b4\"},\"line_color\":{\"value\":\"#1f77b4\"},\"size\":{\"units\":\"screen\",\"value\":25},\"x\":{\"value\":-13626221.603987686},\"y\":{\"value\":4549664.20494107}},\"id\":\"1504\",\"type\":\"X\"},{\"attributes\":{\"dimension\":\"lat\"},\"id\":\"1457\",\"type\":\"MercatorTicker\"},{\"attributes\":{},\"id\":\"1567\",\"type\":\"UnionRenderers\"},{\"attributes\":{\"callback\":null},\"id\":\"1439\",\"type\":\"DataRange1d\"},{\"attributes\":{\"tile_source\":{\"id\":\"1472\",\"type\":\"WMTSTileSource\"}},\"id\":\"1473\",\"type\":\"TileRenderer\"},{\"attributes\":{\"text\":\"\"},\"id\":\"1476\",\"type\":\"Title\"},{\"attributes\":{\"label\":{\"value\":\"Snap to road\"},\"renderers\":[{\"id\":\"1491\",\"type\":\"GlyphRenderer\"}]},\"id\":\"1502\",\"type\":\"LegendItem\"},{\"attributes\":{\"line_color\":\"#1f77b4\",\"line_width\":2,\"x\":{\"field\":\"x\"},\"y\":{\"field\":\"y\"}},\"id\":\"1489\",\"type\":\"Line\"},{\"attributes\":{\"callback\":null},\"id\":\"1441\",\"type\":\"DataRange1d\"},{\"attributes\":{\"data_source\":{\"id\":\"1488\",\"type\":\"ColumnDataSource\"},\"glyph\":{\"id\":\"1489\",\"type\":\"Line\"},\"hover_glyph\":null,\"muted_glyph\":null,\"nonselection_glyph\":{\"id\":\"1490\",\"type\":\"Line\"},\"selection_glyph\":null,\"view\":{\"id\":\"1492\",\"type\":\"CDSView\"}},\"id\":\"1491\",\"type\":\"GlyphRenderer\"},{\"attributes\":{},\"id\":\"1466\",\"type\":\"WheelZoomTool\"},{\"attributes\":{\"fill_color\":{\"value\":\"#d62728\"},\"line_color\":{\"value\":\"#d62728\"},\"size\":{\"units\":\"screen\",\"value\":5},\"x\":{\"field\":\"x\"},\"y\":{\"field\":\"y\"}},\"id\":\"1484\",\"type\":\"Circle\"},{\"attributes\":{\"callback\":null,\"data\":{\"x\":{\"__ndarray__\":\"ewVaFW39acF/3QVsa/1pwToUuDlq/WnBYFR6H2n9acHyBg9VaP1pwcT+73dn/WnBz3qVx2b9acGWbZQJZv1pwW1PN+tk/WnBy7uBy2P9acHP83nGYv1pwbYUNvhh/WnBfQlJv2D9acHZuzXuX/1pwR+pCOte/WnB6426e179acFz+fs7Xv1pwTVyBxxd/WnBNXIHHF39acH9AvtRXf1pweoEkXNd/WnB0+VIp139acEKXzHlXf1pwWR70fdd/WnBZHvR9139acH/PEwiXv1pwSgQp11e/WnBXDQmnF79acEwDZakXv1pwTANlqRe/WnBLv0Atl79acHitEzLXv1pwahxeete/WnBqHF56179acERMjsFX/1pwQbHHz9f/WnBsBtSYV/9acEBXA2QX/1pwcFyIrtf/WnB+Al74l/9acHt4IrlX/1pwe3giuVf/WnBdkPyfGD9acHv+h5OYf1pwYMSrW9i/WnBWDDrRGP9acG48CE/ZP1pwVPC1z5l/WnBzg7cU2b9acH59XvvZv1pwf9P8Lpn/WnBZNdK2mj9acGhwpjSaf1pwQ7uLI1q/WnBqU6xpGr9acGrpYL1av1pwaulgvVq/WnBq6WC9Wr9acGrpYL1av1pwaulgvVq/WnBq6WC9Wr9acGrpYL1av1pwaulgvVq/WnBq6WC9Wr9acGrpYL1av1pwaulgvVq/WnBq6WC9Wr9acGrpYL1av1pwbYw0IN1/WnBtjDQg3X9acG9UKQEdf1pwb1QpAR1/WnBcjookHT9acFyOiiQdP1pwW4LGuRz/WnBbgsa5HP9acH83VOzbf1pwQ==\",\"dtype\":\"float64\",\"shape\":[77]},\"y\":{\"__ndarray__\":\"CEdtC/haUUHvjjqP+FpRQapuJe74WlFBb02bRflaUUFI51SE+VpRQYMJ2sj5WlFBOsh///laUUHeVmA6+lpRQdjCHJP6WlFBgMpD7PpaUUEYXCY9+1pRQRWHEH37WlFB4ogH3vtaUUGTddAe/FpRQSWHH2/8WlFB0L2ckfxaUUGROV2l/FpRQWX8lv78WlFBZfyW/vxaUUG2omof/1pRQSZHlXIAW1FBMpXbfAJbUUFMhQjuBFtRQZH+HqoFW1FBkf4eqgVbUUETEHtXB1tRQdzjZ68JW1FBeCUWJwxbUUHHpFx8DFtRQcekXHwMW1FBk9z8vw1bUUE4I6tLD1tRQY2pe6ERW1FBjal7oRFbUUEOXo3YEltRQYORu5MVW1FBPbu6MBdbUUFgUxxlGVtRQcvRa20bW1FBDH2bSB1bUUFT/pVtHVtRQVP+lW0dW1FBaKwZPR1bUUEpJx36HFtRQRPKYp0cW1FB2pkYWRxbUUHHUvcIHFtRQQdWE7cbW1FB1HJcXhtbUUHXsoUsG1tRQZqZXesaW1FBDfhWjxpbUUHArdE/GltRQRjpEAQaW1FBCtiI/BlbUUGY76biGVtRQZjvpuIZW1FBmO+m4hlbUUGY76biGVtRQZjvpuIZW1FBmO+m4hlbUUGY76biGVtRQZjvpuIZW1FBmO+m4hlbUUGY76biGVtRQZjvpuIZW1FBmO+m4hlbUUGY76biGVtRQU83G4sWW1FBTzcbixZbUUHpM7HMD1tRQekzscwPW1FBcZ3KdwpbUUFxncp3CltRQQYjXToGW1FBBiNdOgZbUUEmwR0NCFtRQQ==\",\"dtype\":\"float64\",\"shape\":[77]}},\"selected\":{\"id\":\"1521\",\"type\":\"Selection\"},\"selection_policy\":{\"id\":\"1522\",\"type\":\"UnionRenderers\"}},\"id\":\"1488\",\"type\":\"ColumnDataSource\"},{\"attributes\":{\"data_source\":{\"id\":\"1482\",\"type\":\"ColumnDataSource\"},\"glyph\":{\"id\":\"1484\",\"type\":\"Circle\"},\"hover_glyph\":null,\"muted_glyph\":null,\"nonselection_glyph\":{\"id\":\"1485\",\"type\":\"Circle\"},\"selection_glyph\":null,\"view\":{\"id\":\"1487\",\"type\":\"CDSView\"}},\"id\":\"1486\",\"type\":\"GlyphRenderer\"},{\"attributes\":{\"data_source\":{\"id\":\"1508\",\"type\":\"ColumnDataSource\"},\"glyph\":{\"id\":\"1509\",\"type\":\"X\"},\"hover_glyph\":null,\"muted_glyph\":null,\"nonselection_glyph\":{\"id\":\"1510\",\"type\":\"X\"},\"selection_glyph\":null,\"view\":{\"id\":\"1512\",\"type\":\"CDSView\"}},\"id\":\"1511\",\"type\":\"GlyphRenderer\"},{\"attributes\":{\"ticker\":{\"id\":\"1448\",\"type\":\"MercatorTicker\"}},\"id\":\"1455\",\"type\":\"Grid\"},{\"attributes\":{\"source\":{\"id\":\"1488\",\"type\":\"ColumnDataSource\"}},\"id\":\"1492\",\"type\":\"CDSView\"},{\"attributes\":{\"formatter\":{\"id\":\"1459\",\"type\":\"MercatorTickFormatter\"},\"ticker\":{\"id\":\"1457\",\"type\":\"MercatorTicker\"}},\"id\":\"1456\",\"type\":\"MercatorAxis\"},{\"attributes\":{\"fill_alpha\":{\"value\":0.1},\"fill_color\":{\"value\":\"#1f77b4\"},\"line_alpha\":{\"value\":0.1},\"line_color\":{\"value\":\"#1f77b4\"},\"size\":{\"units\":\"screen\",\"value\":5},\"x\":{\"field\":\"x\"},\"y\":{\"field\":\"y\"}},\"id\":\"1485\",\"type\":\"Circle\"},{\"attributes\":{},\"id\":\"1523\",\"type\":\"Selection\"},{\"attributes\":{},\"id\":\"1467\",\"type\":\"ResetTool\"},{\"attributes\":{\"source\":{\"id\":\"1508\",\"type\":\"ColumnDataSource\"}},\"id\":\"1512\",\"type\":\"CDSView\"},{\"attributes\":{},\"id\":\"1499\",\"type\":\"Selection\"},{\"attributes\":{\"dimension\":\"lon\"},\"id\":\"1448\",\"type\":\"MercatorTicker\"},{\"attributes\":{},\"id\":\"1522\",\"type\":\"UnionRenderers\"},{\"attributes\":{\"label\":{\"value\":\"Reference position\"},\"renderers\":[{\"id\":\"1511\",\"type\":\"GlyphRenderer\"}]},\"id\":\"1525\",\"type\":\"LegendItem\"},{\"attributes\":{\"formatter\":{\"id\":\"1450\",\"type\":\"MercatorTickFormatter\"},\"ticker\":{\"id\":\"1448\",\"type\":\"MercatorTicker\"}},\"id\":\"1447\",\"type\":\"MercatorAxis\"},{\"attributes\":{\"fill_alpha\":{\"value\":0.1},\"fill_color\":{\"value\":\"#1f77b4\"},\"line_alpha\":{\"value\":0.1},\"line_color\":{\"value\":\"#1f77b4\"},\"size\":{\"units\":\"screen\",\"value\":25},\"x\":{\"value\":-13626221.603987686},\"y\":{\"value\":4549664.20494107}},\"id\":\"1505\",\"type\":\"X\"},{\"attributes\":{},\"id\":\"1465\",\"type\":\"PanTool\"},{\"attributes\":{\"dimension\":\"lon\"},\"id\":\"1450\",\"type\":\"MercatorTickFormatter\"},{\"attributes\":{\"callback\":null,\"data\":{},\"selected\":{\"id\":\"1523\",\"type\":\"Selection\"},\"selection_policy\":{\"id\":\"1524\",\"type\":\"UnionRenderers\"}},\"id\":\"1503\",\"type\":\"ColumnDataSource\"},{\"attributes\":{\"active_drag\":\"auto\",\"active_inspect\":\"auto\",\"active_multi\":null,\"active_scroll\":{\"id\":\"1466\",\"type\":\"WheelZoomTool\"},\"active_tap\":\"auto\",\"tools\":[{\"id\":\"1465\",\"type\":\"PanTool\"},{\"id\":\"1466\",\"type\":\"WheelZoomTool\"},{\"id\":\"1467\",\"type\":\"ResetTool\"}]},\"id\":\"1468\",\"type\":\"Toolbar\"},{\"attributes\":{},\"id\":\"1566\",\"type\":\"Selection\"},{\"attributes\":{\"callback\":null,\"data\":{},\"selected\":{\"id\":\"1566\",\"type\":\"Selection\"},\"selection_policy\":{\"id\":\"1567\",\"type\":\"UnionRenderers\"}},\"id\":\"1508\",\"type\":\"ColumnDataSource\"},{\"attributes\":{\"data_source\":{\"id\":\"1503\",\"type\":\"ColumnDataSource\"},\"glyph\":{\"id\":\"1504\",\"type\":\"X\"},\"hover_glyph\":null,\"muted_glyph\":null,\"nonselection_glyph\":{\"id\":\"1505\",\"type\":\"X\"},\"selection_glyph\":null,\"view\":{\"id\":\"1507\",\"type\":\"CDSView\"}},\"id\":\"1506\",\"type\":\"GlyphRenderer\"},{\"attributes\":{},\"id\":\"1521\",\"type\":\"Selection\"},{\"attributes\":{\"dimension\":1,\"ticker\":{\"id\":\"1457\",\"type\":\"MercatorTicker\"}},\"id\":\"1464\",\"type\":\"Grid\"},{\"attributes\":{},\"id\":\"1524\",\"type\":\"UnionRenderers\"},{\"attributes\":{\"fill_color\":{\"value\":\"#000000\"},\"line_color\":{\"value\":\"#000000\"},\"size\":{\"units\":\"screen\",\"value\":50},\"x\":{\"value\":-13626205.650054792},\"y\":{\"value\":4549671.040409808}},\"id\":\"1509\",\"type\":\"X\"},{\"attributes\":{\"attribution\":\"&copy; <a href=\\\"https://www.openstreetmap.org/copyright\\\">OpenStreetMap</a> contributors,&copy; <a href=\\\"https://cartodb.com/attributions\\\">CartoDB</a>\",\"url\":\"https://tiles.basemaps.cartocdn.com/light_all/{z}/{x}/{y}.png\"},\"id\":\"1472\",\"type\":\"WMTSTileSource\"},{\"attributes\":{},\"id\":\"1443\",\"type\":\"LinearScale\"},{\"attributes\":{\"dimension\":\"lat\"},\"id\":\"1459\",\"type\":\"MercatorTickFormatter\"},{\"attributes\":{\"callback\":null,\"data\":{\"x\":{\"__ndarray__\":\"YQ4tMW39acGvYOx3a/1pwRVvAFNq/WnB4CfZNGn9acHkX2RiaP1pwfLltpJn/WnB1DGv6mb9acGleTQhZv1pwT4UDRFl/WnBzJxF7GP9acH8IjjsYv1pwSUGaiRi/WnBohaLtGD9acH6NDLvX/1pwWWadeNe/WnB49dnUl79acE58UI3Xv1pwf4MO1hd/WnBxziPR139acEzJnZtXf1pwQIOVoJd/WnB0UClol39acH4yRHAXf1pwfcUgctd/WnBPd5X4F39acFSbLnyXf1pwc2QxB9f/WnBjjIxl179acF665tWXv1pwdHcXEde/WnBJZHUpl79acFTmp6CX/1pweUabo1g/WnBp1mmWmH9acH4gKBAYv1pwZc2euJh/WnBhjx8D2P9acEYNrUgZP1pwcdpeCJl/WnBL4QwJ2b9acFixX63Zv1pwfOuVIFn/WnBTHkItmj9acHZGxKuaf1pwSXJh2Nq/WnB0nlll2r9acE4YV7Ea/1pwYFYKFts/WnBt70CEWv9acHyfa8Zav1pweN5NX9q/WnBKKwL2mr9acERuVQ0av1pwRAY0Tlq/WnBAvuLQWr9acFUcsgBav1pwa5aIdxp/WnBQRJh6mn9acFBT5yJav1pwdUvCj1r/WnBUTtRhWv9acGzPrkDa/1pwR9AtJxq/WnB1sAxaWr9acG1SEo2av1pwalPbgZr/WnBpVMYuWr9acFLsXCGav1pwT3pJFNq/WnBQUBN82r9acEVEHZba/1pwY1vmz5r/WnBR7rYnGr9acExVJj3af1pwcVh7PRp/WnBvA5gFWr9acGrm/g7a/1pwRBVDNlq/WnBel9viGr9acH/BQdPbf1pwQ==\",\"dtype\":\"float64\",\"shape\":[80]},\"y\":{\"__ndarray__\":\"nOCVcvlaUUGTetco+VpRQZs6gDT6WlFBrYJ2WfpaUUGWr3Ew+lpRQZIZgCL7WlFBY6+XxPtaUUGwuVdr+1pRQQV5gnv8WlFBdC84k/xaUUGI/Fwk/VpRQZ6vq7f9WlFBdcdcU/taUUFBnosr/FpRQYE8WA38WlFB99IrfPpaUUHYxmVo/FpRQT7c8Bz/WlFB1agDhABbUUFk9MKTAltRQcDCMBUFW1FBda//iQdbUUHQ2sTtCVtRQdZGqHkMW1FByyX87Q1bUUG6EEt6D1tRQeRfw88SW1FBMDhayxVbUUGPuxCJF1tRQWhR+dEZW1FBXjHvyBtbUUGhaFtoHVtRQcYD/goeW1FB1fWalh1bUUEsSbhRGltRQTdhCSgZW1FBKoqwvRlbUUHTM/OMGltRQbzksVQaW1FBSbprMBlbUUG3JzVxGFtRQTRX1RsYW1FBpl51yhhbUUGtw5t3GFtRQfRf6/sXW1FB7hF3VhlbUUHVpTdlGFtRQeNyfPIYW1FBytUrDRlbUUFzIbwcGFtRQXsFgsgZW1FBh08L7hpbUUHYnLI+GltRQSvzMvQYW1FBO5UEuxpbUUFq0DVgHFtRQXDT1DMeW1FB+1REsR9bUUH0i1esIFtRQdKYXk4fW1FBc/5pqRxbUUFYcjkvG1tRQVCHqxYaW1FB4qmPqBhbUUHM3ustF1tRQVa/PPsNW1FBRRa3swxbUUFsAIWCCltRQWtcCCwJW1FBqshDIw5bUUGXDpKwEltRQV7AfnUUW1FBCxXYShxbUUHhnYqMHltRQbJHQxMgW1FBhPy0jyFbUUFLWF6KG1tRQfZ2h6YcW1FB+Bq+5x1bUUF8KOO6AltRQQ==\",\"dtype\":\"float64\",\"shape\":[80]}},\"selected\":{\"id\":\"1499\",\"type\":\"Selection\"},\"selection_policy\":{\"id\":\"1500\",\"type\":\"UnionRenderers\"}},\"id\":\"1482\",\"type\":\"ColumnDataSource\"},{\"attributes\":{\"fill_alpha\":{\"value\":0.1},\"fill_color\":{\"value\":\"#1f77b4\"},\"line_alpha\":{\"value\":0.1},\"line_color\":{\"value\":\"#1f77b4\"},\"size\":{\"units\":\"screen\",\"value\":50},\"x\":{\"value\":-13626205.650054792},\"y\":{\"value\":4549671.040409808}},\"id\":\"1510\",\"type\":\"X\"},{\"attributes\":{\"source\":{\"id\":\"1482\",\"type\":\"ColumnDataSource\"}},\"id\":\"1487\",\"type\":\"CDSView\"},{\"attributes\":{},\"id\":\"1445\",\"type\":\"LinearScale\"},{\"attributes\":{\"line_alpha\":0.1,\"line_color\":\"#1f77b4\",\"line_width\":2,\"x\":{\"field\":\"x\"},\"y\":{\"field\":\"y\"}},\"id\":\"1490\",\"type\":\"Line\"}],\"root_ids\":[\"1438\"]},\"title\":\"Bokeh Application\",\"version\":\"1.3.4\"}};\n",
       "  var render_items = [{\"docid\":\"57b7e17f-b51c-4916-b79f-10c11e86e9ad\",\"roots\":{\"1438\":\"bc196f13-92a3-41ed-a03c-6542c05afc6e\"}}];\n",
       "  root.Bokeh.embed.embed_items_notebook(docs_json, render_items);\n",
       "\n",
       "  }\n",
       "  if (root.Bokeh !== undefined) {\n",
       "    embed_document(root);\n",
       "  } else {\n",
       "    var attempts = 0;\n",
       "    var timer = setInterval(function(root) {\n",
       "      if (root.Bokeh !== undefined) {\n",
       "        embed_document(root);\n",
       "        clearInterval(timer);\n",
       "      }\n",
       "      attempts++;\n",
       "      if (attempts > 100) {\n",
       "        console.log(\"Bokeh: ERROR: Unable to run BokehJS code because BokehJS library is missing\");\n",
       "        clearInterval(timer);\n",
       "      }\n",
       "    }, 10, root)\n",
       "  }\n",
       "})(window);"
      ],
      "application/vnd.bokehjs_exec.v0+json": ""
     },
     "metadata": {
      "application/vnd.bokehjs_exec.v0+json": {
       "id": "1438"
      }
     },
     "output_type": "display_data"
    }
   ],
   "source": [
    "# check(df.copy(), '2019-08-02 22:19:08+00:00')\n",
    "check(df.copy(), '2019-08-27 14:07:06+00:00-07:00', 1, ref_lat=37.789069, ref_long=-122.406288)"
   ]
  },
  {
   "cell_type": "code",
   "execution_count": 9,
   "metadata": {},
   "outputs": [
    {
     "data": {
      "text/html": [
       "\n",
       "\n",
       "\n",
       "\n",
       "\n",
       "\n",
       "  <div class=\"bk-root\" id=\"74da1053-3a09-43af-980c-5c95d39159e5\" data-root-id=\"1652\"></div>\n"
      ]
     },
     "metadata": {},
     "output_type": "display_data"
    },
    {
     "data": {
      "application/javascript": [
       "(function(root) {\n",
       "  function embed_document(root) {\n",
       "    \n",
       "  var docs_json = {\"dcadf709-8b04-4a50-a787-c8dd102b4ea5\":{\"roots\":{\"references\":[{\"attributes\":{\"below\":[{\"id\":\"1661\",\"type\":\"MercatorAxis\"}],\"center\":[{\"id\":\"1669\",\"type\":\"Grid\"},{\"id\":\"1678\",\"type\":\"Grid\"},{\"id\":\"1715\",\"type\":\"Legend\"}],\"left\":[{\"id\":\"1670\",\"type\":\"MercatorAxis\"}],\"match_aspect\":true,\"renderers\":[{\"id\":\"1687\",\"type\":\"TileRenderer\"},{\"id\":\"1700\",\"type\":\"GlyphRenderer\"},{\"id\":\"1705\",\"type\":\"GlyphRenderer\"},{\"id\":\"1720\",\"type\":\"GlyphRenderer\"},{\"id\":\"1725\",\"type\":\"GlyphRenderer\"}],\"title\":{\"id\":\"1690\",\"type\":\"Title\"},\"toolbar\":{\"id\":\"1682\",\"type\":\"Toolbar\"},\"x_range\":{\"id\":\"1653\",\"type\":\"DataRange1d\"},\"x_scale\":{\"id\":\"1657\",\"type\":\"LinearScale\"},\"y_range\":{\"id\":\"1655\",\"type\":\"DataRange1d\"},\"y_scale\":{\"id\":\"1659\",\"type\":\"LinearScale\"}},\"id\":\"1652\",\"subtype\":\"Figure\",\"type\":\"Plot\"},{\"attributes\":{},\"id\":\"1680\",\"type\":\"WheelZoomTool\"},{\"attributes\":{\"line_alpha\":0.1,\"line_color\":\"#1f77b4\",\"line_width\":2,\"x\":{\"field\":\"x\"},\"y\":{\"field\":\"y\"}},\"id\":\"1704\",\"type\":\"Line\"},{\"attributes\":{\"label\":{\"value\":\"Snap to road\"},\"renderers\":[{\"id\":\"1705\",\"type\":\"GlyphRenderer\"}]},\"id\":\"1716\",\"type\":\"LegendItem\"},{\"attributes\":{\"active_drag\":\"auto\",\"active_inspect\":\"auto\",\"active_multi\":null,\"active_scroll\":{\"id\":\"1680\",\"type\":\"WheelZoomTool\"},\"active_tap\":\"auto\",\"tools\":[{\"id\":\"1679\",\"type\":\"PanTool\"},{\"id\":\"1680\",\"type\":\"WheelZoomTool\"},{\"id\":\"1681\",\"type\":\"ResetTool\"}]},\"id\":\"1682\",\"type\":\"Toolbar\"},{\"attributes\":{},\"id\":\"1713\",\"type\":\"Selection\"},{\"attributes\":{},\"id\":\"1738\",\"type\":\"UnionRenderers\"},{\"attributes\":{\"callback\":null,\"data\":{\"x\":{\"__ndarray__\":\"35v28w39acEoPLTOC/1pwbbTO0AK/WnBEaeI2gf9acHu9irlBv1pwQhiRdIF/WnBd307XgT9acG/c/81A/1pwSVQb2MC/WnBNWgE6gD9acEHLZ3Z//xpwWNbrtT+/GnBJca/s/38acGPrdTE/PxpwQ+/CQb8/GnBIExC/Pz8acHtN77R/fxpwafii+b9/GnBseAeAf78acHujtEGAP1pwdV9dbsA/WnBHVtnvP/8acEGErgL/fxpwaJT9Pz7/GnBXhLPC/z8acHO3Yk2+/xpwQlJPXr6/GnB3yfDavn8acHC01lr+PxpwR+dKj71/GnBS214mPP8acHW/h8D8vxpwXnnxm7w/GnByLtsPe38acFWJxQk7vxpwX+ryVbt/GnBvibu0+v8acFeaUXv6vxpwSmMMcjq/GnBDVGTJur8acH4AyzR6PxpwW06Iw/o/GnBNEyRduf8acFIVwZC5/xpwS9fg0bn/GnBXPhZJOf8acHTNCN35/xpwRwJn2/n/GnBbhIQlOf8acEExqxo5/xpwTqyCK3n/GnB6YGRRej8acFKP0Gj6PxpwUSTEUzp/GnB5Z8FnOr8acHAqeGT6/xpwXgrbJjs/GnBXIjUb+38acFlix517vxpwbdJGRXv/GnBLWJyJu/8acGwFTia7/xpwSPYdUPw/GnBT584KvH8acFXYIKz8fxpwbDVQ5zy/GnBzpiM6PP8acH73XY59fxpwcSH6xn2/GnBQRYfqfb8acF7fRPP9/xpwQ8xorH4/GnBfI1hq/n8acEq37tg+vxpwW3L2Zr7/GnB7yPGQvz8acF/1jKC/fxpwVIQdlr+/GnBXPr0Af/8acFnbCXN//xpwQ==\",\"dtype\":\"float64\",\"shape\":[80]},\"y\":{\"__ndarray__\":\"NjrWnuNbUUHihHYC5FtRQcuhb43jW1FB4RW1WeBbUUGDZMzn4FtRQcwML+XgW1FBQVJTV+FbUUHLSHqc4VtRQZQZPk3jW1FBy73Z0+NbUUGm6Xgz5VtRQfhFTmjlW1FBb3GOCOVbUUGygkfo5FtRQWaf/WbkW1FB8XqYn+JbUUFFCLPA5FtRQePtXBDmW1FB7F2Tz+RbUUGEe0/16ltRQbjP23XuW1FBRs6JbOpbUUFMCsI+51tRQSqcp6LnW1FB94ScOOVbUUEeu3HU5FtRQWqGIKPkW1FBchHEUeVbUUHH2E835ltRQdv2F7HuW1FBK3ZV//FbUUGmk/tQ81tRQf6PmUr1W1FBaFi3X/dbUUFvA6A89VtRQSpJqzv0W1FBC39tG/NbUUGsOAyl8ltRQSqLzhv1W1FBLji0C/RbUUEcFZwd8FtRQSL54NXuW1FBMQgnQ+9bUUHhARBb8VtRQQxmSODyW1FBWKDULvVbUUGV9Asi91tRQcumRmv5W1FBUeBjkvxbUUG1Hj7z/ltRQZlTtvoBXFFBzfn9XgRcUUGwc8qPBlxRQQ7LMwUJXFFBNKnm6wdcUUFkRZg8CFxRQVJYOPwHXFFBFN3OOAhcUUEZdHhhCFxRQfMtdIgHXFFBO2zhCQRcUUHQbZ9FBVxRQQeASIAGXFFB7kFl5AVcUUHhc2QXB1xRQcsK24MHXFFBiNIbwQZcUUHWObD+BlxRQSUfTZwEXFFBUYfr5gVcUUGJQE/AA1xRQQ5c1u8AXFFBKAh+AwFcUUFkRM01AVxRQSmGrOIAXFFB72yrUAFcUUED5vfFAVxRQbwHgA0BXFFBw5oZ5gBcUUHjx71ZAlxRQQ==\",\"dtype\":\"float64\",\"shape\":[80]}},\"selected\":{\"id\":\"1713\",\"type\":\"Selection\"},\"selection_policy\":{\"id\":\"1714\",\"type\":\"UnionRenderers\"}},\"id\":\"1696\",\"type\":\"ColumnDataSource\"},{\"attributes\":{\"dimension\":\"lat\"},\"id\":\"1673\",\"type\":\"MercatorTickFormatter\"},{\"attributes\":{},\"id\":\"1794\",\"type\":\"Selection\"},{\"attributes\":{\"fill_alpha\":{\"value\":0.1},\"fill_color\":{\"value\":\"#1f77b4\"},\"line_alpha\":{\"value\":0.1},\"line_color\":{\"value\":\"#1f77b4\"},\"size\":{\"units\":\"screen\",\"value\":50},\"x\":{\"value\":-13625334.90899781},\"y\":{\"value\":4550661.771841651}},\"id\":\"1724\",\"type\":\"X\"},{\"attributes\":{},\"id\":\"1795\",\"type\":\"UnionRenderers\"},{\"attributes\":{\"dimension\":\"lat\"},\"id\":\"1671\",\"type\":\"MercatorTicker\"},{\"attributes\":{\"source\":{\"id\":\"1702\",\"type\":\"ColumnDataSource\"}},\"id\":\"1706\",\"type\":\"CDSView\"},{\"attributes\":{\"formatter\":{\"id\":\"1673\",\"type\":\"MercatorTickFormatter\"},\"ticker\":{\"id\":\"1671\",\"type\":\"MercatorTicker\"}},\"id\":\"1670\",\"type\":\"MercatorAxis\"},{\"attributes\":{\"label\":{\"value\":\"Reference position\"},\"renderers\":[{\"id\":\"1725\",\"type\":\"GlyphRenderer\"}]},\"id\":\"1739\",\"type\":\"LegendItem\"},{\"attributes\":{\"source\":{\"id\":\"1722\",\"type\":\"ColumnDataSource\"}},\"id\":\"1726\",\"type\":\"CDSView\"},{\"attributes\":{\"fill_color\":{\"value\":\"#d62728\"},\"line_color\":{\"value\":\"#d62728\"},\"size\":{\"units\":\"screen\",\"value\":5},\"x\":{\"field\":\"x\"},\"y\":{\"field\":\"y\"}},\"id\":\"1698\",\"type\":\"Circle\"},{\"attributes\":{\"dimension\":1,\"ticker\":{\"id\":\"1671\",\"type\":\"MercatorTicker\"}},\"id\":\"1678\",\"type\":\"Grid\"},{\"attributes\":{\"data_source\":{\"id\":\"1722\",\"type\":\"ColumnDataSource\"},\"glyph\":{\"id\":\"1723\",\"type\":\"X\"},\"hover_glyph\":null,\"muted_glyph\":null,\"nonselection_glyph\":{\"id\":\"1724\",\"type\":\"X\"},\"selection_glyph\":null,\"view\":{\"id\":\"1726\",\"type\":\"CDSView\"}},\"id\":\"1725\",\"type\":\"GlyphRenderer\"},{\"attributes\":{\"ticker\":{\"id\":\"1662\",\"type\":\"MercatorTicker\"}},\"id\":\"1669\",\"type\":\"Grid\"},{\"attributes\":{\"callback\":null},\"id\":\"1655\",\"type\":\"DataRange1d\"},{\"attributes\":{\"text\":\"\"},\"id\":\"1690\",\"type\":\"Title\"},{\"attributes\":{\"fill_alpha\":{\"value\":0.1},\"fill_color\":{\"value\":\"#1f77b4\"},\"line_alpha\":{\"value\":0.1},\"line_color\":{\"value\":\"#1f77b4\"},\"size\":{\"units\":\"screen\",\"value\":5},\"x\":{\"field\":\"x\"},\"y\":{\"field\":\"y\"}},\"id\":\"1699\",\"type\":\"Circle\"},{\"attributes\":{\"fill_color\":{\"value\":\"#1f77b4\"},\"line_color\":{\"value\":\"#1f77b4\"},\"size\":{\"units\":\"screen\",\"value\":25},\"x\":{\"value\":-13625342.741230164},\"y\":{\"value\":4550667.117337016}},\"id\":\"1718\",\"type\":\"X\"},{\"attributes\":{},\"id\":\"1735\",\"type\":\"Selection\"},{\"attributes\":{},\"id\":\"1681\",\"type\":\"ResetTool\"},{\"attributes\":{\"source\":{\"id\":\"1696\",\"type\":\"ColumnDataSource\"}},\"id\":\"1701\",\"type\":\"CDSView\"},{\"attributes\":{\"fill_color\":{\"value\":\"#000000\"},\"line_color\":{\"value\":\"#000000\"},\"size\":{\"units\":\"screen\",\"value\":50},\"x\":{\"value\":-13625334.90899781},\"y\":{\"value\":4550661.771841651}},\"id\":\"1723\",\"type\":\"X\"},{\"attributes\":{},\"id\":\"1736\",\"type\":\"UnionRenderers\"},{\"attributes\":{},\"id\":\"1657\",\"type\":\"LinearScale\"},{\"attributes\":{\"callback\":null,\"data\":{},\"selected\":{\"id\":\"1794\",\"type\":\"Selection\"},\"selection_policy\":{\"id\":\"1795\",\"type\":\"UnionRenderers\"}},\"id\":\"1722\",\"type\":\"ColumnDataSource\"},{\"attributes\":{\"attribution\":\"&copy; <a href=\\\"https://www.openstreetmap.org/copyright\\\">OpenStreetMap</a> contributors,&copy; <a href=\\\"https://cartodb.com/attributions\\\">CartoDB</a>\",\"url\":\"https://tiles.basemaps.cartocdn.com/light_all/{z}/{x}/{y}.png\"},\"id\":\"1686\",\"type\":\"WMTSTileSource\"},{\"attributes\":{\"callback\":null,\"data\":{\"x\":{\"__ndarray__\":\"djEhqw39acHMwEmLC/1pwfu+IA8K/WnB0Xufvgj9acHRe5++CP1pwbGxmPwH/WnBeXmrAgf9acFSryNYBv1pwVKvI1gG/WnBzJK/9QX9acFc/fhMBf1pwVz9+EwF/WnBTYjxgAT9acFT+uBaA/1pwUs4UQ0D/WnBSzhRDQP9acGQgfBqAv1pwRd+oO8B/WnBF36g7wH9acEp9sUsAf1pwSn2xSwB/WnBMYv37gD9acFenH67AP1pwV6cfrsA/WnBlQFLfwD9acGVAUt/AP1pwboCYcn//GnBKeeDx/78acEX63O+/vxpwRfrc77+/GnBqgTUtf38acERPj6o/fxpwRE+Pqj9/GnBET4+qP38acERPj6o/fxpwY0MUcr8/GnBjQxRyvz8acFDBEPS+/xpwWR9LlH7/GnBTkQzn/r8acE4FdMv+vxpwTgV0y/6/GnBb1Ffh/n8acHTUh18+PxpwTlCx2v4/GnBOULHa/j8acFT1QLG9vxpwVPVAsb2/GnBh5LHpfT8acE7KxDH8vxpwWKeUSHx/GnBsj38bu/8acEVKn4o7PxpwVKC3CDr/GnBpV7iS+r8acH/CO/y6fxpwcOFnGvp/GnBfN8ZK+j8acF83xkr6Pxpwbrh1KHm/GnBuuHUoeb8acHoJs3k5vxpwegmzeTm/GnB0Pwx6eb8acExo97t5vxpwQU4lRTn/GnBbpToKef8acFulOgp5/xpwd0+EzLn/GnBZdFPX+f8acGPwFeI5/xpwTSK1LXn/GnBgdC79ef8acEt3IgN6PxpwS3ciA3o/GnBRjZpI+j8acHergVf6PxpweZ1WZDo/GnBt0R5vOj8acG4MgjQ6PxpwbgyCNDo/GnBX9cl9uj8acFf1yX26PxpwcurOkXp/GnBy6s6Ren8acGw4IGv6vxpwbDgga/q/GnBPNUvH+z8acFHSrU37PxpwUdKtTfs/GnBUrXnuez8acESUjCG7fxpwQEHtYDu/GnBhMEnLu/8acHAZTSJ7/xpwQEwg9/v/GnBE2bdafD8acFFPwVX8fxpwQe29cLx/GnBbw8hnPL8acGX+Cfv8/xpwbhwbDH1/GnBdeclPvb8acHgkN+t9vxpwV7VK/n3/GnBk6gREfn8acFbRR0C+vxpwfW8KK76/GnBZKUzBfv8acFkpTMF+/xpwZQss+77/GnBhA9mhvz8acEl03+v/fxpwZTrJ5H+/GnBKUZRNv/8acFSKLjX//xpwQ==\",\"dtype\":\"float64\",\"shape\":[116]},\"y\":{\"__ndarray__\":\"K6i29t9bUUHIqvaf4FtRQfjbRRbhW1FB9t3+fuFbUUH23f5+4VtRQaIoTsfhW1FBapFyJOJbUUEUEwBk4ltRQRQTAGTiW1FB9i+JheJbUUGqrQ+/4ltRQaqtD7/iW1FBMzSHAeNbUUHkWlNh41tRQXK+l3rjW1FBcr6XeuNbUUGeAlOt41tRQcu92dPjW1FBy73Z0+NbUUFHzT0H5FtRQUfNPQfkW1FB7lnzGORbUUGw5LIn5FtRQbDksifkW1FBanDtN+RbUUFqcO035FtRQYzbaXbkW1FBHr38zuRbUUE3oRnS5FtRQTehGdLkW1FBzbeRI+VbUUH/Z8An5VtRQf9nwCflW1FB/2fAJ+VbUUH/Z8An5VtRQcKtrnHlW1FBwq2uceVbUUFoiZzL5VtRQXxfaPrlW1FBYaXuOuZbUUGXSk9j5ltRQZdKT2PmW1FBrO9uneZbUUHAI6b55ltRQashSf/mW1FBqyFJ/+ZbUUESSoDP5ltRQRJKgM/mW1FBQBMWhOdbUUGwSu4i6FtRQZ7B3q7oW1FB0kv8PulbUUHxazNV6ltRQSuLrKzqW1FBBfRW8+pbUUEXctoQ61tRQYjAwD3rW1FButoYqOtbUUG62hio61tRQaDV9HLsW1FBoNX0cuxbUUEXncv17ltRQRedy/XuW1FBu7Z2L+9bUUE3WtBs71tRQchu6WjxW1FBMK/NgPJbUUEwr82A8ltRQb+p0+byW1FBfcHzG/VbUUGnq4kc91tRQYS9y1T5W1FBgvQdc/xbUUHP/3Oc/VtRQc//c5z9W1FBsKoFuv5bUUEPFCzEAVxRQYLHE0gEXFFBxigQiAZcUUG6NF+HB1xRQbo0X4cHXFFBxCsTgglcUUHEKxOCCVxRQaHwgW0MXFFBofCBbQxcUUEO2DfLC1xRQQ7YN8sLXFFBDZyc0glcUUFoXfWwCVxRQWhd9bAJXFFBzRqChAlcUUEhlsM+CVxRQVAIPOkIXFFBJm8ErghcUUE2lO6OCFxRQaIid3EIXFFBfOE6QghcUUGj90LxB1xRQXfPaMwHXFFBJ6FDggdcUUEZnYMOB1xRQdhDfKAGXFFBlqS8RAZcUUFFXZceBlxRQYlZeq0FXFFBotHpTQVcUUFrF537BFxRQflY38AEXFFB/UgnowRcUUH9SCejBFxRQR+5MEkEXFFBHza+DgRcUUE2KkacA1xRQWzKVEUDXFFB7TmyBQNcUUEec4LHAlxRQQ==\",\"dtype\":\"float64\",\"shape\":[116]}},\"selected\":{\"id\":\"1735\",\"type\":\"Selection\"},\"selection_policy\":{\"id\":\"1736\",\"type\":\"UnionRenderers\"}},\"id\":\"1702\",\"type\":\"ColumnDataSource\"},{\"attributes\":{\"formatter\":{\"id\":\"1664\",\"type\":\"MercatorTickFormatter\"},\"ticker\":{\"id\":\"1662\",\"type\":\"MercatorTicker\"}},\"id\":\"1661\",\"type\":\"MercatorAxis\"},{\"attributes\":{\"dimension\":\"lon\"},\"id\":\"1662\",\"type\":\"MercatorTicker\"},{\"attributes\":{\"items\":[{\"id\":\"1716\",\"type\":\"LegendItem\"},{\"id\":\"1739\",\"type\":\"LegendItem\"}]},\"id\":\"1715\",\"type\":\"Legend\"},{\"attributes\":{\"line_color\":\"#1f77b4\",\"line_width\":2,\"x\":{\"field\":\"x\"},\"y\":{\"field\":\"y\"}},\"id\":\"1703\",\"type\":\"Line\"},{\"attributes\":{\"data_source\":{\"id\":\"1717\",\"type\":\"ColumnDataSource\"},\"glyph\":{\"id\":\"1718\",\"type\":\"X\"},\"hover_glyph\":null,\"muted_glyph\":null,\"nonselection_glyph\":{\"id\":\"1719\",\"type\":\"X\"},\"selection_glyph\":null,\"view\":{\"id\":\"1721\",\"type\":\"CDSView\"}},\"id\":\"1720\",\"type\":\"GlyphRenderer\"},{\"attributes\":{\"data_source\":{\"id\":\"1696\",\"type\":\"ColumnDataSource\"},\"glyph\":{\"id\":\"1698\",\"type\":\"Circle\"},\"hover_glyph\":null,\"muted_glyph\":null,\"nonselection_glyph\":{\"id\":\"1699\",\"type\":\"Circle\"},\"selection_glyph\":null,\"view\":{\"id\":\"1701\",\"type\":\"CDSView\"}},\"id\":\"1700\",\"type\":\"GlyphRenderer\"},{\"attributes\":{},\"id\":\"1714\",\"type\":\"UnionRenderers\"},{\"attributes\":{\"data_source\":{\"id\":\"1702\",\"type\":\"ColumnDataSource\"},\"glyph\":{\"id\":\"1703\",\"type\":\"Line\"},\"hover_glyph\":null,\"muted_glyph\":null,\"nonselection_glyph\":{\"id\":\"1704\",\"type\":\"Line\"},\"selection_glyph\":null,\"view\":{\"id\":\"1706\",\"type\":\"CDSView\"}},\"id\":\"1705\",\"type\":\"GlyphRenderer\"},{\"attributes\":{\"source\":{\"id\":\"1717\",\"type\":\"ColumnDataSource\"}},\"id\":\"1721\",\"type\":\"CDSView\"},{\"attributes\":{\"dimension\":\"lon\"},\"id\":\"1664\",\"type\":\"MercatorTickFormatter\"},{\"attributes\":{},\"id\":\"1659\",\"type\":\"LinearScale\"},{\"attributes\":{},\"id\":\"1737\",\"type\":\"Selection\"},{\"attributes\":{\"fill_alpha\":{\"value\":0.1},\"fill_color\":{\"value\":\"#1f77b4\"},\"line_alpha\":{\"value\":0.1},\"line_color\":{\"value\":\"#1f77b4\"},\"size\":{\"units\":\"screen\",\"value\":25},\"x\":{\"value\":-13625342.741230164},\"y\":{\"value\":4550667.117337016}},\"id\":\"1719\",\"type\":\"X\"},{\"attributes\":{\"callback\":null},\"id\":\"1653\",\"type\":\"DataRange1d\"},{\"attributes\":{},\"id\":\"1679\",\"type\":\"PanTool\"},{\"attributes\":{\"callback\":null,\"data\":{},\"selected\":{\"id\":\"1737\",\"type\":\"Selection\"},\"selection_policy\":{\"id\":\"1738\",\"type\":\"UnionRenderers\"}},\"id\":\"1717\",\"type\":\"ColumnDataSource\"},{\"attributes\":{\"tile_source\":{\"id\":\"1686\",\"type\":\"WMTSTileSource\"}},\"id\":\"1687\",\"type\":\"TileRenderer\"}],\"root_ids\":[\"1652\"]},\"title\":\"Bokeh Application\",\"version\":\"1.3.4\"}};\n",
       "  var render_items = [{\"docid\":\"dcadf709-8b04-4a50-a787-c8dd102b4ea5\",\"roots\":{\"1652\":\"74da1053-3a09-43af-980c-5c95d39159e5\"}}];\n",
       "  root.Bokeh.embed.embed_items_notebook(docs_json, render_items);\n",
       "\n",
       "  }\n",
       "  if (root.Bokeh !== undefined) {\n",
       "    embed_document(root);\n",
       "  } else {\n",
       "    var attempts = 0;\n",
       "    var timer = setInterval(function(root) {\n",
       "      if (root.Bokeh !== undefined) {\n",
       "        embed_document(root);\n",
       "        clearInterval(timer);\n",
       "      }\n",
       "      attempts++;\n",
       "      if (attempts > 100) {\n",
       "        console.log(\"Bokeh: ERROR: Unable to run BokehJS code because BokehJS library is missing\");\n",
       "        clearInterval(timer);\n",
       "      }\n",
       "    }, 10, root)\n",
       "  }\n",
       "})(window);"
      ],
      "application/vnd.bokehjs_exec.v0+json": ""
     },
     "metadata": {
      "application/vnd.bokehjs_exec.v0+json": {
       "id": "1652"
      }
     },
     "output_type": "display_data"
    }
   ],
   "source": [
    "# check(df.copy(), '2019-08-02 22:41:09+00:00')\n",
    "check(df.copy(), '2019-08-27 14:27:07+00:00-07:00', ref_lat=37.796102, ref_long=-122.398466)"
   ]
  },
  {
   "cell_type": "code",
   "execution_count": 10,
   "metadata": {},
   "outputs": [
    {
     "data": {
      "text/html": [
       "\n",
       "\n",
       "\n",
       "\n",
       "\n",
       "\n",
       "  <div class=\"bk-root\" id=\"b72a3090-14cb-40eb-b23c-59b29d766664\" data-root-id=\"1880\"></div>\n"
      ]
     },
     "metadata": {},
     "output_type": "display_data"
    },
    {
     "data": {
      "application/javascript": [
       "(function(root) {\n",
       "  function embed_document(root) {\n",
       "    \n",
       "  var docs_json = {\"d02f137a-6bd6-4b84-a49c-d50ff48ddf18\":{\"roots\":{\"references\":[{\"attributes\":{\"below\":[{\"id\":\"1889\",\"type\":\"MercatorAxis\"}],\"center\":[{\"id\":\"1897\",\"type\":\"Grid\"},{\"id\":\"1906\",\"type\":\"Grid\"},{\"id\":\"1943\",\"type\":\"Legend\"}],\"left\":[{\"id\":\"1898\",\"type\":\"MercatorAxis\"}],\"match_aspect\":true,\"renderers\":[{\"id\":\"1915\",\"type\":\"TileRenderer\"},{\"id\":\"1928\",\"type\":\"GlyphRenderer\"},{\"id\":\"1933\",\"type\":\"GlyphRenderer\"},{\"id\":\"1948\",\"type\":\"GlyphRenderer\"},{\"id\":\"1953\",\"type\":\"GlyphRenderer\"}],\"title\":{\"id\":\"1918\",\"type\":\"Title\"},\"toolbar\":{\"id\":\"1910\",\"type\":\"Toolbar\"},\"x_range\":{\"id\":\"1881\",\"type\":\"DataRange1d\"},\"x_scale\":{\"id\":\"1885\",\"type\":\"LinearScale\"},\"y_range\":{\"id\":\"1883\",\"type\":\"DataRange1d\"},\"y_scale\":{\"id\":\"1887\",\"type\":\"LinearScale\"}},\"id\":\"1880\",\"subtype\":\"Figure\",\"type\":\"Plot\"},{\"attributes\":{},\"id\":\"2037\",\"type\":\"UnionRenderers\"},{\"attributes\":{\"text\":\"\"},\"id\":\"1918\",\"type\":\"Title\"},{\"attributes\":{\"source\":{\"id\":\"1930\",\"type\":\"ColumnDataSource\"}},\"id\":\"1934\",\"type\":\"CDSView\"},{\"attributes\":{\"fill_color\":{\"value\":\"#000000\"},\"line_color\":{\"value\":\"#000000\"},\"size\":{\"units\":\"screen\",\"value\":50},\"x\":{\"value\":-13625522.259700812},\"y\":{\"value\":4550524.841591137}},\"id\":\"1951\",\"type\":\"X\"},{\"attributes\":{\"line_color\":\"#1f77b4\",\"line_width\":2,\"x\":{\"field\":\"x\"},\"y\":{\"field\":\"y\"}},\"id\":\"1931\",\"type\":\"Line\"},{\"attributes\":{\"source\":{\"id\":\"1950\",\"type\":\"ColumnDataSource\"}},\"id\":\"1954\",\"type\":\"CDSView\"},{\"attributes\":{\"data_source\":{\"id\":\"1930\",\"type\":\"ColumnDataSource\"},\"glyph\":{\"id\":\"1931\",\"type\":\"Line\"},\"hover_glyph\":null,\"muted_glyph\":null,\"nonselection_glyph\":{\"id\":\"1932\",\"type\":\"Line\"},\"selection_glyph\":null,\"view\":{\"id\":\"1934\",\"type\":\"CDSView\"}},\"id\":\"1933\",\"type\":\"GlyphRenderer\"},{\"attributes\":{\"callback\":null,\"data\":{},\"selected\":{\"id\":\"1965\",\"type\":\"Selection\"},\"selection_policy\":{\"id\":\"1966\",\"type\":\"UnionRenderers\"}},\"id\":\"1945\",\"type\":\"ColumnDataSource\"},{\"attributes\":{\"line_alpha\":0.1,\"line_color\":\"#1f77b4\",\"line_width\":2,\"x\":{\"field\":\"x\"},\"y\":{\"field\":\"y\"}},\"id\":\"1932\",\"type\":\"Line\"},{\"attributes\":{},\"id\":\"1964\",\"type\":\"UnionRenderers\"},{\"attributes\":{\"active_drag\":\"auto\",\"active_inspect\":\"auto\",\"active_multi\":null,\"active_scroll\":{\"id\":\"1908\",\"type\":\"WheelZoomTool\"},\"active_tap\":\"auto\",\"tools\":[{\"id\":\"1907\",\"type\":\"PanTool\"},{\"id\":\"1908\",\"type\":\"WheelZoomTool\"},{\"id\":\"1909\",\"type\":\"ResetTool\"}]},\"id\":\"1910\",\"type\":\"Toolbar\"},{\"attributes\":{\"attribution\":\"&copy; <a href=\\\"https://www.openstreetmap.org/copyright\\\">OpenStreetMap</a> contributors,&copy; <a href=\\\"https://cartodb.com/attributions\\\">CartoDB</a>\",\"url\":\"https://tiles.basemaps.cartocdn.com/light_all/{z}/{x}/{y}.png\"},\"id\":\"1914\",\"type\":\"WMTSTileSource\"},{\"attributes\":{},\"id\":\"1965\",\"type\":\"Selection\"},{\"attributes\":{\"fill_color\":{\"value\":\"#1f77b4\"},\"line_color\":{\"value\":\"#1f77b4\"},\"size\":{\"units\":\"screen\",\"value\":25},\"x\":{\"value\":-13625527.507973125},\"y\":{\"value\":4550636.243011491}},\"id\":\"1946\",\"type\":\"X\"},{\"attributes\":{\"callback\":null},\"id\":\"1881\",\"type\":\"DataRange1d\"},{\"attributes\":{\"data_source\":{\"id\":\"1945\",\"type\":\"ColumnDataSource\"},\"glyph\":{\"id\":\"1946\",\"type\":\"X\"},\"hover_glyph\":null,\"muted_glyph\":null,\"nonselection_glyph\":{\"id\":\"1947\",\"type\":\"X\"},\"selection_glyph\":null,\"view\":{\"id\":\"1949\",\"type\":\"CDSView\"}},\"id\":\"1948\",\"type\":\"GlyphRenderer\"},{\"attributes\":{},\"id\":\"1907\",\"type\":\"PanTool\"},{\"attributes\":{},\"id\":\"1966\",\"type\":\"UnionRenderers\"},{\"attributes\":{\"label\":{\"value\":\"Reference position\"},\"renderers\":[{\"id\":\"1953\",\"type\":\"GlyphRenderer\"}]},\"id\":\"1967\",\"type\":\"LegendItem\"},{\"attributes\":{\"callback\":null,\"data\":{\"x\":{\"__ndarray__\":\"declPvb8acHgkN+t9vxpwV7VK/n3/GnBk6gREfn8acFbRR0C+vxpwfW8KK76/GnBZKUzBfv8acFkpTMF+/xpwZQss+77/GnBhA9mhvz8acEl03+v/fxpwZTrJ5H+/GnBKUZRNv/8acFSKLjX//xpwWUWOgUA/WnBKwZeUgD9acHg0RzFAP1pwSlZh1gB/WnB4x7+BAL9acH8A3G2Av1pwXQpLFsD/WnB4rWH+QP9acF9si+EBP1pwfrBIYUE/WnB+sEhhQT9acH6wSGFBP1pwck7lucE/WnBvIgvfQb9acHXewqyB/1pwY2F98oH/WnBjYX3ygf9acE5/QPRCP1pwfQJ2t4L/WnBy0VJvAz9acGobP+iDf1pwfDcqy0O/WnB8NyrLQ79acErWxs2D/1pwYbPC4EQ/WnBgCvJmBD9acGAK8mYEP1pwQLfRvoQ/WnBVeTpKBH9acHhtNYIEv1pwYaORP0S/WnBJZ/iWhP9acHCs/+dE/1pwUaSXcgT/WnBze885xP9acF0KagDFP1pwe6PyzAU/WnBNu2naRT9acGt/MPdFP1pwdjY67YV/WnBoHJ7ZRb9acGaMw7oFv1pwdtQQfAW/WnB\",\"dtype\":\"float64\",\"shape\":[57]},\"y\":{\"__ndarray__\":\"lqS8RAZcUUFFXZceBlxRQYlZeq0FXFFBotHpTQVcUUFrF537BFxRQflY38AEXFFB/UgnowRcUUH9SCejBFxRQR+5MEkEXFFBHza+DgRcUUE2KkacA1xRQWzKVEUDXFFB7TmyBQNcUUEec4LHAlxRQXXV+bUCXFFBmR5BmAJcUUFfPQtsAlxRQQWKojUCXFFBySL79QFcUUFir3y0AVxRQZbXr3cBXFFBLik9PQFcUUGv9w8KAVxRQRqgtgkBXFFBGqC2CQFcUUEaoLYJAVxRQXrw1+QAXFFBGNDzTABcUUEtKkrZ/1tRQbWI9M//W1FBtYj0z/9bUUGT/CN9/1tRQTNkDob+W1FB5kwTQP5bUUGCkin3/VtRQWUjVsv9W1FBZSNWy/1bUUGHmcV3/VtRQYbTMA/9W1FBYEuwB/1bUUFgS7AH/VtRQf9Laun8W1FBbezu2vxbUUGRC2aV/FtRQZkcf0n8W1FBx/NsLPxbUUESuJUX/FtRQanAbQr8W1FBBoXXAPxbUUGCVwT4+1tRQZAJAOr7W1FBY9ZX2PtbUUGYlUm0+1tRQeOC2nD7W1FBjoKlOvtbUUFDWRkS+1tRQRKAjQ/7W1FB\",\"dtype\":\"float64\",\"shape\":[57]}},\"selected\":{\"id\":\"1963\",\"type\":\"Selection\"},\"selection_policy\":{\"id\":\"1964\",\"type\":\"UnionRenderers\"}},\"id\":\"1930\",\"type\":\"ColumnDataSource\"},{\"attributes\":{\"dimension\":\"lat\"},\"id\":\"1901\",\"type\":\"MercatorTickFormatter\"},{\"attributes\":{\"data_source\":{\"id\":\"1950\",\"type\":\"ColumnDataSource\"},\"glyph\":{\"id\":\"1951\",\"type\":\"X\"},\"hover_glyph\":null,\"muted_glyph\":null,\"nonselection_glyph\":{\"id\":\"1952\",\"type\":\"X\"},\"selection_glyph\":null,\"view\":{\"id\":\"1954\",\"type\":\"CDSView\"}},\"id\":\"1953\",\"type\":\"GlyphRenderer\"},{\"attributes\":{},\"id\":\"2036\",\"type\":\"Selection\"},{\"attributes\":{},\"id\":\"1909\",\"type\":\"ResetTool\"},{\"attributes\":{\"callback\":null},\"id\":\"1883\",\"type\":\"DataRange1d\"},{\"attributes\":{},\"id\":\"1942\",\"type\":\"UnionRenderers\"},{\"attributes\":{\"dimension\":1,\"ticker\":{\"id\":\"1899\",\"type\":\"MercatorTicker\"}},\"id\":\"1906\",\"type\":\"Grid\"},{\"attributes\":{\"fill_alpha\":{\"value\":0.1},\"fill_color\":{\"value\":\"#1f77b4\"},\"line_alpha\":{\"value\":0.1},\"line_color\":{\"value\":\"#1f77b4\"},\"size\":{\"units\":\"screen\",\"value\":25},\"x\":{\"value\":-13625527.507973125},\"y\":{\"value\":4550636.243011491}},\"id\":\"1947\",\"type\":\"X\"},{\"attributes\":{},\"id\":\"1887\",\"type\":\"LinearScale\"},{\"attributes\":{},\"id\":\"1963\",\"type\":\"Selection\"},{\"attributes\":{},\"id\":\"1885\",\"type\":\"LinearScale\"},{\"attributes\":{},\"id\":\"1941\",\"type\":\"Selection\"},{\"attributes\":{\"callback\":null,\"data\":{\"x\":{\"__ndarray__\":\"xIfrGfb8acFBFh+p9vxpwXt9E8/3/GnBDzGisfj8acF8jWGr+fxpwSrfu2D6/GnBbcvZmvv8acHvI8ZC/PxpwX/WMoL9/GnBUhB2Wv78acFc+vQB//xpwWdsJc3//GnB6Pa1IgD9acENui++/fxpwb67avb8/GnB8Ez7YPz8acHeHjj3+/xpwRn8fG34/GnB/MWqIff8acHwt8Kx9fxpwQRWZK74/GnB+01OU/j8acEFt+wx/PxpwaxqUnX8/GnBDGvsKQH9acHAkZ1iAv1pwf9EIzcD/WnBTyGuEQT9acEMn5XcBP1pwdQ5wp8F/WnBRFt8Tgb9acFswYzbBv1pwaxCdXsH/WnBRUdvVAb9acGyjSpBAv1pwc6zpzcC/WnBib3xUQL9acFqbj89Av1pwST/JsoB/WnBjeY0YgH9acG4cMMiAf1pwdkk2bwA/WnBml0/dQD9acEAU3oAAP1pwRTMumf//GnB14zZvP78acFa/qUt/vxpwRVK4tH//GnBGp1LVAL9acHTLjmgA/1pwZ4LZt8E/WnBDLltcgb9acG6lzevB/1pwQoPXwQJ/WnBsDdaxQz9acFxxsZ6Df1pwe6V31sO/WnB8tMurA/9acEri1e6EP1pwez/3ecQ/WnB/fro8hD9acHManOyEf1pwReauoQS/WnBkJDZqBL9acGvo2TPEv1pwXd/hNYS/WnBgfVlzRL9acFbvUjCEv1pwXxOAswS/WnBBnxT6RL9acF8F5lBE/1pwQFdkxkU/WnBYINCvRT9acFkG1coFf1pwR5SgBMV/WnBR2OlzRT9acEfcB5AFP1pwXP8giQU/WnBFKQoWhT9acGQ+uUmFP1pwQ==\",\"dtype\":\"float64\",\"shape\":[80]},\"y\":{\"__ndarray__\":\"JR9NnARcUUFRh+vmBVxRQYlAT8ADXFFBDlzW7wBcUUEoCH4DAVxRQWREzTUBXFFBKYas4gBcUUHvbKtQAVxRQQPm98UBXFFBvAeADQFcUUHDmhnmAFxRQePHvVkCXFFBYQMS6ANcUUHDbe8pAFxRQTofRIEBXFFBEp7thAJcUUGKvYfRA1xRQVu4W0X9W1FBN6Mwsf1bUUEVX5Ya/ltRQVwtnCT7W1FBaGNMn/lbUUETS1HvAlxRQevHZdIEXFFB7GoZVgtcUUECGmB5DVxRQauu2OsOXFFBv8KxZxBcUUF/nJXIEVxRQbphHx0TXFFBK3fZcBRcUUGhkc6oFVxRQdPTYg4XXFFBpeZNchxcUUGb7DYBD1xRQSt5sgsRXFFBYM3nmRNcUUF4QrY7FVxRQcGqvdsNXFFBmgdSFQ9cUUG5hYg6DVxRQeOStm4LXFFBC7SqNgpcUUGnnW+RCFxRQWtLweAGXFFBQlvkZgVcUUFuq7XCBFxRQe0iO2cDXFFBADK/ygFcUUGKiqMdAVxRQY/WYY0AXFFBupwN2v9bUUFwzyC7/1tRQc+DJwcCXFFB+wZ56wlcUUHNVBOrB1xRQVLHFhsHXFFBq8FYTgNcUUEC72vk/1tRQan4Rfz7W1FB6/lKI/pbUUG+wZs8+FtRQZd5zTj2W1FBi1gbN/NbUUHrQz+y8VtRQSMCId/vW1FBbyRm0u1bUUH6XVfM61tRQcmhKPbpW1FBq561gehbUUGJxhT35ltRQWm7fqTmW1FB2Ysz4uVbUUGk8g2L5FtRQdtqdRLjW1FBBlSl6uFbUUFHAzVf4FtRQT14zAbfW1FBVgcntd1bUUGEHvwp3FtRQQ==\",\"dtype\":\"float64\",\"shape\":[80]}},\"selected\":{\"id\":\"1941\",\"type\":\"Selection\"},\"selection_policy\":{\"id\":\"1942\",\"type\":\"UnionRenderers\"}},\"id\":\"1924\",\"type\":\"ColumnDataSource\"},{\"attributes\":{\"fill_alpha\":{\"value\":0.1},\"fill_color\":{\"value\":\"#1f77b4\"},\"line_alpha\":{\"value\":0.1},\"line_color\":{\"value\":\"#1f77b4\"},\"size\":{\"units\":\"screen\",\"value\":50},\"x\":{\"value\":-13625522.259700812},\"y\":{\"value\":4550524.841591137}},\"id\":\"1952\",\"type\":\"X\"},{\"attributes\":{\"formatter\":{\"id\":\"1901\",\"type\":\"MercatorTickFormatter\"},\"ticker\":{\"id\":\"1899\",\"type\":\"MercatorTicker\"}},\"id\":\"1898\",\"type\":\"MercatorAxis\"},{\"attributes\":{\"ticker\":{\"id\":\"1890\",\"type\":\"MercatorTicker\"}},\"id\":\"1897\",\"type\":\"Grid\"},{\"attributes\":{\"items\":[{\"id\":\"1944\",\"type\":\"LegendItem\"},{\"id\":\"1967\",\"type\":\"LegendItem\"}]},\"id\":\"1943\",\"type\":\"Legend\"},{\"attributes\":{\"data_source\":{\"id\":\"1924\",\"type\":\"ColumnDataSource\"},\"glyph\":{\"id\":\"1926\",\"type\":\"Circle\"},\"hover_glyph\":null,\"muted_glyph\":null,\"nonselection_glyph\":{\"id\":\"1927\",\"type\":\"Circle\"},\"selection_glyph\":null,\"view\":{\"id\":\"1929\",\"type\":\"CDSView\"}},\"id\":\"1928\",\"type\":\"GlyphRenderer\"},{\"attributes\":{\"dimension\":\"lon\"},\"id\":\"1890\",\"type\":\"MercatorTicker\"},{\"attributes\":{\"source\":{\"id\":\"1945\",\"type\":\"ColumnDataSource\"}},\"id\":\"1949\",\"type\":\"CDSView\"},{\"attributes\":{\"callback\":null,\"data\":{},\"selected\":{\"id\":\"2036\",\"type\":\"Selection\"},\"selection_policy\":{\"id\":\"2037\",\"type\":\"UnionRenderers\"}},\"id\":\"1950\",\"type\":\"ColumnDataSource\"},{\"attributes\":{\"label\":{\"value\":\"Snap to road\"},\"renderers\":[{\"id\":\"1933\",\"type\":\"GlyphRenderer\"}]},\"id\":\"1944\",\"type\":\"LegendItem\"},{\"attributes\":{\"fill_color\":{\"value\":\"#d62728\"},\"line_color\":{\"value\":\"#d62728\"},\"size\":{\"units\":\"screen\",\"value\":5},\"x\":{\"field\":\"x\"},\"y\":{\"field\":\"y\"}},\"id\":\"1926\",\"type\":\"Circle\"},{\"attributes\":{},\"id\":\"1908\",\"type\":\"WheelZoomTool\"},{\"attributes\":{\"dimension\":\"lon\"},\"id\":\"1892\",\"type\":\"MercatorTickFormatter\"},{\"attributes\":{\"formatter\":{\"id\":\"1892\",\"type\":\"MercatorTickFormatter\"},\"ticker\":{\"id\":\"1890\",\"type\":\"MercatorTicker\"}},\"id\":\"1889\",\"type\":\"MercatorAxis\"},{\"attributes\":{\"source\":{\"id\":\"1924\",\"type\":\"ColumnDataSource\"}},\"id\":\"1929\",\"type\":\"CDSView\"},{\"attributes\":{\"fill_alpha\":{\"value\":0.1},\"fill_color\":{\"value\":\"#1f77b4\"},\"line_alpha\":{\"value\":0.1},\"line_color\":{\"value\":\"#1f77b4\"},\"size\":{\"units\":\"screen\",\"value\":5},\"x\":{\"field\":\"x\"},\"y\":{\"field\":\"y\"}},\"id\":\"1927\",\"type\":\"Circle\"},{\"attributes\":{\"dimension\":\"lat\"},\"id\":\"1899\",\"type\":\"MercatorTicker\"},{\"attributes\":{\"tile_source\":{\"id\":\"1914\",\"type\":\"WMTSTileSource\"}},\"id\":\"1915\",\"type\":\"TileRenderer\"}],\"root_ids\":[\"1880\"]},\"title\":\"Bokeh Application\",\"version\":\"1.3.4\"}};\n",
       "  var render_items = [{\"docid\":\"d02f137a-6bd6-4b84-a49c-d50ff48ddf18\",\"roots\":{\"1880\":\"b72a3090-14cb-40eb-b23c-59b29d766664\"}}];\n",
       "  root.Bokeh.embed.embed_items_notebook(docs_json, render_items);\n",
       "\n",
       "  }\n",
       "  if (root.Bokeh !== undefined) {\n",
       "    embed_document(root);\n",
       "  } else {\n",
       "    var attempts = 0;\n",
       "    var timer = setInterval(function(root) {\n",
       "      if (root.Bokeh !== undefined) {\n",
       "        embed_document(root);\n",
       "        clearInterval(timer);\n",
       "      }\n",
       "      attempts++;\n",
       "      if (attempts > 100) {\n",
       "        console.log(\"Bokeh: ERROR: Unable to run BokehJS code because BokehJS library is missing\");\n",
       "        clearInterval(timer);\n",
       "      }\n",
       "    }, 10, root)\n",
       "  }\n",
       "})(window);"
      ],
      "application/vnd.bokehjs_exec.v0+json": ""
     },
     "metadata": {
      "application/vnd.bokehjs_exec.v0+json": {
       "id": "1880"
      }
     },
     "output_type": "display_data"
    }
   ],
   "source": [
    "check(df.copy(), '2019-08-27 14:38:48+00:00-07:00', ref_lat=37.79513, ref_long=-122.400149)"
   ]
  },
  {
   "cell_type": "code",
   "execution_count": 11,
   "metadata": {},
   "outputs": [
    {
     "data": {
      "text/html": [
       "\n",
       "\n",
       "\n",
       "\n",
       "\n",
       "\n",
       "  <div class=\"bk-root\" id=\"2bd4333e-c701-45de-b8bd-45850cc1af63\" data-root-id=\"2122\"></div>\n"
      ]
     },
     "metadata": {},
     "output_type": "display_data"
    },
    {
     "data": {
      "application/javascript": [
       "(function(root) {\n",
       "  function embed_document(root) {\n",
       "    \n",
       "  var docs_json = {\"6172db7f-92c5-4060-bfd5-d1a3a14ff910\":{\"roots\":{\"references\":[{\"attributes\":{\"below\":[{\"id\":\"2131\",\"type\":\"MercatorAxis\"}],\"center\":[{\"id\":\"2139\",\"type\":\"Grid\"},{\"id\":\"2148\",\"type\":\"Grid\"},{\"id\":\"2185\",\"type\":\"Legend\"}],\"left\":[{\"id\":\"2140\",\"type\":\"MercatorAxis\"}],\"match_aspect\":true,\"renderers\":[{\"id\":\"2157\",\"type\":\"TileRenderer\"},{\"id\":\"2170\",\"type\":\"GlyphRenderer\"},{\"id\":\"2175\",\"type\":\"GlyphRenderer\"},{\"id\":\"2190\",\"type\":\"GlyphRenderer\"},{\"id\":\"2195\",\"type\":\"GlyphRenderer\"}],\"title\":{\"id\":\"2160\",\"type\":\"Title\"},\"toolbar\":{\"id\":\"2152\",\"type\":\"Toolbar\"},\"x_range\":{\"id\":\"2123\",\"type\":\"DataRange1d\"},\"x_scale\":{\"id\":\"2127\",\"type\":\"LinearScale\"},\"y_range\":{\"id\":\"2125\",\"type\":\"DataRange1d\"},\"y_scale\":{\"id\":\"2129\",\"type\":\"LinearScale\"}},\"id\":\"2122\",\"subtype\":\"Figure\",\"type\":\"Plot\"},{\"attributes\":{\"fill_color\":{\"value\":\"#d62728\"},\"line_color\":{\"value\":\"#d62728\"},\"size\":{\"units\":\"screen\",\"value\":5},\"x\":{\"field\":\"x\"},\"y\":{\"field\":\"y\"}},\"id\":\"2168\",\"type\":\"Circle\"},{\"attributes\":{\"data_source\":{\"id\":\"2166\",\"type\":\"ColumnDataSource\"},\"glyph\":{\"id\":\"2168\",\"type\":\"Circle\"},\"hover_glyph\":null,\"muted_glyph\":null,\"nonselection_glyph\":{\"id\":\"2169\",\"type\":\"Circle\"},\"selection_glyph\":null,\"view\":{\"id\":\"2171\",\"type\":\"CDSView\"}},\"id\":\"2170\",\"type\":\"GlyphRenderer\"},{\"attributes\":{\"tile_source\":{\"id\":\"2156\",\"type\":\"WMTSTileSource\"}},\"id\":\"2157\",\"type\":\"TileRenderer\"},{\"attributes\":{\"fill_alpha\":{\"value\":0.1},\"fill_color\":{\"value\":\"#1f77b4\"},\"line_alpha\":{\"value\":0.1},\"line_color\":{\"value\":\"#1f77b4\"},\"size\":{\"units\":\"screen\",\"value\":5},\"x\":{\"field\":\"x\"},\"y\":{\"field\":\"y\"}},\"id\":\"2169\",\"type\":\"Circle\"},{\"attributes\":{\"callback\":null},\"id\":\"2125\",\"type\":\"DataRange1d\"},{\"attributes\":{\"callback\":null},\"id\":\"2123\",\"type\":\"DataRange1d\"},{\"attributes\":{\"source\":{\"id\":\"2166\",\"type\":\"ColumnDataSource\"}},\"id\":\"2171\",\"type\":\"CDSView\"},{\"attributes\":{\"text\":\"\"},\"id\":\"2160\",\"type\":\"Title\"},{\"attributes\":{},\"id\":\"2208\",\"type\":\"UnionRenderers\"},{\"attributes\":{},\"id\":\"2149\",\"type\":\"PanTool\"},{\"attributes\":{},\"id\":\"2150\",\"type\":\"WheelZoomTool\"},{\"attributes\":{},\"id\":\"2293\",\"type\":\"UnionRenderers\"},{\"attributes\":{},\"id\":\"2151\",\"type\":\"ResetTool\"},{\"attributes\":{},\"id\":\"2207\",\"type\":\"Selection\"},{\"attributes\":{\"callback\":null,\"data\":{\"x\":{\"__ndarray__\":\"U8h0wfD8acH8RIbl7/xpwV+jxy/v/GnBogFwI+78acE48Tpf7fxpwUe+Uujs/GnBMKg/suz8acHFuliM7PxpwWJXYFfs/GnBpTjuGOz8acGRQY3A6/xpwfPgs1zr/GnBjrjH6+r8acHZRqAu6vxpwR8Qd0Pq/GnBJ8wCaer8acF0jZMK6vxpwdHfDc7p/GnBNj9jyen8acHDi19L6vxpwUDjMMnq/GnBZZ0maur8acHeTZTm6vxpwY0ES6jr/GnB1TYv9er8acHiwkzB6/xpwVzsHMvs/GnBUGuW8Oz8acE8HzVa7fxpwQ3vT9Du/GnBpmyXy+/8acEO3EiV8PxpwRBR+vbx/GnB3+PSVPP8acGnFfLf9PxpwdK+Fpr2/GnBxi5BKff8acEpjnpA+fxpwV5iEeb6/GnBBmLzbPz8acH/RuTI/Pxpwd62N/f9/GnB2iTnrv/8acGVo82/Av1pwTberRgF/WnBLv+3cAb9acGgrvVXCP1pwVJIKRcK/WnBcFba9Qv9acGhxQ0WDv1pwaq+1NoO/WnBKtD7KQ/9acHfsAI0EP1pwZbTCboR/WnBo/BAwBL9acFTdVPUE/1pwVe4ZwEV/WnB9Arqmxj9acGk+BBhGP1pwejp+vAY/WnBKsH3fxn9acF3bnSuGf1pwT4mJHQZ/WnBC+qTRxn9acHtSqbRGf1pwUKqK+UZ/WnBGszFAhr9acEGOqXSG/1pwTcIY+oc/WnBsIvqHB79acFNoU38Hv1pwRT6csof/WnB5KrpVCD9acGkG7jdIf1pweas/Esj/WnBwBVVSST9acGOG74fJf1pwTQLRNgl/WnBvwcMcib9acHXE5XuJv1pwQ==\",\"dtype\":\"float64\",\"shape\":[80]},\"y\":{\"__ndarray__\":\"SRltsN5bUUHNaIXx3ltRQU+hax7fW1FBfFI2/N9bUUFe96bN4FtRQVe/an7iW1FB/JbjBeRbUUElNi485ltRQZTEy3vnW1FBynyS/+hbUUFgH2W/6ltRQU5Q4afsW1FBlP4mlO5bUUEmuCsV9FtRQRyHnDX3W1FBctYJ8fpbUUG2oFMo/VtRQQ91MZkAXFFBeX48swNcUUH7D0jRBVxRQVDprRUHXFFBvQxOjgJcUUGqd6e3A1xRQUXQnmIGXFFBSaqE6wVcUUEZXZSBBVxRQS1QvqgEXFFB/fec4QJcUUHDR86iAVxRQe9fpHACXFFB/JTPTgBcUUEISIMu/ltRQZnIPRT/W1FBeDg/Vf9bUUEaKB4j/1tRQYXJOwr/W1FB5msBuvtbUUFYD3+b/FtRQY9258z8W1FBf4NeAv1bUUH/htZK+1tRQQib63v6W1FBBc3bW/lbUUGv4zvV+1tRQTDP+9T9W1FBnybMM/9bUUHUTKmBAFxRQQDkRs7+W1FBMnFSpgFcUUGYcj01/1tRQR2jVjT/W1FBMP3hR/1bUUEgg6CN+VtRQQ+Ma4H6W1FBX829lflbUUGsCfoL+VtRQb12ngT4W1FBrv9EKQFcUUH+x6GN/ltRQYgbF9P9W1FBSyTU9vxbUUFMgrzT+ltRQZ6bRQn5W1FBjRl0cvpbUUFZW4PJ+1tRQbTKzD36W1FB1uLY5PhbUUHL+9ZQ91tRQUn/qor2W1FBoQKSu/VbUUH65mg+81tRQRO8Hg7yW1FBRvxqse9bUUHC8UBG81tRQbu3ggbzW1FBdJhSQvJbUUEGgVVF8VtRQSpatpbyW1FBE+4O4fNbUUG01T/v8ltRQQ==\",\"dtype\":\"float64\",\"shape\":[80]}},\"selected\":{\"id\":\"2183\",\"type\":\"Selection\"},\"selection_policy\":{\"id\":\"2184\",\"type\":\"UnionRenderers\"}},\"id\":\"2166\",\"type\":\"ColumnDataSource\"},{\"attributes\":{\"active_drag\":\"auto\",\"active_inspect\":\"auto\",\"active_multi\":null,\"active_scroll\":{\"id\":\"2150\",\"type\":\"WheelZoomTool\"},\"active_tap\":\"auto\",\"tools\":[{\"id\":\"2149\",\"type\":\"PanTool\"},{\"id\":\"2150\",\"type\":\"WheelZoomTool\"},{\"id\":\"2151\",\"type\":\"ResetTool\"}]},\"id\":\"2152\",\"type\":\"Toolbar\"},{\"attributes\":{\"fill_alpha\":{\"value\":0.1},\"fill_color\":{\"value\":\"#1f77b4\"},\"line_alpha\":{\"value\":0.1},\"line_color\":{\"value\":\"#1f77b4\"},\"size\":{\"units\":\"screen\",\"value\":50},\"x\":{\"value\":-13625667.75427528},\"y\":{\"value\":4550605.844350903}},\"id\":\"2194\",\"type\":\"X\"},{\"attributes\":{},\"id\":\"2206\",\"type\":\"UnionRenderers\"},{\"attributes\":{\"data_source\":{\"id\":\"2172\",\"type\":\"ColumnDataSource\"},\"glyph\":{\"id\":\"2173\",\"type\":\"Line\"},\"hover_glyph\":null,\"muted_glyph\":null,\"nonselection_glyph\":{\"id\":\"2174\",\"type\":\"Line\"},\"selection_glyph\":null,\"view\":{\"id\":\"2176\",\"type\":\"CDSView\"}},\"id\":\"2175\",\"type\":\"GlyphRenderer\"},{\"attributes\":{\"items\":[{\"id\":\"2186\",\"type\":\"LegendItem\"},{\"id\":\"2209\",\"type\":\"LegendItem\"}]},\"id\":\"2185\",\"type\":\"Legend\"},{\"attributes\":{\"line_alpha\":0.1,\"line_color\":\"#1f77b4\",\"line_width\":2,\"x\":{\"field\":\"x\"},\"y\":{\"field\":\"y\"}},\"id\":\"2174\",\"type\":\"Line\"},{\"attributes\":{\"dimension\":\"lon\"},\"id\":\"2134\",\"type\":\"MercatorTickFormatter\"},{\"attributes\":{\"line_color\":\"#1f77b4\",\"line_width\":2,\"x\":{\"field\":\"x\"},\"y\":{\"field\":\"y\"}},\"id\":\"2173\",\"type\":\"Line\"},{\"attributes\":{\"fill_color\":{\"value\":\"#1f77b4\"},\"line_color\":{\"value\":\"#1f77b4\"},\"size\":{\"units\":\"screen\",\"value\":25},\"x\":{\"value\":-13625657.58523993},\"y\":{\"value\":4550615.867074087}},\"id\":\"2188\",\"type\":\"X\"},{\"attributes\":{\"fill_color\":{\"value\":\"#000000\"},\"line_color\":{\"value\":\"#000000\"},\"size\":{\"units\":\"screen\",\"value\":50},\"x\":{\"value\":-13625667.75427528},\"y\":{\"value\":4550605.844350903}},\"id\":\"2193\",\"type\":\"X\"},{\"attributes\":{\"source\":{\"id\":\"2192\",\"type\":\"ColumnDataSource\"}},\"id\":\"2196\",\"type\":\"CDSView\"},{\"attributes\":{\"dimension\":\"lat\"},\"id\":\"2143\",\"type\":\"MercatorTickFormatter\"},{\"attributes\":{},\"id\":\"2184\",\"type\":\"UnionRenderers\"},{\"attributes\":{\"callback\":null,\"data\":{},\"selected\":{\"id\":\"2207\",\"type\":\"Selection\"},\"selection_policy\":{\"id\":\"2208\",\"type\":\"UnionRenderers\"}},\"id\":\"2187\",\"type\":\"ColumnDataSource\"},{\"attributes\":{\"ticker\":{\"id\":\"2132\",\"type\":\"MercatorTicker\"}},\"id\":\"2139\",\"type\":\"Grid\"},{\"attributes\":{\"attribution\":\"&copy; <a href=\\\"https://www.openstreetmap.org/copyright\\\">OpenStreetMap</a> contributors,&copy; <a href=\\\"https://cartodb.com/attributions\\\">CartoDB</a>\",\"url\":\"https://tiles.basemaps.cartocdn.com/light_all/{z}/{x}/{y}.png\"},\"id\":\"2156\",\"type\":\"WMTSTileSource\"},{\"attributes\":{},\"id\":\"2205\",\"type\":\"Selection\"},{\"attributes\":{\"source\":{\"id\":\"2172\",\"type\":\"ColumnDataSource\"}},\"id\":\"2176\",\"type\":\"CDSView\"},{\"attributes\":{\"dimension\":\"lat\"},\"id\":\"2141\",\"type\":\"MercatorTicker\"},{\"attributes\":{\"data_source\":{\"id\":\"2192\",\"type\":\"ColumnDataSource\"},\"glyph\":{\"id\":\"2193\",\"type\":\"X\"},\"hover_glyph\":null,\"muted_glyph\":null,\"nonselection_glyph\":{\"id\":\"2194\",\"type\":\"X\"},\"selection_glyph\":null,\"view\":{\"id\":\"2196\",\"type\":\"CDSView\"}},\"id\":\"2195\",\"type\":\"GlyphRenderer\"},{\"attributes\":{},\"id\":\"2129\",\"type\":\"LinearScale\"},{\"attributes\":{\"source\":{\"id\":\"2187\",\"type\":\"ColumnDataSource\"}},\"id\":\"2191\",\"type\":\"CDSView\"},{\"attributes\":{\"dimension\":1,\"ticker\":{\"id\":\"2141\",\"type\":\"MercatorTicker\"}},\"id\":\"2148\",\"type\":\"Grid\"},{\"attributes\":{\"formatter\":{\"id\":\"2143\",\"type\":\"MercatorTickFormatter\"},\"ticker\":{\"id\":\"2141\",\"type\":\"MercatorTicker\"}},\"id\":\"2140\",\"type\":\"MercatorAxis\"},{\"attributes\":{\"label\":{\"value\":\"Snap to road\"},\"renderers\":[{\"id\":\"2175\",\"type\":\"GlyphRenderer\"}]},\"id\":\"2186\",\"type\":\"LegendItem\"},{\"attributes\":{\"callback\":null,\"data\":{},\"selected\":{\"id\":\"2292\",\"type\":\"Selection\"},\"selection_policy\":{\"id\":\"2293\",\"type\":\"UnionRenderers\"}},\"id\":\"2192\",\"type\":\"ColumnDataSource\"},{\"attributes\":{\"formatter\":{\"id\":\"2134\",\"type\":\"MercatorTickFormatter\"},\"ticker\":{\"id\":\"2132\",\"type\":\"MercatorTicker\"}},\"id\":\"2131\",\"type\":\"MercatorAxis\"},{\"attributes\":{},\"id\":\"2292\",\"type\":\"Selection\"},{\"attributes\":{\"dimension\":\"lon\"},\"id\":\"2132\",\"type\":\"MercatorTicker\"},{\"attributes\":{\"fill_alpha\":{\"value\":0.1},\"fill_color\":{\"value\":\"#1f77b4\"},\"line_alpha\":{\"value\":0.1},\"line_color\":{\"value\":\"#1f77b4\"},\"size\":{\"units\":\"screen\",\"value\":25},\"x\":{\"value\":-13625657.58523993},\"y\":{\"value\":4550615.867074087}},\"id\":\"2189\",\"type\":\"X\"},{\"attributes\":{\"label\":{\"value\":\"Reference position\"},\"renderers\":[{\"id\":\"2195\",\"type\":\"GlyphRenderer\"}]},\"id\":\"2209\",\"type\":\"LegendItem\"},{\"attributes\":{\"data_source\":{\"id\":\"2187\",\"type\":\"ColumnDataSource\"},\"glyph\":{\"id\":\"2188\",\"type\":\"X\"},\"hover_glyph\":null,\"muted_glyph\":null,\"nonselection_glyph\":{\"id\":\"2189\",\"type\":\"X\"},\"selection_glyph\":null,\"view\":{\"id\":\"2191\",\"type\":\"CDSView\"}},\"id\":\"2190\",\"type\":\"GlyphRenderer\"},{\"attributes\":{\"callback\":null,\"data\":{\"x\":{\"__ndarray__\":\"5W2RkvH8acFpkUW38PxpwXUixQLw/GnBoqW16+78acERbdkb7vxpwUa2MIXt/GnBS/71MO38acGYpFve7PxpwQAeAZHs/GnBvzPtNOz8acHhVsO66/xpwSRoJzLr/GnB4R2EnOr8acF83xkr6PxpwXzfGSvo/GnBuuHUoeb8acG64dSh5vxpwegmzeTm/GnB6CbN5Ob8acFulOgp5/xpwW6U6Cnn/GnBWjHHXOf8acGCSsWb5/xpweDqRufn/GnBLdyIDej8acEt3IgN6Pxpwb6VhBDo/GnBd98PUej8acEye2OM6Pxpwc0U8bfo/GnBuDII0Oj8acG4MgjQ6PxpwXWM2dLo/GnBX9cl9uj8acFf1yX26PxpwcurOkXp/GnBy6s6Ren8acGw4IGv6vxpwbDgga/q/GnBsOCBr+r8acFHSrU37PxpwUdKtTfs/GnBR0q1N+z8acFHSrU37PxpwRIixzHt/GnBvhrwe+38acGYCwL97fxpwR8Yc1fv/GnB1DriePD8acG7PAJq8fxpwWaIoq7y/GnBfCQv/fP8acF0s0aB9fxpwXHV9jD3/GnBIn5tAvj8acG1jcv3+fxpwWSlMwX7/GnBZKUzBfv8acFpzoKh+/xpwYg2cRX9/GnBiD3qlv38acHvHqTN/vxpwd8aWZAA/WnB4NEcxQD9acF6daJFA/1pwfrBIYUE/WnB+sEhhQT9acEHpOpdBf1pwYpYkooG/WnBjYX3ygf9acGNhffKB/1pwcq800YI/WnBn/ixHAr9acGu7Zq3C/1pwQxnu/oN/WnB8NyrLQ79acHw3KstDv1pwVGryboO/WnB71z4LQ/9acFoAhJ7EP1pwYAryZgQ/WnBgCvJmBD9acFVNTjkEf1pwbfSIPYS/WnBwTslDhT9acFj/BlIFf1pweNKdRsY/WnBMiFGrxj9acF/vZdLGf1pwbJ4daIZ/WnBQIYxshn9acGDuEDjGf1pwcPXThoa/WnBHXMUmRv9acEdcxSZG/1pwZ45aPwb/WnBlOWFHB39acGmbH5XHv1pwegyl2Af/WnBnyR7QCD9acFgaiP0IP1pwWaaTjEi/WnBZgI6nCP9acHUPmHII/1pwdQ+Ycgj/WnBNvl0sCT9acEyNQCWJf1pwbImRiwm/WnBXMFSpSb9acEXSboyJ/1pwQ==\",\"dtype\":\"float64\",\"shape\":[110]},\"y\":{\"__ndarray__\":\"J/1KiehbUUFVug7S6FtRQVwR8w3pW1FBxC2LaulbUUEiR4Ov6VtRQWGKgOHpW1FBUyBz/elbUUF7jNsY6ltRQYsThjLqW1FBz0gTUepbUUFL/pt56ltRQeOy76bqW1FBMwuW2OpbUUG62hio61tRQbraGKjrW1FBoNX0cuxbUUGg1fRy7FtRQRedy/XuW1FBF53L9e5bUUEwr82A8ltRQTCvzYDyW1FBY7VM/PRbUUFSST4P+FtRQQoThL77W1FBz/9znP1bUUHP/3Oc/VtRQQZ8ZcP9W1FBbnfwDQFcUUGRkF8UBFxRQXpm50wGXFFBujRfhwdcUUG6NF+HB1xRQWev1KwHXFFBxCsTgglcUUHEKxOCCVxRQaHwgW0MXFFBofCBbQxcUUEO2DfLC1xRQQ7YN8sLXFFBDtg3ywtcUUFoXfWwCVxRQWhd9bAJXFFBaF31sAlcUUFoXfWwCVxRQbUolVsJXFFBq4RDQglcUUEqrjIWCVxRQWtA658IXFFBqzMaPQhcUUG1WcfqB1xRQYAs8nsHXFFBhoS5CQdcUUFd1TiFBlxRQeVq1fEFXFFBZ0lRqgVcUUHvDCP/BFxRQf1IJ6MEXFFB/UgnowRcUUG4Fu5mBFxRQRdbodcDXFFBNQG/pQNcUUEY5QYuA1xRQdmoX4ACXFFBXz0LbAJcUUEp4qJ/AVxRQRqgtgkBXFFBGqC2CQFcUUGi4Ye4AFxRQeCD8EcAXFFBtYj0z/9bUUG1iPTP/1tRQc7fz6j/W1FBr+1RFP9bUUGLnHWS/ltRQTpnb9v9W1FBZSNWy/1bUUFlI1bL/VtRQYH9vZ79W1FBx9lXev1bUUHXQxQR/VtRQWBLsAf9W1FBYEuwB/1bUUHVFMWg/FtRQfGstkv8W1FBpYvC9PtbUUEESEST+1tRQQuzo7L6W1FBc7W8hPpbUUEltjFU+ltRQY8HODn6W1FBLylVNPpbUUHdCBkl+ltRQbE/ABT6W1FBuXEinflbUUG5cSKd+VtRQQ5Dbn/5W1FBv+xEKflbUUHCgBPL+FtRQd4yzHv4W1FBS33XOPhbUUE/JB0D+FtRQaj2QqT3W1FBe/G5N/dbUUFBkYUq91tRQUGRhSr3W1FBByMH2fZbUUFHV2yI9ltRQceEp1P2W1FBKsMlKfZbUUFQJH739VtRQQ==\",\"dtype\":\"float64\",\"shape\":[110]}},\"selected\":{\"id\":\"2205\",\"type\":\"Selection\"},\"selection_policy\":{\"id\":\"2206\",\"type\":\"UnionRenderers\"}},\"id\":\"2172\",\"type\":\"ColumnDataSource\"},{\"attributes\":{},\"id\":\"2127\",\"type\":\"LinearScale\"},{\"attributes\":{},\"id\":\"2183\",\"type\":\"Selection\"}],\"root_ids\":[\"2122\"]},\"title\":\"Bokeh Application\",\"version\":\"1.3.4\"}};\n",
       "  var render_items = [{\"docid\":\"6172db7f-92c5-4060-bfd5-d1a3a14ff910\",\"roots\":{\"2122\":\"2bd4333e-c701-45de-b8bd-45850cc1af63\"}}];\n",
       "  root.Bokeh.embed.embed_items_notebook(docs_json, render_items);\n",
       "\n",
       "  }\n",
       "  if (root.Bokeh !== undefined) {\n",
       "    embed_document(root);\n",
       "  } else {\n",
       "    var attempts = 0;\n",
       "    var timer = setInterval(function(root) {\n",
       "      if (root.Bokeh !== undefined) {\n",
       "        embed_document(root);\n",
       "        clearInterval(timer);\n",
       "      }\n",
       "      attempts++;\n",
       "      if (attempts > 100) {\n",
       "        console.log(\"Bokeh: ERROR: Unable to run BokehJS code because BokehJS library is missing\");\n",
       "        clearInterval(timer);\n",
       "      }\n",
       "    }, 10, root)\n",
       "  }\n",
       "})(window);"
      ],
      "application/vnd.bokehjs_exec.v0+json": ""
     },
     "metadata": {
      "application/vnd.bokehjs_exec.v0+json": {
       "id": "2122"
      }
     },
     "output_type": "display_data"
    }
   ],
   "source": [
    "check(df.copy(), '2019-08-27 14:51:37+00:00-07:00', ref_lat=37.795705, ref_long=-122.401456)"
   ]
  },
  {
   "cell_type": "code",
   "execution_count": null,
   "metadata": {},
   "outputs": [],
   "source": []
  }
 ],
 "metadata": {
  "kernelspec": {
   "display_name": "Python 3",
   "language": "python",
   "name": "python3"
  },
  "language_info": {
   "codemirror_mode": {
    "name": "ipython",
    "version": 3
   },
   "file_extension": ".py",
   "mimetype": "text/x-python",
   "name": "python",
   "nbconvert_exporter": "python",
   "pygments_lexer": "ipython3",
   "version": "3.7.1"
  }
 },
 "nbformat": 4,
 "nbformat_minor": 2
}
