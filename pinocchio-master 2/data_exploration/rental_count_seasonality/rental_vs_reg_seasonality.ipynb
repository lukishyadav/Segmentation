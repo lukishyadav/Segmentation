{
 "cells": [
  {
   "cell_type": "code",
   "execution_count": null,
   "metadata": {},
   "outputs": [],
   "source": [
    "# setup\n",
    "import pandas as pd\n",
    "import numpy as np\n",
    "import scipy.stats\n",
    "import matplotlib.pyplot as plt\n",
    "from matplotlib import rcParams\n",
    "\n",
    "# change for different filenames\n",
    "DATAFILE = 'rentals_reg_count.csv'\n",
    "datetime_columns = ['date']"
   ]
  },
  {
   "cell_type": "code",
   "execution_count": null,
   "metadata": {},
   "outputs": [],
   "source": [
    "def mean_confidence_interval(data, ci=0.95):\n",
    "    array = 1.0 * np.array(data)  # turn iterable into np.array\n",
    "    n = len(array)  # get size\n",
    "    mean, stderrmean = np.mean(array), scipy.stats.sem(array)  # \n",
    "    h = stderrmean * scipy.stats.t.ppf((1 + ci) / 2., n-1)\n",
    "    return mean, mean-h, mean+h\n",
    "\n",
    "\n",
    "# read in csv\n",
    "df = pd.read_csv(\n",
    "    DATAFILE,\n",
    "    parse_dates=datetime_columns,\n",
    "    infer_datetime_format=True\n",
    ")\n",
    "# get cumulative sum of registrations\n",
    "df['total_registrations'] = df['registrations_count'].cumsum()\n",
    "\n",
    "# break up dates\n",
    "df['month'] = df['date'].dt.month\n",
    "df['year'] = df['date'].dt.year\n",
    "\n",
    "# group df by year, month\n",
    "grouped = df.groupby(['year', 'month'])\n",
    "labels = [str(x) for x in grouped.groups.keys()]\n",
    "data, err, yci = [], [], []\n",
    "\n",
    "# collect average, stdev, and 85% CI per year, month\n",
    "for name, group in grouped:\n",
    "    normalized_rental_series = group['rentals_count']/group['total_registrations']\n",
    "    data.append(normalized_rental_series.values)\n",
    "    err.append(np.std(normalized_rental_series))\n",
    "    _, low_ci, high_ci = mean_confidence_interval(normalized_rental_series, 0.85)\n",
    "    yci.append([low_ci, high_ci])\n",
    "\n",
    "# Draw boxplots, specifying desired style\n",
    "plt.figure(figsize=(200, 50))\n",
    "plt.boxplot(data, labels=labels, meanline=True, showmeans=True, notch=True, conf_intervals=yci)\n",
    "\n",
    "plt.xlabel('Year, Month', fontsize=100)\n",
    "plt.ylabel('Normalized Data (rental count/total registrations)', fontsize=100)\n",
    "plt.title('Normalized Box Plot Rental Counts for Hours 7-9', fontsize=100)\n",
    "rcParams['xtick.labelsize'] = 75\n",
    "rcParams['ytick.labelsize'] = 100\n",
    "plt.savefig('boxplot.pdf')  # change output filename here\n",
    "# error bars = quartiles of data\n",
    "# box is 2nd and 3rd quartile of data\n",
    "# green bar across is mean\n",
    "# red bar across is median\n",
    "# notch is 85% confidence interval range\n",
    "# circles outside of error bars are outliers"
   ]
  },
  {
   "cell_type": "raw",
   "metadata": {},
   "source": []
  }
 ],
 "metadata": {
  "kernelspec": {
   "display_name": "Python 3",
   "language": "python",
   "name": "python3"
  },
  "language_info": {
   "codemirror_mode": {
    "name": "ipython",
    "version": 3
   },
   "file_extension": ".py",
   "mimetype": "text/x-python",
   "name": "python",
   "nbconvert_exporter": "python",
   "pygments_lexer": "ipython3",
   "version": "3.7.1"
  }
 },
 "nbformat": 4,
 "nbformat_minor": 2
}
