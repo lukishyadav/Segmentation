{
 "cells": [
  {
   "cell_type": "markdown",
   "metadata": {},
   "source": [
    "### Read in the data exported from Athena/Periscope\n"
   ]
  },
  {
   "cell_type": "code",
   "execution_count": 1,
   "metadata": {},
   "outputs": [
    {
     "data": {
      "text/html": [
       "<div>\n",
       "<style scoped>\n",
       "    .dataframe tbody tr th:only-of-type {\n",
       "        vertical-align: middle;\n",
       "    }\n",
       "\n",
       "    .dataframe tbody tr th {\n",
       "        vertical-align: top;\n",
       "    }\n",
       "\n",
       "    .dataframe thead th {\n",
       "        text-align: right;\n",
       "    }\n",
       "</style>\n",
       "<table border=\"1\" class=\"dataframe\">\n",
       "  <thead>\n",
       "    <tr style=\"text-align: right;\">\n",
       "      <th></th>\n",
       "      <th>customer_id</th>\n",
       "      <th>booked_at</th>\n",
       "      <th>end_datetime</th>\n",
       "    </tr>\n",
       "  </thead>\n",
       "  <tbody>\n",
       "    <tr>\n",
       "      <th>0</th>\n",
       "      <td>228996</td>\n",
       "      <td>2019-05-29 17:39:24.026685+02:00</td>\n",
       "      <td>2019-05-29 18:04:27.652201+02:00</td>\n",
       "    </tr>\n",
       "    <tr>\n",
       "      <th>1</th>\n",
       "      <td>180038</td>\n",
       "      <td>2019-05-29 18:00:56.419880+02:00</td>\n",
       "      <td>2019-05-29 18:15:29.491876+02:00</td>\n",
       "    </tr>\n",
       "    <tr>\n",
       "      <th>2</th>\n",
       "      <td>6813</td>\n",
       "      <td>2019-05-20 14:50:08.289332+02:00</td>\n",
       "      <td>2019-05-20 14:51:47.299094+02:00</td>\n",
       "    </tr>\n",
       "    <tr>\n",
       "      <th>3</th>\n",
       "      <td>223781</td>\n",
       "      <td>2019-05-20 23:41:41.834583+02:00</td>\n",
       "      <td>2019-05-20 23:42:05.264161+02:00</td>\n",
       "    </tr>\n",
       "    <tr>\n",
       "      <th>4</th>\n",
       "      <td>25837</td>\n",
       "      <td>2019-05-30 06:39:54.681279+02:00</td>\n",
       "      <td>2019-05-30 06:57:39.689848+02:00</td>\n",
       "    </tr>\n",
       "  </tbody>\n",
       "</table>\n",
       "</div>"
      ],
      "text/plain": [
       "   customer_id                        booked_at  \\\n",
       "0       228996 2019-05-29 17:39:24.026685+02:00   \n",
       "1       180038 2019-05-29 18:00:56.419880+02:00   \n",
       "2         6813 2019-05-20 14:50:08.289332+02:00   \n",
       "3       223781 2019-05-20 23:41:41.834583+02:00   \n",
       "4        25837 2019-05-30 06:39:54.681279+02:00   \n",
       "\n",
       "                      end_datetime  \n",
       "0 2019-05-29 18:04:27.652201+02:00  \n",
       "1 2019-05-29 18:15:29.491876+02:00  \n",
       "2 2019-05-20 14:51:47.299094+02:00  \n",
       "3 2019-05-20 23:42:05.264161+02:00  \n",
       "4 2019-05-30 06:57:39.689848+02:00  "
      ]
     },
     "execution_count": 1,
     "metadata": {},
     "output_type": "execute_result"
    }
   ],
   "source": [
    "import pandas as pd\n",
    "\n",
    "# rentals = pd.read_csv('UntitledChart_2019-6-4_1358.csv')\n",
    "rentals = pd.read_csv('UntitledChart_2019-6-7_1531.csv')\n",
    "\n",
    "# create a new column with the timestamp correctly parsed as UTC and then converted to Madrid\n",
    "rentals['booked_at'] = pd.to_datetime(rentals['object_data-rental_booked_at']).dt.tz_localize('UTC').dt.tz_convert('Europe/Madrid')\n",
    "rentals['end_datetime'] = pd.to_datetime(rentals['object_data-rental_ended_at']).dt.tz_localize('UTC').dt.tz_convert('Europe/Madrid')\n",
    "rentals.drop(['object_data-rental_booked_at', 'object_data-rental_ended_at'], axis=1, inplace=True)  # remove the original column\n",
    "rentals.rename(columns={'object_data-customer_id': 'customer_id'}, inplace=True)\n",
    "\n",
    "rentals.head()"
   ]
  },
  {
   "cell_type": "code",
   "execution_count": 2,
   "metadata": {},
   "outputs": [],
   "source": [
    "# helpful columns which we will group by\n",
    "# rentals['hour'] = rentals['booked_at'].dt.hour\n",
    "# rentals['day of week'] = rentals['booked_at'].dt.weekday\n",
    "# rentals['month'] = rentals['booked_at'].dt.month"
   ]
  },
  {
   "cell_type": "code",
   "execution_count": 3,
   "metadata": {},
   "outputs": [
    {
     "data": {
      "text/html": [
       "<div>\n",
       "<style scoped>\n",
       "    .dataframe tbody tr th:only-of-type {\n",
       "        vertical-align: middle;\n",
       "    }\n",
       "\n",
       "    .dataframe tbody tr th {\n",
       "        vertical-align: top;\n",
       "    }\n",
       "\n",
       "    .dataframe thead th {\n",
       "        text-align: right;\n",
       "    }\n",
       "</style>\n",
       "<table border=\"1\" class=\"dataframe\">\n",
       "  <thead>\n",
       "    <tr style=\"text-align: right;\">\n",
       "      <th></th>\n",
       "      <th>customer_id</th>\n",
       "      <th>booked_at</th>\n",
       "      <th>end_datetime</th>\n",
       "    </tr>\n",
       "  </thead>\n",
       "  <tbody>\n",
       "    <tr>\n",
       "      <th>0</th>\n",
       "      <td>228996</td>\n",
       "      <td>2019-05-29 17:39:24.026685+02:00</td>\n",
       "      <td>2019-05-29 18:04:27.652201+02:00</td>\n",
       "    </tr>\n",
       "    <tr>\n",
       "      <th>1</th>\n",
       "      <td>180038</td>\n",
       "      <td>2019-05-29 18:00:56.419880+02:00</td>\n",
       "      <td>2019-05-29 18:15:29.491876+02:00</td>\n",
       "    </tr>\n",
       "    <tr>\n",
       "      <th>2</th>\n",
       "      <td>6813</td>\n",
       "      <td>2019-05-20 14:50:08.289332+02:00</td>\n",
       "      <td>2019-05-20 14:51:47.299094+02:00</td>\n",
       "    </tr>\n",
       "    <tr>\n",
       "      <th>3</th>\n",
       "      <td>223781</td>\n",
       "      <td>2019-05-20 23:41:41.834583+02:00</td>\n",
       "      <td>2019-05-20 23:42:05.264161+02:00</td>\n",
       "    </tr>\n",
       "    <tr>\n",
       "      <th>4</th>\n",
       "      <td>25837</td>\n",
       "      <td>2019-05-30 06:39:54.681279+02:00</td>\n",
       "      <td>2019-05-30 06:57:39.689848+02:00</td>\n",
       "    </tr>\n",
       "  </tbody>\n",
       "</table>\n",
       "</div>"
      ],
      "text/plain": [
       "   customer_id                        booked_at  \\\n",
       "0       228996 2019-05-29 17:39:24.026685+02:00   \n",
       "1       180038 2019-05-29 18:00:56.419880+02:00   \n",
       "2         6813 2019-05-20 14:50:08.289332+02:00   \n",
       "3       223781 2019-05-20 23:41:41.834583+02:00   \n",
       "4        25837 2019-05-30 06:39:54.681279+02:00   \n",
       "\n",
       "                      end_datetime  \n",
       "0 2019-05-29 18:04:27.652201+02:00  \n",
       "1 2019-05-29 18:15:29.491876+02:00  \n",
       "2 2019-05-20 14:51:47.299094+02:00  \n",
       "3 2019-05-20 23:42:05.264161+02:00  \n",
       "4 2019-05-30 06:57:39.689848+02:00  "
      ]
     },
     "execution_count": 3,
     "metadata": {},
     "output_type": "execute_result"
    }
   ],
   "source": [
    "rentals.head()"
   ]
  },
  {
   "cell_type": "code",
   "execution_count": 13,
   "metadata": {},
   "outputs": [
    {
     "data": {
      "image/png": "[encoded data removed]",
      "text/plain": [
       "<Figure size 432x288 with 1 Axes>"
      ]
     },
     "metadata": {
      "needs_background": "light"
     },
     "output_type": "display_data"
    }
   ],
   "source": [
    "import matplotlib.pyplot as plt\n",
    "\n",
    "\n",
    "by_hour = rentals['booked_at'].dt.hour.value_counts()\n",
    "by_hour.sort_index(inplace=True)\n",
    "plt.bar(by_hour.index, by_hour.values)\n",
    "plt.xlabel('Hour rental created at')\n",
    "plt.ylabel('Rental count')\n",
    "plt.show()"
   ]
  },
  {
   "cell_type": "code",
   "execution_count": 24,
   "metadata": {},
   "outputs": [
    {
     "data": {
      "image/png": "[encoded data removed]",
      "text/plain": [
       "<Figure size 432x288 with 1 Axes>"
      ]
     },
     "metadata": {
      "needs_background": "light"
     },
     "output_type": "display_data"
    }
   ],
   "source": [
    "by_day = rentals['booked_at'].dt.weekday_name.value_counts()\n",
    "# by_day.sort_index(inplace=True)\n",
    "by_day = by_day.reindex([\"Monday\", \"Tuesday\", \"Wednesday\", \"Thursday\", \"Friday\", \"Saturday\", \"Sunday\"])\n",
    "plt.bar(by_day.index, by_day.values)\n",
    "plt.xlabel('Day rental created at')\n",
    "plt.ylabel('Rental count')\n",
    "plt.show()"
   ]
  },
  {
   "cell_type": "code",
   "execution_count": null,
   "metadata": {},
   "outputs": [],
   "source": []
  }
 ],
 "metadata": {
  "kernelspec": {
   "display_name": "Python 3",
   "language": "python",
   "name": "python3"
  },
  "language_info": {
   "codemirror_mode": {
    "name": "ipython",
    "version": 3
   },
   "file_extension": ".py",
   "mimetype": "text/x-python",
   "name": "python",
   "nbconvert_exporter": "python",
   "pygments_lexer": "ipython3",
   "version": "3.7.1"
  }
 },
 "nbformat": 4,
 "nbformat_minor": 2
}
