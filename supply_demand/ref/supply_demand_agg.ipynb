{
 "cells": [
  {
   "cell_type": "code",
   "execution_count": 2,
   "metadata": {},
   "outputs": [],
   "source": [
    "# aggregate data on hours\n",
    "# merge the data"
   ]
  },
  {
   "cell_type": "code",
   "execution_count": 3,
   "metadata": {},
   "outputs": [],
   "source": [
    "import pandas as pd\n",
    "import numpy as np"
   ]
  },
  {
   "cell_type": "code",
   "execution_count": 35,
   "metadata": {},
   "outputs": [],
   "source": [
    "# settings\n",
    "regions_info = {\n",
    "     'oakland': dict(\n",
    "         x_min=-13618976.4221,\n",
    "         x_max=-13605638.1607,\n",
    "         y_min=4549035.0828,\n",
    "         y_max=4564284.2700,\n",
    "         timezone='America/Los_Angeles'),\n",
    "     'madrid': dict(\n",
    "         x_min=-416448.0394,\n",
    "         x_max=-406912.5201,\n",
    "         y_min=4921025.4356,\n",
    "         y_max=4931545.0816,\n",
    "         timezone='Europe/Madrid')\n",
    "}\n",
    "REGION = 'oakland'\n",
    "selected_region = regions_info['oakland']\n",
    "HEX_SIZE = 10000\n",
    "Q = -634\n",
    "R = -304"
   ]
  },
  {
   "cell_type": "code",
   "execution_count": 5,
   "metadata": {},
   "outputs": [],
   "source": [
    "def convert_datetime_columns(df, columns):\n",
    "    for col in columns:\n",
    "        df[col] = df[col].dt.tz_localize('UTC').dt.tz_convert(regions_info[REGION]['timezone'])"
   ]
  },
  {
   "cell_type": "code",
   "execution_count": 7,
   "metadata": {},
   "outputs": [],
   "source": [
    "def convert_to_mercator(lngs, lats):\n",
    "    # converts incoming iterable degrees to mercator\n",
    "    from pyproj import Proj  # put here for clarity\n",
    "    \n",
    "    projection = Proj(init='epsg:3857')\n",
    "    xs = []\n",
    "    ys = []\n",
    "    for lng, lat in zip(lngs, lats):\n",
    "        x, y = projection(lng, lat)\n",
    "        xs.append(x)\n",
    "        ys.append(y)\n",
    "    return xs, ys"
   ]
  },
  {
   "cell_type": "code",
   "execution_count": 55,
   "metadata": {},
   "outputs": [
    {
     "data": {
      "text/html": [
       "<div>\n",
       "<style scoped>\n",
       "    .dataframe tbody tr th:only-of-type {\n",
       "        vertical-align: middle;\n",
       "    }\n",
       "\n",
       "    .dataframe tbody tr th {\n",
       "        vertical-align: top;\n",
       "    }\n",
       "\n",
       "    .dataframe thead th {\n",
       "        text-align: right;\n",
       "    }\n",
       "</style>\n",
       "<table border=\"1\" class=\"dataframe\">\n",
       "  <thead>\n",
       "    <tr style=\"text-align: right;\">\n",
       "      <th></th>\n",
       "      <th>Date</th>\n",
       "      <th>count</th>\n",
       "      <th>hour</th>\n",
       "    </tr>\n",
       "  </thead>\n",
       "  <tbody>\n",
       "    <tr>\n",
       "      <th>0</th>\n",
       "      <td>2019-07-15 00:00:00</td>\n",
       "      <td>32</td>\n",
       "      <td>0</td>\n",
       "    </tr>\n",
       "    <tr>\n",
       "      <th>1</th>\n",
       "      <td>2019-07-15 01:00:00</td>\n",
       "      <td>51</td>\n",
       "      <td>1</td>\n",
       "    </tr>\n",
       "    <tr>\n",
       "      <th>2</th>\n",
       "      <td>2019-07-15 02:00:00</td>\n",
       "      <td>45</td>\n",
       "      <td>2</td>\n",
       "    </tr>\n",
       "    <tr>\n",
       "      <th>3</th>\n",
       "      <td>2019-07-15 03:00:00</td>\n",
       "      <td>38</td>\n",
       "      <td>3</td>\n",
       "    </tr>\n",
       "    <tr>\n",
       "      <th>4</th>\n",
       "      <td>2019-07-15 04:00:00</td>\n",
       "      <td>32</td>\n",
       "      <td>4</td>\n",
       "    </tr>\n",
       "  </tbody>\n",
       "</table>\n",
       "</div>"
      ],
      "text/plain": [
       "                 Date  count  hour\n",
       "0 2019-07-15 00:00:00     32     0\n",
       "1 2019-07-15 01:00:00     51     1\n",
       "2 2019-07-15 02:00:00     45     2\n",
       "3 2019-07-15 03:00:00     38     3\n",
       "4 2019-07-15 04:00:00     32     4"
      ]
     },
     "execution_count": 55,
     "metadata": {},
     "output_type": "execute_result"
    }
   ],
   "source": [
    "VEHICLE_DATAFILE = 'vehicle_availability_data_darwin_20190715_20190802_with_dow_hour_mask.csv'\n",
    "VEHICLE_DT_COLS = ['available_at', 'unavailable_at']\n",
    "\n",
    "supply_df = pd.read_csv(\n",
    "        VEHICLE_DATAFILE,\n",
    "        parse_dates=VEHICLE_DT_COLS,\n",
    "        infer_datetime_format=True\n",
    "    ).dropna()\n",
    "\n",
    "supply_df = supply_df.assign(Date=supply_df.available_at.dt.round('H'))\n",
    "\n",
    "supply_df['start_merc_lng'], supply_df['start_merc_lat'] = convert_to_mercator(\n",
    "    supply_df['lng'], supply_df['lat'])\n",
    "\n",
    "from bokeh.util.hex import cartesian_to_axial\n",
    "supply_df['q'], supply_df['r'] = cartesian_to_axial(\n",
    "    supply_df['start_merc_lng'],\n",
    "    supply_df['start_merc_lat'],\n",
    "    size=HEX_SIZE,\n",
    "    orientation='pointytop'\n",
    ")\n",
    "\n",
    "supply_df = supply_df[(supply_df['q'] == Q) & (supply_df['r'] == R)]\n",
    "\n",
    "summed_df = supply_df.groupby(['Date']).size()\n",
    "summed_df = summed_df.to_frame().reset_index()\n",
    "summed_df['hour'] = summed_df['Date'].dt.hour\n",
    "summed_df.columns = ['Date', 'count', 'hour']\n",
    "summed_df.to_csv('supply_data_darwin_20190715_20190802.csv')\n",
    "summed_df.head()"
   ]
  },
  {
   "cell_type": "code",
   "execution_count": 56,
   "metadata": {},
   "outputs": [],
   "source": [
    "# import rental count data\n",
    "\n",
    "rental_datafile = 'rental_data_darwin_20190715_20190802_datalake.csv'\n",
    "rental_df = pd.read_csv(\n",
    "    rental_datafile,\n",
    "    parse_dates=['reserved_at', 'booked_at', 'ended_at'],\n",
    "    infer_datetime_format=True\n",
    ")\n",
    "\n",
    "rental_df = rental_df.assign(Date=rental_df.reserved_at.dt.round('H'))\n",
    "\n",
    "rental_df['start_merc_lng'], rental_df['start_merc_lat'] = convert_to_mercator(\n",
    "    rental_df['start_location_lng'], rental_df['start_location_lat'])\n",
    "\n",
    "from bokeh.util.hex import cartesian_to_axial\n",
    "rental_df['q'], rental_df['r'] = cartesian_to_axial(\n",
    "    rental_df['start_merc_lng'],\n",
    "    rental_df['start_merc_lat'],\n",
    "    size=HEX_SIZE,\n",
    "    orientation='pointytop'\n",
    ")\n",
    "\n",
    "rental_df = rental_df[(rental_df['q'] == Q) & (rental_df['r'] == R)]"
   ]
  },
  {
   "cell_type": "code",
   "execution_count": 57,
   "metadata": {},
   "outputs": [
    {
     "name": "stdout",
     "output_type": "stream",
     "text": [
      "lat_centerish: 37.8601415\n",
      "lng_centerish: -122.27936\n"
     ]
    }
   ],
   "source": [
    "# calculate center-ish of hex\n",
    "# get min/max lat and get min/max lng\n",
    "# divide sum of values by 2\n",
    "lat_centerish = (rental_df['start_location_lat'].max() + rental_df['start_location_lat'].min())/2\n",
    "lng_centerish = (rental_df['start_location_lng'].max() + rental_df['start_location_lng'].min())/2\n",
    "\n",
    "print(f'lat_centerish: {lat_centerish}')\n",
    "print(f'lng_centerish: {lng_centerish}')"
   ]
  },
  {
   "cell_type": "code",
   "execution_count": 58,
   "metadata": {},
   "outputs": [
    {
     "data": {
      "text/html": [
       "<div>\n",
       "<style scoped>\n",
       "    .dataframe tbody tr th:only-of-type {\n",
       "        vertical-align: middle;\n",
       "    }\n",
       "\n",
       "    .dataframe tbody tr th {\n",
       "        vertical-align: top;\n",
       "    }\n",
       "\n",
       "    .dataframe thead th {\n",
       "        text-align: right;\n",
       "    }\n",
       "</style>\n",
       "<table border=\"1\" class=\"dataframe\">\n",
       "  <thead>\n",
       "    <tr style=\"text-align: right;\">\n",
       "      <th></th>\n",
       "      <th>Date</th>\n",
       "      <th>count</th>\n",
       "      <th>hour</th>\n",
       "    </tr>\n",
       "  </thead>\n",
       "  <tbody>\n",
       "    <tr>\n",
       "      <th>0</th>\n",
       "      <td>2019-01-05 19:00:00</td>\n",
       "      <td>1</td>\n",
       "      <td>19</td>\n",
       "    </tr>\n",
       "    <tr>\n",
       "      <th>1</th>\n",
       "      <td>2019-02-17 01:00:00</td>\n",
       "      <td>1</td>\n",
       "      <td>1</td>\n",
       "    </tr>\n",
       "    <tr>\n",
       "      <th>2</th>\n",
       "      <td>2019-02-17 16:00:00</td>\n",
       "      <td>1</td>\n",
       "      <td>16</td>\n",
       "    </tr>\n",
       "    <tr>\n",
       "      <th>3</th>\n",
       "      <td>2019-03-09 16:00:00</td>\n",
       "      <td>1</td>\n",
       "      <td>16</td>\n",
       "    </tr>\n",
       "    <tr>\n",
       "      <th>4</th>\n",
       "      <td>2019-03-10 22:00:00</td>\n",
       "      <td>1</td>\n",
       "      <td>22</td>\n",
       "    </tr>\n",
       "  </tbody>\n",
       "</table>\n",
       "</div>"
      ],
      "text/plain": [
       "                 Date  count  hour\n",
       "0 2019-01-05 19:00:00      1    19\n",
       "1 2019-02-17 01:00:00      1     1\n",
       "2 2019-02-17 16:00:00      1    16\n",
       "3 2019-03-09 16:00:00      1    16\n",
       "4 2019-03-10 22:00:00      1    22"
      ]
     },
     "execution_count": 58,
     "metadata": {},
     "output_type": "execute_result"
    }
   ],
   "source": [
    "rental_df = rental_df.groupby(['Date']).size()\n",
    "rental_df = rental_df.to_frame().reset_index()\n",
    "rental_df['hour'] = rental_df['Date'].dt.hour\n",
    "rental_df.columns = ['Date', 'count', 'hour']\n",
    "rental_df.head()"
   ]
  },
  {
   "cell_type": "code",
   "execution_count": 59,
   "metadata": {},
   "outputs": [],
   "source": [
    "merged_df = rental_df.merge(summed_df, on='Date', suffixes=('_demand', '_supply'))\n",
    "merged_df = merged_df.drop(['hour_demand'], axis=1)\n",
    "merged_df.columns = ['Date', 'Demand_Count', 'Supply_Count', 'hour']\n",
    "merged_df.to_csv(f'supply_demand_counts_20190715_20190802_hex_({Q},{R}).csv')"
   ]
  },
  {
   "cell_type": "code",
   "execution_count": null,
   "metadata": {},
   "outputs": [],
   "source": []
  }
 ],
 "metadata": {
  "kernelspec": {
   "display_name": "Python 3",
   "language": "python",
   "name": "python3"
  },
  "language_info": {
   "codemirror_mode": {
    "name": "ipython",
    "version": 3
   },
   "file_extension": ".py",
   "mimetype": "text/x-python",
   "name": "python",
   "nbconvert_exporter": "python",
   "pygments_lexer": "ipython3",
   "version": "3.7.1"
  }
 },
 "nbformat": 4,
 "nbformat_minor": 2
}
